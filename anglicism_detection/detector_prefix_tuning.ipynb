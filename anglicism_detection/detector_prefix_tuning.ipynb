{
 "cells": [
  {
   "cell_type": "markdown",
   "id": "13c2dfe2-b17d-406e-9551-d0dd83ba6a8f",
   "metadata": {},
   "source": [
    "## Ноутбук для обучения и валидации модели детекции с использованием префиксов"
   ]
  },
  {
   "cell_type": "markdown",
   "id": "6eff8e40-5180-43d7-b228-5c23d8130a7b",
   "metadata": {},
   "source": [
    "### Импортируем библотеки"
   ]
  },
  {
   "cell_type": "code",
   "execution_count": 353,
   "id": "379999d6-ca16-4d70-971e-cc7585c76338",
   "metadata": {
    "id": "379999d6-ca16-4d70-971e-cc7585c76338",
    "tags": []
   },
   "outputs": [],
   "source": [
    "from transformers import AutoTokenizer, AutoModel\n",
    "import pandas as pd\n",
    "import numpy as np\n",
    "import re\n",
    "import os\n",
    "import random\n",
    "import torch\n",
    "import torch.nn as nn\n",
    "import torch.nn.functional as F\n",
    "from sklearn.metrics import f1_score, mean_squared_error, precision_score, accuracy_score, recall_score\n",
    "from tqdm.auto import tqdm\n",
    "from datasets import load_dataset, load_from_disk\n",
    "import matplotlib.pyplot as plt"
   ]
  },
  {
   "cell_type": "markdown",
   "id": "3d95fd61-e338-4900-bf6a-0682504148a9",
   "metadata": {},
   "source": [
    "### Фиксируем зависимости"
   ]
  },
  {
   "cell_type": "code",
   "execution_count": 355,
   "id": "8a32c66f-4ad6-4d35-9e29-f8248df83c76",
   "metadata": {},
   "outputs": [],
   "source": [
    "device = 'cuda'\n",
    "model_path = 'sberbank-ai/ruRoberta-large'\n",
    "dataset_path = 'shershen/ru_anglicism'\n",
    "out_dir = 'weights'\n",
    "prefix_len = 25\n",
    "linear_lr = 1e-5\n",
    "prefix_lr = 1e-3\n",
    "epochs = 5\n",
    "threshold = 0.8"
   ]
  },
  {
   "cell_type": "markdown",
   "id": "98d6960c-2038-4be8-a6e1-d2fbb45d7db5",
   "metadata": {},
   "source": [
    "### Функция для создания ner-маски"
   ]
  },
  {
   "cell_type": "code",
   "execution_count": 332,
   "id": "46de29d6-0250-4cd8-aaed-16eb6373d021",
   "metadata": {
    "id": "46de29d6-0250-4cd8-aaed-16eb6373d021",
    "tags": []
   },
   "outputs": [],
   "source": [
    "def create_mask(full_txts, phrases, max_length=512):\n",
    "    if isinstance(full_txts, str):\n",
    "        full_txts = [full_txts]\n",
    "        phrases = [phrases]\n",
    "    toks = tokenizer(full_txts, return_offsets_mapping=True,truncation=True,max_length=max_length,padding=True,return_tensors='pt')\n",
    "    all_maps = []\n",
    "    phrases = [x.split(', ') for x in phrases]\n",
    "    for phrase,full_txt, off_map, att_mask in zip(phrases, full_txts,toks['offset_mapping'], toks['attention_mask']):\n",
    "        local_maps = []\n",
    "        for k, phr in enumerate(phrase):\n",
    "            first_end = False\n",
    "            ner_map = []\n",
    "            start_point = full_txt.find(phr)\n",
    "            end_point = start_point + len(phr)\n",
    "            for s0,e0 in off_map.detach().cpu().numpy():\n",
    "                if first_end:\n",
    "                    ner_map.append(-100)\n",
    "                elif s0!=e0 and s0>=start_point and e0<=end_point:\n",
    "                    ner_map.append(1)\n",
    "                elif s0!=e0 and e0>=start_point and e0<=end_point:\n",
    "                    ner_map.append(1)\n",
    "                elif s0==e0:\n",
    "                    ner_map.append(-100)\n",
    "                elif e0>len(full_txt):\n",
    "                    ner_map.append(-100)\n",
    "                    first_end = True\n",
    "                else:\n",
    "                    ner_map.append(0)\n",
    "            if (len(phrase) > 1) and (k+1 == len(phrase)):\n",
    "                ner_map = (np.array(ner_map) + np.array(local_maps[-1])).tolist()\n",
    "                ner_map = [-100 if x == -200 else x for x in ner_map]\n",
    "                ner_map = [1 if x == 2 else x for x in ner_map]\n",
    "            if k+1 == len(phrase):\n",
    "                all_maps.append(ner_map)\n",
    "            else:\n",
    "                local_maps.append(ner_map)\n",
    "    return all_maps"
   ]
  },
  {
   "cell_type": "markdown",
   "id": "07bce60d-78ba-4e7a-adbb-13c7cdc7380f",
   "metadata": {},
   "source": [
    "### Скачиваем датасет и веса модели"
   ]
  },
  {
   "cell_type": "code",
   "execution_count": 333,
   "id": "hg2auajvufg_",
   "metadata": {
    "colab": {
     "base_uri": "https://localhost:8080/"
    },
    "id": "hg2auajvufg_",
    "outputId": "c67000c8-d474-462e-f561-77be1576b1f5"
   },
   "outputs": [
    {
     "name": "stderr",
     "output_type": "stream",
     "text": [
      "No config specified, defaulting to: ru_anglicism/default\n",
      "Found cached dataset ru_anglicism (/home/jovyan/.cache/huggingface/datasets/shershen___ru_anglicism/default/0.1.0/cf5c584d109a310dfa58dcd48726f1f13d4327267043dfa9c2130e9b02217838)\n"
     ]
    },
    {
     "data": {
      "application/vnd.jupyter.widget-view+json": {
       "model_id": "83c96253e0224b5ca58a6bb6368ede70",
       "version_major": 2,
       "version_minor": 0
      },
      "text/plain": [
       "  0%|          | 0/2 [00:00<?, ?it/s]"
      ]
     },
     "metadata": {},
     "output_type": "display_data"
    }
   ],
   "source": [
    "df = load_dataset(dataset_path)\n",
    "train_df = pd.DataFrame(df['train'])\n",
    "test_df = pd.DataFrame(df['test'])"
   ]
  },
  {
   "cell_type": "code",
   "execution_count": 25,
   "id": "7da83044-20a4-452b-a819-66a09e724cdd",
   "metadata": {
    "colab": {
     "base_uri": "https://localhost:8080/",
     "height": 252,
     "referenced_widgets": [
      "0c1bb4a97dd945c397aa86fa38dd4b51",
      "ddb2bbd3069b4be5930ee88e4757efe7",
      "76d15e3074db4edb83d52b086084718a",
      "10eb08e76e3e4831b301e22593b96aae",
      "914c7a851fba4f4e874371a638f3b2be",
      "06f20c373a634063b4024225ce5717bd",
      "271038e9bac04a21b7f4309d19911efa",
      "25c1a38b9be44ad193bb9a293c45be6d",
      "2eb4b8b4b96d41229f08bbf7830c3c0e",
      "8186b3b5a3384c13982b686c8ade2341",
      "5d39cdf4130f48a0b1557c394d992fb6",
      "5a47f20527fb46949c2525d16e0be182",
      "8fa11d26a18d4d4a9bd7698ff76f859f",
      "40fdd07464344e638b8ac3d9e4c8841d",
      "acb8643891ff4eae9da400f73757af5e",
      "dddcb8bb80294f11a4d4d10ce3530c81",
      "67488c5f508e48b4a1d2e4e0a1a35fb5",
      "60015792e7ca443dbd66289fac63be5f",
      "25ed34668e4f4b2784d043ee756376bf",
      "c0a63fb87e084a47a79389495e99f59f",
      "03d731299a434a2794886bdb7f9283fa",
      "6559fd7175084329b208d96bc32d2979",
      "be397084787d4cfabecaa217bf277f5d",
      "ea787adcaff1431cb6e3d6a8f62c9e79",
      "67e185a9caf4446a9bc59fdec9bb0bac",
      "c2274b8bbd4b415ca12bf0a36590e275",
      "3aca93d6f13149e9b3d39b027cb60084",
      "d865a62b9db64e748e421f3c14563968",
      "4c270512b1b14b9a84f34cf1a17ce9f8",
      "9ad803b721bc4abfac526f67c0fd313f",
      "fe51dd18b7da44b285d27de51322a037",
      "fc2c120736c94d3e89aabc0a3422b396",
      "12f1735fd2934c819df12cbae1d217c5",
      "53d82cb2c84b45b59c0cdab77a4f9e87",
      "4be829a154a84318b40d96616ac34d0f",
      "d8fea9276e5d48d8918542c0109fa239",
      "db9a08b41b6c4816ab42efda1b1080f3",
      "0017f9cc791d4fde897a19d0154e032a",
      "6e2dfe9579cd4522a3e00bde76502564",
      "d3de90c3c1ce40c6adb00f7594b3e75c",
      "f1c039f0994f4077a37b1c69452e7455",
      "0b3c70b313234a8192f307da368bd85a",
      "ddcac87e8fea4c4db32a2dd9a8257026",
      "da6418a2f32145cca92f1b2cebfab979"
     ]
    },
    "id": "7da83044-20a4-452b-a819-66a09e724cdd",
    "outputId": "cef0d303-c33d-4917-963e-567a460f323f",
    "tags": []
   },
   "outputs": [
    {
     "data": {
      "application/vnd.jupyter.widget-view+json": {
       "model_id": "351b25238c2b4abfbc1dd167bd5abb8a",
       "version_major": 2,
       "version_minor": 0
      },
      "text/plain": [
       "Downloading (…)lve/main/config.json:   0%|          | 0.00/674 [00:00<?, ?B/s]"
      ]
     },
     "metadata": {},
     "output_type": "display_data"
    },
    {
     "data": {
      "application/vnd.jupyter.widget-view+json": {
       "model_id": "0d603fea929940628570d391fc9dc5b8",
       "version_major": 2,
       "version_minor": 0
      },
      "text/plain": [
       "Downloading (…)olve/main/vocab.json:   0%|          | 0.00/1.81M [00:00<?, ?B/s]"
      ]
     },
     "metadata": {},
     "output_type": "display_data"
    },
    {
     "data": {
      "application/vnd.jupyter.widget-view+json": {
       "model_id": "c15c456620f84f9faf4c4a0a5b689d10",
       "version_major": 2,
       "version_minor": 0
      },
      "text/plain": [
       "Downloading (…)olve/main/merges.txt:   0%|          | 0.00/1.37M [00:00<?, ?B/s]"
      ]
     },
     "metadata": {},
     "output_type": "display_data"
    },
    {
     "data": {
      "application/vnd.jupyter.widget-view+json": {
       "model_id": "161760e5a405419ca967809c413ef213",
       "version_major": 2,
       "version_minor": 0
      },
      "text/plain": [
       "Downloading pytorch_model.bin:   0%|          | 0.00/1.42G [00:00<?, ?B/s]"
      ]
     },
     "metadata": {},
     "output_type": "display_data"
    },
    {
     "name": "stderr",
     "output_type": "stream",
     "text": [
      "Some weights of the model checkpoint at sberbank-ai/ruRoberta-large were not used when initializing RobertaModel: ['lm_head.decoder.weight', 'lm_head.dense.bias', 'lm_head.layer_norm.bias', 'lm_head.bias', 'lm_head.layer_norm.weight', 'lm_head.dense.weight', 'lm_head.decoder.bias']\n",
      "- This IS expected if you are initializing RobertaModel from the checkpoint of a model trained on another task or with another architecture (e.g. initializing a BertForSequenceClassification model from a BertForPreTraining model).\n",
      "- This IS NOT expected if you are initializing RobertaModel from the checkpoint of a model that you expect to be exactly identical (initializing a BertForSequenceClassification model from a BertForSequenceClassification model).\n",
      "Some weights of RobertaModel were not initialized from the model checkpoint at sberbank-ai/ruRoberta-large and are newly initialized: ['roberta.pooler.dense.bias', 'roberta.pooler.dense.weight']\n",
      "You should probably TRAIN this model on a down-stream task to be able to use it for predictions and inference.\n"
     ]
    }
   ],
   "source": [
    "tokenizer = AutoTokenizer.from_pretrained(model_path)\n",
    "model = AutoModel.from_pretrained(model_path).to(device)"
   ]
  },
  {
   "cell_type": "code",
   "execution_count": 318,
   "id": "172918e0-de93-4349-8e14-8580a358e7b8",
   "metadata": {},
   "outputs": [
    {
     "data": {
      "text/html": [
       "<div>\n",
       "<style scoped>\n",
       "    .dataframe tbody tr th:only-of-type {\n",
       "        vertical-align: middle;\n",
       "    }\n",
       "\n",
       "    .dataframe tbody tr th {\n",
       "        vertical-align: top;\n",
       "    }\n",
       "\n",
       "    .dataframe thead th {\n",
       "        text-align: right;\n",
       "    }\n",
       "</style>\n",
       "<table border=\"1\" class=\"dataframe\">\n",
       "  <thead>\n",
       "    <tr style=\"text-align: right;\">\n",
       "      <th></th>\n",
       "      <th>word</th>\n",
       "      <th>form</th>\n",
       "      <th>sentence</th>\n",
       "      <th>paraphrase</th>\n",
       "    </tr>\n",
       "  </thead>\n",
       "  <tbody>\n",
       "    <tr>\n",
       "      <th>0</th>\n",
       "      <td>кринж</td>\n",
       "      <td>кринжовую</td>\n",
       "      <td>Моя подруга рассказала кринжовую историю.</td>\n",
       "      <td>Моя подруга рассказала стыдную историю.</td>\n",
       "    </tr>\n",
       "    <tr>\n",
       "      <th>1</th>\n",
       "      <td>кринж</td>\n",
       "      <td>кринж</td>\n",
       "      <td>Я словил кринж после этого ролика.</td>\n",
       "      <td>Я испытал стыд после этого ролика.</td>\n",
       "    </tr>\n",
       "    <tr>\n",
       "      <th>2</th>\n",
       "      <td>кринж</td>\n",
       "      <td>кринж</td>\n",
       "      <td>Ситуация полный кринж.</td>\n",
       "      <td>Ситуация полный стыд.</td>\n",
       "    </tr>\n",
       "    <tr>\n",
       "      <th>3</th>\n",
       "      <td>лук, маркетинг</td>\n",
       "      <td>лук, маркетинга</td>\n",
       "      <td>Эта девушка предложила снять новый лук с новой...</td>\n",
       "      <td>Эта девушка предложила снять новый образ с нов...</td>\n",
       "    </tr>\n",
       "    <tr>\n",
       "      <th>4</th>\n",
       "      <td>лукбук</td>\n",
       "      <td>лукбуке</td>\n",
       "      <td>\"Розница предусмотрена для тех, у кого нет вре...</td>\n",
       "      <td>\"Розница предусмотрена для тех, у кого нет вре...</td>\n",
       "    </tr>\n",
       "    <tr>\n",
       "      <th>5</th>\n",
       "      <td>аутфит</td>\n",
       "      <td>аутфит</td>\n",
       "      <td>Ее модный аутфит был продуман до мелочей, поэт...</td>\n",
       "      <td>Ее модный образ был продуман до мелочей, поэто...</td>\n",
       "    </tr>\n",
       "    <tr>\n",
       "      <th>6</th>\n",
       "      <td>чекать</td>\n",
       "      <td>чекну</td>\n",
       "      <td>Кинь ссылку, чекну, вдруг знаю его.</td>\n",
       "      <td>Кинь ссылку, проверю, вдруг знаю его.</td>\n",
       "    </tr>\n",
       "    <tr>\n",
       "      <th>7</th>\n",
       "      <td>чекать</td>\n",
       "      <td>чекни</td>\n",
       "      <td>Если ты не до конца уверен в этой инфе, лучше ...</td>\n",
       "      <td>Если ты не до конца уверен в этой инфе, лучше ...</td>\n",
       "    </tr>\n",
       "    <tr>\n",
       "      <th>8</th>\n",
       "      <td>чекать, айтишник</td>\n",
       "      <td>чекни, айтишника</td>\n",
       "      <td>Вован, чекни нашего нового айтишника, какой-то...</td>\n",
       "      <td>Вован, проверь нашего нового программиста, как...</td>\n",
       "    </tr>\n",
       "    <tr>\n",
       "      <th>9</th>\n",
       "      <td>хайп</td>\n",
       "      <td>хайп</td>\n",
       "      <td>Вокруг этой темы подняли ужасный хайп.</td>\n",
       "      <td>Вокруг этой темы подняли ужасный шумиху.</td>\n",
       "    </tr>\n",
       "  </tbody>\n",
       "</table>\n",
       "</div>"
      ],
      "text/plain": [
       "               word              form  \\\n",
       "0             кринж         кринжовую   \n",
       "1             кринж             кринж   \n",
       "2             кринж             кринж   \n",
       "3    лук, маркетинг   лук, маркетинга   \n",
       "4            лукбук           лукбуке   \n",
       "5            аутфит            аутфит   \n",
       "6            чекать             чекну   \n",
       "7            чекать             чекни   \n",
       "8  чекать, айтишник  чекни, айтишника   \n",
       "9              хайп              хайп   \n",
       "\n",
       "                                            sentence  \\\n",
       "0          Моя подруга рассказала кринжовую историю.   \n",
       "1                 Я словил кринж после этого ролика.   \n",
       "2                             Ситуация полный кринж.   \n",
       "3  Эта девушка предложила снять новый лук с новой...   \n",
       "4  \"Розница предусмотрена для тех, у кого нет вре...   \n",
       "5  Ее модный аутфит был продуман до мелочей, поэт...   \n",
       "6                Кинь ссылку, чекну, вдруг знаю его.   \n",
       "7  Если ты не до конца уверен в этой инфе, лучше ...   \n",
       "8  Вован, чекни нашего нового айтишника, какой-то...   \n",
       "9             Вокруг этой темы подняли ужасный хайп.   \n",
       "\n",
       "                                          paraphrase  \n",
       "0            Моя подруга рассказала стыдную историю.  \n",
       "1                 Я испытал стыд после этого ролика.  \n",
       "2                              Ситуация полный стыд.  \n",
       "3  Эта девушка предложила снять новый образ с нов...  \n",
       "4  \"Розница предусмотрена для тех, у кого нет вре...  \n",
       "5  Ее модный образ был продуман до мелочей, поэто...  \n",
       "6              Кинь ссылку, проверю, вдруг знаю его.  \n",
       "7  Если ты не до конца уверен в этой инфе, лучше ...  \n",
       "8  Вован, проверь нашего нового программиста, как...  \n",
       "9           Вокруг этой темы подняли ужасный шумиху.  "
      ]
     },
     "execution_count": 318,
     "metadata": {},
     "output_type": "execute_result"
    }
   ],
   "source": [
    "train_df.head(10)"
   ]
  },
  {
   "cell_type": "code",
   "execution_count": 319,
   "id": "ac083af0-bfc8-48bf-998f-80a1138b57bc",
   "metadata": {},
   "outputs": [
    {
     "data": {
      "text/html": [
       "<div>\n",
       "<style scoped>\n",
       "    .dataframe tbody tr th:only-of-type {\n",
       "        vertical-align: middle;\n",
       "    }\n",
       "\n",
       "    .dataframe tbody tr th {\n",
       "        vertical-align: top;\n",
       "    }\n",
       "\n",
       "    .dataframe thead th {\n",
       "        text-align: right;\n",
       "    }\n",
       "</style>\n",
       "<table border=\"1\" class=\"dataframe\">\n",
       "  <thead>\n",
       "    <tr style=\"text-align: right;\">\n",
       "      <th></th>\n",
       "      <th>word</th>\n",
       "      <th>form</th>\n",
       "      <th>sentence</th>\n",
       "      <th>paraphrase</th>\n",
       "    </tr>\n",
       "  </thead>\n",
       "  <tbody>\n",
       "    <tr>\n",
       "      <th>0</th>\n",
       "      <td>юзер, айди</td>\n",
       "      <td>юзер, айди</td>\n",
       "      <td>Для входа в учетную запись юзер должен ввести ...</td>\n",
       "      <td>Для входа в учетную запись пользователь должен...</td>\n",
       "    </tr>\n",
       "    <tr>\n",
       "      <th>1</th>\n",
       "      <td>скринить</td>\n",
       "      <td>скринит</td>\n",
       "      <td>Эта дура скринит переписки и постит в инстаграм.</td>\n",
       "      <td>Эта дура фотографирует переписки и выставляет ...</td>\n",
       "    </tr>\n",
       "    <tr>\n",
       "      <th>2</th>\n",
       "      <td>вайб</td>\n",
       "      <td>вайб</td>\n",
       "      <td>Не могу это объяснить, но у четверга и 16:00 о...</td>\n",
       "      <td>Не могу это объяснить, но у четверга и 16:00 о...</td>\n",
       "    </tr>\n",
       "    <tr>\n",
       "      <th>3</th>\n",
       "      <td>вайб</td>\n",
       "      <td>вайб</td>\n",
       "      <td>\"Вчера выпал пушистый снег и в воздухе царил н...</td>\n",
       "      <td>\"Вчера выпал пушистый снег и в воздухе царило ...</td>\n",
       "    </tr>\n",
       "    <tr>\n",
       "      <th>4</th>\n",
       "      <td>чек-ап</td>\n",
       "      <td>чекап</td>\n",
       "      <td>Программа чекап в ИНВИТРО создана специально д...</td>\n",
       "      <td>Программа комплексного медицинского обследован...</td>\n",
       "    </tr>\n",
       "    <tr>\n",
       "      <th>5</th>\n",
       "      <td>чек-ап</td>\n",
       "      <td>Чек-Ап</td>\n",
       "      <td>В ЛДЦ \"Кутузовский\" в Москве вы можете пройти ...</td>\n",
       "      <td>В ЛДЦ \"Кутузовский\" в Москве вы можете пройти ...</td>\n",
       "    </tr>\n",
       "    <tr>\n",
       "      <th>6</th>\n",
       "      <td>чек-ап</td>\n",
       "      <td>чек-ап</td>\n",
       "      <td>Женский и мужской чек-ап, гинекологический чек...</td>\n",
       "      <td>Комплексное медицинское обследование женщин и ...</td>\n",
       "    </tr>\n",
       "    <tr>\n",
       "      <th>7</th>\n",
       "      <td>спич</td>\n",
       "      <td>спичем</td>\n",
       "      <td>\"Леди и гамильтоны\", торжественно сказал я сло...</td>\n",
       "      <td>\"Леди и гамильтоны\", торжественно сказал я сло...</td>\n",
       "    </tr>\n",
       "    <tr>\n",
       "      <th>8</th>\n",
       "      <td>спич</td>\n",
       "      <td>спич</td>\n",
       "      <td>Вступительный спич с ходу подхватил Денис Грук...</td>\n",
       "      <td>Вступительную речь с ходу подхватил Денис Грук...</td>\n",
       "    </tr>\n",
       "    <tr>\n",
       "      <th>9</th>\n",
       "      <td>спич</td>\n",
       "      <td>спича</td>\n",
       "      <td>Смысл конкретно того спича заключался в том, ч...</td>\n",
       "      <td>Смысл конкретно той речи заключалась в том, чт...</td>\n",
       "    </tr>\n",
       "  </tbody>\n",
       "</table>\n",
       "</div>"
      ],
      "text/plain": [
       "         word        form                                           sentence  \\\n",
       "0  юзер, айди  юзер, айди  Для входа в учетную запись юзер должен ввести ...   \n",
       "1    скринить     скринит   Эта дура скринит переписки и постит в инстаграм.   \n",
       "2        вайб        вайб  Не могу это объяснить, но у четверга и 16:00 о...   \n",
       "3        вайб        вайб  \"Вчера выпал пушистый снег и в воздухе царил н...   \n",
       "4      чек-ап       чекап  Программа чекап в ИНВИТРО создана специально д...   \n",
       "5      чек-ап      Чек-Ап  В ЛДЦ \"Кутузовский\" в Москве вы можете пройти ...   \n",
       "6      чек-ап      чек-ап  Женский и мужской чек-ап, гинекологический чек...   \n",
       "7        спич      спичем  \"Леди и гамильтоны\", торжественно сказал я сло...   \n",
       "8        спич        спич  Вступительный спич с ходу подхватил Денис Грук...   \n",
       "9        спич       спича  Смысл конкретно того спича заключался в том, ч...   \n",
       "\n",
       "                                          paraphrase  \n",
       "0  Для входа в учетную запись пользователь должен...  \n",
       "1  Эта дура фотографирует переписки и выставляет ...  \n",
       "2  Не могу это объяснить, но у четверга и 16:00 о...  \n",
       "3  \"Вчера выпал пушистый снег и в воздухе царило ...  \n",
       "4  Программа комплексного медицинского обследован...  \n",
       "5  В ЛДЦ \"Кутузовский\" в Москве вы можете пройти ...  \n",
       "6  Комплексное медицинское обследование женщин и ...  \n",
       "7  \"Леди и гамильтоны\", торжественно сказал я сло...  \n",
       "8  Вступительную речь с ходу подхватил Денис Грук...  \n",
       "9  Смысл конкретно той речи заключалась в том, чт...  "
      ]
     },
     "execution_count": 319,
     "metadata": {},
     "output_type": "execute_result"
    }
   ],
   "source": [
    "test_df.head(10)"
   ]
  },
  {
   "cell_type": "markdown",
   "id": "94794178-4798-4948-a16c-86bb14d2ec23",
   "metadata": {},
   "source": [
    "### Функции для обучения и валидации"
   ]
  },
  {
   "cell_type": "code",
   "execution_count": 35,
   "id": "05342930-4a2d-4524-b388-e1cfa83fbbbb",
   "metadata": {
    "id": "05342930-4a2d-4524-b388-e1cfa83fbbbb",
    "tags": []
   },
   "outputs": [],
   "source": [
    "def ner_train(clsf_layer, past_key_tensor,df, past_key_lr=1e-3, linear_lr=1e-3, dx=16):\n",
    "    loss_func = nn.CrossEntropyLoss(torch.tensor([1.,10.])).to(device)\n",
    "    optimizer = torch.optim.AdamW([\n",
    "        {'params': past_key_tensor, 'lr': past_key_lr},\n",
    "        {'params': [x for x in clsf_layer.parameters()], 'lr': linear_lr}\n",
    "    ])\n",
    "    losses = []\n",
    "    print('Training...')\n",
    "    for pos in tqdm(range(0,len(df),dx)):\n",
    "        optimizer.zero_grad()\n",
    "        txt = df['sentence'].values[pos:pos+dx].tolist()\n",
    "        word = df['form'].values[pos:pos+dx].tolist()\n",
    "        use_past = [x.repeat_interleave(len(txt),dim=1) for x in past_key_tensor]\n",
    "        toks = tokenizer(txt, truncation=True, max_length=512-past_key_tensor[0].shape[3],padding=True,return_tensors='pt').to(device)\n",
    "        att_mask = torch.cat([torch.ones(len(txt),past_key_tensor[0].shape[3]).to(device),\n",
    "                              toks['attention_mask']],dim=1)\n",
    "        out = model(toks['input_ids'],attention_mask = att_mask, past_key_values=use_past)['last_hidden_state']\n",
    "        \n",
    "        target = torch.tensor(create_mask(txt, word,max_length=512-past_key_tensor[0].shape[3])).to(device)\n",
    "        out = clsf_layer(out)\n",
    "        loss = loss_func(out.view(-1,out.size(-1)),target.view(-1))\n",
    "        losses.append(loss.item())\n",
    "        loss.backward()\n",
    "        optimizer.step()\n",
    "    return(losses) "
   ]
  },
  {
   "cell_type": "code",
   "execution_count": 264,
   "id": "6bf26083-2649-428a-9c06-94fbf06446bc",
   "metadata": {
    "id": "6bf26083-2649-428a-9c06-94fbf06446bc",
    "tags": []
   },
   "outputs": [],
   "source": [
    "def ner_val(clsf_layer, past_key_tensor,df, threshold=0.8, dx=16):\n",
    "    loss_func = nn.CrossEntropyLoss(torch.tensor([1.,10.])).to(device)\n",
    "    losses = []\n",
    "    precision_ner_score = []\n",
    "    recall_ner_score = []\n",
    "    print('Validating...')\n",
    "    for pos in tqdm(range(0,len(df),dx)):\n",
    "        txt = df['sentence'].values[pos:pos+dx].tolist()\n",
    "        word = df['form'].values[pos:pos+dx].tolist()\n",
    "        use_past = [x.repeat_interleave(len(txt),dim=1) for x in past_key_tensor]\n",
    "        toks = tokenizer(txt, truncation=True, max_length=512-past_key_tensor[0].shape[3],padding=True,return_tensors='pt').to(device)\n",
    "        att_mask = torch.cat([torch.ones(len(txt),past_key_tensor[0].shape[3]).to(device),\n",
    "                              toks['attention_mask']],dim=1)\n",
    "        out = model(toks['input_ids'],attention_mask = att_mask, past_key_values=use_past)['last_hidden_state']\n",
    "        \n",
    "        target = torch.tensor(create_mask(txt, word,max_length=512-past_key_tensor[0].shape[3])).to(device)\n",
    "        out = clsf_layer(out)\n",
    "        loss = loss_func(out.view(-1,out.size(-1)),target.view(-1))\n",
    "        losses.append(loss.item())\n",
    "        mask = F.softmax(out, dim=-1)[:,:,1]\n",
    "        mask = torch.where(mask>=threshold, 1, 0)\n",
    "        target[target==-100] = 0\n",
    "        precision_ner = precision_score(target.cpu(), mask.cpu(), labels=[1],average='micro', zero_division=0)\n",
    "        recall_ner = recall_score(target.cpu(), mask.cpu(), labels=[1],average='micro', zero_division=0)\n",
    "        precision_ner_score.append(precision_ner)\n",
    "        recall_ner_score.append(recall_ner)\n",
    "    return(losses, precision_ner_score, recall_ner_score)"
   ]
  },
  {
   "cell_type": "markdown",
   "id": "c695d061-9d0d-445c-865b-833da6966969",
   "metadata": {},
   "source": [
    "### Инициализируем линейный слой и префикс"
   ]
  },
  {
   "cell_type": "code",
   "execution_count": 293,
   "id": "4c7a3594-ec9c-4f22-8800-e0052e5b8469",
   "metadata": {
    "id": "4c7a3594-ec9c-4f22-8800-e0052e5b8469",
    "tags": []
   },
   "outputs": [],
   "source": [
    "linear = nn.Linear(1024,2).to(device)\n",
    "linear.requires_grad = True"
   ]
  },
  {
   "cell_type": "code",
   "execution_count": 294,
   "id": "a9905046-3bb1-4ca2-96ba-04ac9b8f9091",
   "metadata": {
    "id": "a9905046-3bb1-4ca2-96ba-04ac9b8f9091",
    "tags": []
   },
   "outputs": [],
   "source": [
    "train_past = [torch.randn(4,1,16,prefix_len,64).to(device) for _ in range(24)]\n",
    "for i in train_past:\n",
    "    i.requires_grad=True"
   ]
  },
  {
   "cell_type": "markdown",
   "id": "5f3c5054-fb12-4e05-8b42-7d218466f2d7",
   "metadata": {},
   "source": [
    "### Класс ранней остановки"
   ]
  },
  {
   "cell_type": "code",
   "execution_count": 287,
   "id": "8a4e695e-ac78-4af4-81c8-a873a2f36972",
   "metadata": {},
   "outputs": [],
   "source": [
    "class EarlyStopper:\n",
    "    def __init__(self, patience=1):\n",
    "        self.patience = patience\n",
    "        self.counter = 0\n",
    "        self.min_validation_loss = np.inf\n",
    "\n",
    "    def early_stop(self, validation_loss):\n",
    "        if validation_loss < self.min_validation_loss:\n",
    "            self.min_validation_loss = validation_loss\n",
    "            self.counter = 0\n",
    "        elif validation_loss > self.min_validation_loss:\n",
    "            self.counter += 1\n",
    "            if self.counter >= self.patience:\n",
    "                return True\n",
    "        return False"
   ]
  },
  {
   "cell_type": "markdown",
   "id": "4c84c352-3774-4d36-b2bd-9a8ead628f67",
   "metadata": {},
   "source": [
    "### Обучение"
   ]
  },
  {
   "cell_type": "code",
   "execution_count": 295,
   "id": "bef04112-da84-495b-94e8-86abd20cbbfd",
   "metadata": {
    "colab": {
     "referenced_widgets": [
      "40be661797894cdc82af4409bc38caaa"
     ]
    },
    "id": "bef04112-da84-495b-94e8-86abd20cbbfd",
    "outputId": "c5531d55-c15c-4975-c773-444a1d933365",
    "tags": []
   },
   "outputs": [
    {
     "name": "stdout",
     "output_type": "stream",
     "text": [
      "Training...\n"
     ]
    },
    {
     "data": {
      "application/vnd.jupyter.widget-view+json": {
       "model_id": "a63fa723d4084cd7801cc7d90ca3824f",
       "version_major": 2,
       "version_minor": 0
      },
      "text/plain": [
       "  0%|          | 0/125 [00:00<?, ?it/s]"
      ]
     },
     "metadata": {},
     "output_type": "display_data"
    },
    {
     "name": "stdout",
     "output_type": "stream",
     "text": [
      "Validating...\n"
     ]
    },
    {
     "data": {
      "application/vnd.jupyter.widget-view+json": {
       "model_id": "439dba1d82274bf1ab12cc9511fed6bb",
       "version_major": 2,
       "version_minor": 0
      },
      "text/plain": [
       "  0%|          | 0/6 [00:00<?, ?it/s]"
      ]
     },
     "metadata": {},
     "output_type": "display_data"
    },
    {
     "name": "stdout",
     "output_type": "stream",
     "text": [
      "Epoch num: 1 \n",
      " Loss of train: 0.3969402457475662 \n",
      " Loss of val: 0.25733614961306256 \n",
      " Precision_score_Ner:0.3333333333333333 \n",
      " Recall_score_Ner:0.3333333333333333 \n",
      "\n",
      "Training...\n"
     ]
    },
    {
     "data": {
      "application/vnd.jupyter.widget-view+json": {
       "model_id": "983c544fe4e14928b64f9594afdee9f9",
       "version_major": 2,
       "version_minor": 0
      },
      "text/plain": [
       "  0%|          | 0/125 [00:00<?, ?it/s]"
      ]
     },
     "metadata": {},
     "output_type": "display_data"
    },
    {
     "name": "stdout",
     "output_type": "stream",
     "text": [
      "Validating...\n"
     ]
    },
    {
     "data": {
      "application/vnd.jupyter.widget-view+json": {
       "model_id": "fa797160d05146458a8481573f4074d5",
       "version_major": 2,
       "version_minor": 0
      },
      "text/plain": [
       "  0%|          | 0/6 [00:00<?, ?it/s]"
      ]
     },
     "metadata": {},
     "output_type": "display_data"
    },
    {
     "name": "stdout",
     "output_type": "stream",
     "text": [
      "Epoch num: 2 \n",
      " Loss of train: 0.2409275705218315 \n",
      " Loss of val: 0.22348168989022574 \n",
      " Precision_score_Ner:0.5 \n",
      " Recall_score_Ner:0.3611111111111111 \n",
      "\n",
      "Training...\n"
     ]
    },
    {
     "data": {
      "application/vnd.jupyter.widget-view+json": {
       "model_id": "e3bfb96c248e400b89e149159ec75521",
       "version_major": 2,
       "version_minor": 0
      },
      "text/plain": [
       "  0%|          | 0/125 [00:00<?, ?it/s]"
      ]
     },
     "metadata": {},
     "output_type": "display_data"
    },
    {
     "name": "stdout",
     "output_type": "stream",
     "text": [
      "Validating...\n"
     ]
    },
    {
     "data": {
      "application/vnd.jupyter.widget-view+json": {
       "model_id": "c3f90cf9bf2c456ca293cde51a22e8b4",
       "version_major": 2,
       "version_minor": 0
      },
      "text/plain": [
       "  0%|          | 0/6 [00:00<?, ?it/s]"
      ]
     },
     "metadata": {},
     "output_type": "display_data"
    },
    {
     "name": "stdout",
     "output_type": "stream",
     "text": [
      "Epoch num: 3 \n",
      " Loss of train: 0.19916223758459092 \n",
      " Loss of val: 0.18646962195634842 \n",
      " Precision_score_Ner:0.5833333333333334 \n",
      " Recall_score_Ner:0.5555555555555555 \n",
      "\n",
      "Training...\n"
     ]
    },
    {
     "data": {
      "application/vnd.jupyter.widget-view+json": {
       "model_id": "15a6d4de6740443caf000785f275b457",
       "version_major": 2,
       "version_minor": 0
      },
      "text/plain": [
       "  0%|          | 0/125 [00:00<?, ?it/s]"
      ]
     },
     "metadata": {},
     "output_type": "display_data"
    },
    {
     "name": "stdout",
     "output_type": "stream",
     "text": [
      "Validating...\n"
     ]
    },
    {
     "data": {
      "application/vnd.jupyter.widget-view+json": {
       "model_id": "39498001eb1e4a2491f290e4a5c21006",
       "version_major": 2,
       "version_minor": 0
      },
      "text/plain": [
       "  0%|          | 0/6 [00:00<?, ?it/s]"
      ]
     },
     "metadata": {},
     "output_type": "display_data"
    },
    {
     "name": "stdout",
     "output_type": "stream",
     "text": [
      "Epoch num: 4 \n",
      " Loss of train: 0.1616629076898098 \n",
      " Loss of val: 0.1613892155388991 \n",
      " Precision_score_Ner:0.4166666666666667 \n",
      " Recall_score_Ner:0.4166666666666667 \n",
      "\n",
      "Training...\n"
     ]
    },
    {
     "data": {
      "application/vnd.jupyter.widget-view+json": {
       "model_id": "d86a41cfb83d4ebda4afcb5702af6dd8",
       "version_major": 2,
       "version_minor": 0
      },
      "text/plain": [
       "  0%|          | 0/125 [00:00<?, ?it/s]"
      ]
     },
     "metadata": {},
     "output_type": "display_data"
    },
    {
     "name": "stdout",
     "output_type": "stream",
     "text": [
      "Validating...\n"
     ]
    },
    {
     "data": {
      "application/vnd.jupyter.widget-view+json": {
       "model_id": "84f017672dbd4f25a739c33081f6b48b",
       "version_major": 2,
       "version_minor": 0
      },
      "text/plain": [
       "  0%|          | 0/6 [00:00<?, ?it/s]"
      ]
     },
     "metadata": {},
     "output_type": "display_data"
    },
    {
     "name": "stdout",
     "output_type": "stream",
     "text": [
      "Epoch num: 5 \n",
      " Loss of train: 0.13698694767057895 \n",
      " Loss of val: 0.15704954291383424 \n",
      " Precision_score_Ner:0.5 \n",
      " Recall_score_Ner:0.3333333333333333 \n",
      "\n"
     ]
    }
   ],
   "source": [
    "train_losses = []\n",
    "val_losses = []\n",
    "early_stopper = EarlyStopper(patience=1)\n",
    "for i in range(epochs):\n",
    "    train_loss = ner_train(linear, train_past, train_df.sample(frac=1), prefix_lr, linear_lr, threshold, dx=8)\n",
    "    with torch.no_grad():\n",
    "        val_loss, pr_ner_score, r_ner_score = ner_val(linear, train_past, test_df.sample(frac=1), dx=16)\n",
    "    train_losses.append(train_loss)\n",
    "    val_losses.append(val_loss)\n",
    "    print('Epoch num: {} \\n'.format(i+1),\n",
    "          'Loss of train: {} \\n'.format(np.mean(train_loss)), \n",
    "          'Loss of val: {} \\n'.format(np.mean(val_loss)),\n",
    "          'Precision_score_Ner:{} \\n'.format(np.mean(pr_ner_score)),\n",
    "          'Recall_score_Ner:{} \\n'.format(np.mean(r_ner_score))\n",
    "         )\n",
    "    if early_stopper.early_stop(np.mean(val_loss)):             \n",
    "        break"
   ]
  },
  {
   "cell_type": "markdown",
   "id": "735e27d0-89be-4209-bd4c-429cb4e15f86",
   "metadata": {},
   "source": [
    "### Рисунок лосса"
   ]
  },
  {
   "cell_type": "code",
   "execution_count": 349,
   "id": "8a5fe479-2b34-44f4-8afd-0dd39ea52b66",
   "metadata": {},
   "outputs": [],
   "source": [
    "def draw_result(lst_iter, train_loss, val_loss, title):\n",
    "    plt.plot(train_loss, '-b', label='train loss')\n",
    "    plt.plot(val_loss, '-r', label='val loss')\n",
    "\n",
    "    plt.xlabel('n epoch')\n",
    "    plt.ylabel('loss')\n",
    "    plt.legend(loc='upper left')\n",
    "    plt.title(title)\n",
    "\n",
    "    plt.show()"
   ]
  },
  {
   "cell_type": "code",
   "execution_count": 350,
   "id": "27df95d2-fb4f-407e-b6da-bc58a7936cc5",
   "metadata": {},
   "outputs": [],
   "source": [
    "draw_train = [np.mean(x) for x in train_losses]\n",
    "draw_test = [np.mean(x) for x in val_losses]"
   ]
  },
  {
   "cell_type": "code",
   "execution_count": 351,
   "id": "a8ad45d4-03df-40a4-9c1a-3eb85072329f",
   "metadata": {},
   "outputs": [
    {
     "data": {
      "image/png": "[encoded data removed]",
      "text/plain": [
       "<Figure size 432x288 with 1 Axes>"
      ]
     },
     "metadata": {
      "needs_background": "light"
     },
     "output_type": "display_data"
    }
   ],
   "source": [
    "draw_result(epochs, draw_train, draw_test, 'Training prefix detector')"
   ]
  },
  {
   "cell_type": "markdown",
   "id": "a129c600-9af1-454c-9a9b-7d1357220e59",
   "metadata": {},
   "source": [
    "### Посмотрим на одно предсказание"
   ]
  },
  {
   "cell_type": "code",
   "execution_count": 309,
   "id": "2149dd14-4c01-4c95-8fb2-f7e22cb36743",
   "metadata": {
    "colab": {
     "base_uri": "https://localhost:8080/"
    },
    "id": "2149dd14-4c01-4c95-8fb2-f7e22cb36743",
    "outputId": "5f42c45f-1961-4b89-d949-a380a646a4be",
    "tags": []
   },
   "outputs": [
    {
     "name": "stdout",
     "output_type": "stream",
     "text": [
      "Текст: \n",
      "Игорь не знал, чем ответить на такой пространный спич и неопределенно похмыкал, делая вид, что понимает, о чем говорит Игорь Васильевич.\n",
      "Англицизм: \n",
      "спич\n"
     ]
    }
   ],
   "source": [
    "pos = 10\n",
    "text = test_df['sentence'].values[pos]\n",
    "phr = test_df['form'].values[pos]\n",
    "print('Текст: \\n' + text)\n",
    "print('Англицизм: \\n' + phr)\n",
    "toks = tokenizer(text, \n",
    "                 padding=True,\n",
    "                 max_length = 512-train_past[0].shape[3],\n",
    "                 truncation=True,\n",
    "                 return_tensors='pt').to(device)\n",
    "inp_ids = toks['input_ids']\n",
    "att_mask = torch.cat([torch.ones(1,train_past[0].shape[3]).to(device),\n",
    "                     toks['attention_mask']\n",
    "                     ],dim=1)"
   ]
  },
  {
   "cell_type": "code",
   "execution_count": 310,
   "id": "5c019552-6c8f-4cbc-9c83-28c0d0debca9",
   "metadata": {
    "colab": {
     "base_uri": "https://localhost:8080/",
     "height": 36
    },
    "id": "5c019552-6c8f-4cbc-9c83-28c0d0debca9",
    "outputId": "99e183dc-539d-4cd6-e6a5-fdc7fdd7da6f",
    "tags": []
   },
   "outputs": [
    {
     "name": "stdout",
     "output_type": "stream",
     "text": [
      "Предсказание модели: \n",
      "спич\n"
     ]
    }
   ],
   "source": [
    "with torch.no_grad():\n",
    "    out = model(input_ids = inp_ids, attention_mask=att_mask, past_key_values=train_past)\n",
    "    lin_out = linear(out['last_hidden_state'])\n",
    "mask = F.softmax(lin_out,dim=-1)[:,:,1]\n",
    "mask = torch.where(mask>=threshold, 1, 0)\n",
    "print('Предсказание модели: \\n' + tokenizer.decode((inp_ids*mask)[0], skip_special_tokens=True).strip())"
   ]
  },
  {
   "cell_type": "markdown",
   "id": "3cb699dd-ee68-4f99-aef7-2822591f54c1",
   "metadata": {},
   "source": [
    "### Функция получения предсказаний, используем батч 1 для нормального вычисления метрик"
   ]
  },
  {
   "cell_type": "code",
   "execution_count": 311,
   "id": "350983a5-7e6a-490e-b95c-d32aa6052027",
   "metadata": {},
   "outputs": [],
   "source": [
    "def get_preds(clsf_layer, past_key_tensor,df, threshold=0.8, dx=1):\n",
    "    f1_scores = []\n",
    "    precision_scores = []\n",
    "    recall_scores = []\n",
    "    preds = []\n",
    "    for pos in tqdm(range(0,len(df),dx)):\n",
    "        txt = df['sentence'].values[pos:pos+dx].tolist()\n",
    "        word = df['form'].values[pos:pos+dx].tolist()\n",
    "        use_past = [x.repeat_interleave(len(txt),dim=1) for x in past_key_tensor]\n",
    "        toks = tokenizer(txt, truncation=True, max_length=512-past_key_tensor[0].shape[3],padding=True,return_tensors='pt').to(device)\n",
    "        att_mask = torch.cat([torch.ones(len(txt),past_key_tensor[0].shape[3]).to(device),\n",
    "                              toks['attention_mask']],dim=1)\n",
    "        out = model(toks['input_ids'],attention_mask = att_mask, past_key_values=use_past)['last_hidden_state']\n",
    "        target = torch.tensor(create_mask(txt, word,max_length=512-past_key_tensor[0].shape[3])).to(device)\n",
    "        out = clsf_layer(out)\n",
    "        mask = F.softmax(out, dim=-1)[:,:,1]\n",
    "        mask = torch.where(mask>=threshold, 1, 0)\n",
    "        target[target==-100] = 0\n",
    "        precision_ner = precision_score(target.cpu().numpy().tolist()[0], mask.cpu().numpy().tolist()[0], labels=[1], average='binary', zero_division=0)\n",
    "        recall_ner = recall_score(target.cpu().numpy().tolist()[0], mask.cpu().numpy().tolist()[0], labels=[1], average='binary', zero_division=0)\n",
    "        f1_ner = f1_score(target.cpu().numpy().tolist()[0], mask.cpu().numpy().tolist()[0], labels=[1],average='binary', zero_division=0)\n",
    "        precision_scores.append(precision_ner)\n",
    "        recall_scores.append(recall_ner)\n",
    "        f1_scores.append(f1_ner)\n",
    "        pr = [tokenizer.decode(x, skip_special_tokens=True).strip() for x in toks['input_ids']*mask]\n",
    "        preds.extend(pr)\n",
    "    return(f1_scores, precision_scores, recall_scores, preds)"
   ]
  },
  {
   "cell_type": "code",
   "execution_count": 324,
   "id": "b5f7ee7a-8461-454e-b21a-f68bf51e683d",
   "metadata": {},
   "outputs": [
    {
     "data": {
      "application/vnd.jupyter.widget-view+json": {
       "model_id": "9f32c8c6960942b99262b7ce7532dd55",
       "version_major": 2,
       "version_minor": 0
      },
      "text/plain": [
       "  0%|          | 0/85 [00:00<?, ?it/s]"
      ]
     },
     "metadata": {},
     "output_type": "display_data"
    }
   ],
   "source": [
    "f1_val, precision_val, recall_val, preds = get_preds(linear, train_past, test_df, threshold=threshold, dx=1)"
   ]
  },
  {
   "cell_type": "code",
   "execution_count": 325,
   "id": "c4c71d3e-f769-4696-b6b4-ce73c16eb94a",
   "metadata": {},
   "outputs": [
    {
     "name": "stdout",
     "output_type": "stream",
     "text": [
      "Final F1: \n",
      "0.8428133957545724\n",
      "Final precision: \n",
      "0.8468737798149562\n",
      "Final recall: \n",
      "0.8693277310924369\n"
     ]
    }
   ],
   "source": [
    "print('Final F1: \\n{}'.format(np.mean(f1_val)))\n",
    "print('Final precision: \\n{}'.format(np.mean(precision_val)))\n",
    "print('Final recall: \\n{}'.format(np.mean(recall_val)))"
   ]
  },
  {
   "cell_type": "code",
   "execution_count": 326,
   "id": "5b1f6781-ef3d-48b7-bf0a-04c1dbf0de8c",
   "metadata": {
    "id": "5b1f6781-ef3d-48b7-bf0a-04c1dbf0de8c",
    "outputId": "70e2f2d6-ff33-44e9-b051-687bf9fa8ee6",
    "tags": []
   },
   "outputs": [],
   "source": [
    "pred_df = test_df.copy()\n",
    "pred_df['preds'] = preds"
   ]
  },
  {
   "cell_type": "code",
   "execution_count": 330,
   "id": "ca66917c-611e-4799-922f-4054425ef13c",
   "metadata": {},
   "outputs": [
    {
     "data": {
      "text/html": [
       "<div>\n",
       "<style scoped>\n",
       "    .dataframe tbody tr th:only-of-type {\n",
       "        vertical-align: middle;\n",
       "    }\n",
       "\n",
       "    .dataframe tbody tr th {\n",
       "        vertical-align: top;\n",
       "    }\n",
       "\n",
       "    .dataframe thead th {\n",
       "        text-align: right;\n",
       "    }\n",
       "</style>\n",
       "<table border=\"1\" class=\"dataframe\">\n",
       "  <thead>\n",
       "    <tr style=\"text-align: right;\">\n",
       "      <th></th>\n",
       "      <th>word</th>\n",
       "      <th>form</th>\n",
       "      <th>sentence</th>\n",
       "      <th>paraphrase</th>\n",
       "      <th>preds</th>\n",
       "    </tr>\n",
       "  </thead>\n",
       "  <tbody>\n",
       "    <tr>\n",
       "      <th>68</th>\n",
       "      <td>спичрайтер, спикер</td>\n",
       "      <td>спичрайтера, спикера</td>\n",
       "      <td>На третьем (консалтинговом) этапе в задачу спи...</td>\n",
       "      <td>На третьем (консультационном) этапе в задачу с...</td>\n",
       "      <td>алтинговом спичрайтера</td>\n",
       "    </tr>\n",
       "    <tr>\n",
       "      <th>20</th>\n",
       "      <td>мэтчиться</td>\n",
       "      <td>мэтчиться</td>\n",
       "      <td>Каждый эскиз полностью индивидуален, я придерж...</td>\n",
       "      <td>Каждый эскиз полностью индивидуален, я придерж...</td>\n",
       "      <td>мэтч</td>\n",
       "    </tr>\n",
       "    <tr>\n",
       "      <th>62</th>\n",
       "      <td>клиффхэнгер</td>\n",
       "      <td>\"клиффхэнгер\"</td>\n",
       "      <td>С детьми постарше, которым пора бы уже научить...</td>\n",
       "      <td>С детьми постарше, которым пора бы уже научить...</td>\n",
       "      <td>\"клиффхэнгер</td>\n",
       "    </tr>\n",
       "    <tr>\n",
       "      <th>34</th>\n",
       "      <td>репост, лайк</td>\n",
       "      <td>лайк, репост</td>\n",
       "      <td>Следует отметить, что лайк или репост какого-л...</td>\n",
       "      <td>Следует отметить, что одобрение или пересылка ...</td>\n",
       "      <td>лайк репост</td>\n",
       "    </tr>\n",
       "    <tr>\n",
       "      <th>82</th>\n",
       "      <td>амбассадор</td>\n",
       "      <td>амбассадором</td>\n",
       "      <td>Футболист Лионель Месси является амбассадором ...</td>\n",
       "      <td>Футболист Лионель Месси является представителе...</td>\n",
       "      <td>амбассадором</td>\n",
       "    </tr>\n",
       "    <tr>\n",
       "      <th>49</th>\n",
       "      <td>юзер</td>\n",
       "      <td>юзеров</td>\n",
       "      <td>Ссылки, языком юзеров выражаясь, нерабочие.</td>\n",
       "      <td>Ссылки, языком пользователей выражаясь, нерабо...</td>\n",
       "      <td>юзеров</td>\n",
       "    </tr>\n",
       "    <tr>\n",
       "      <th>3</th>\n",
       "      <td>вайб</td>\n",
       "      <td>вайб</td>\n",
       "      <td>\"Вчера выпал пушистый снег и в воздухе царил н...</td>\n",
       "      <td>\"Вчера выпал пушистый снег и в воздухе царило ...</td>\n",
       "      <td>вайб</td>\n",
       "    </tr>\n",
       "    <tr>\n",
       "      <th>23</th>\n",
       "      <td>фаниться</td>\n",
       "      <td>фаниться, пати</td>\n",
       "      <td>Я не люблю играть в одиночку, мне нравиться фа...</td>\n",
       "      <td>Я не люблю играть в одиночку, мне нравится раз...</td>\n",
       "      <td>фаниться пати</td>\n",
       "    </tr>\n",
       "    <tr>\n",
       "      <th>65</th>\n",
       "      <td>голкипер</td>\n",
       "      <td>Голкипер</td>\n",
       "      <td>Голкипер сборной Бельгии и мадридского «Реала»...</td>\n",
       "      <td>Вратарь сборной Бельгии и мадридского «Реала» ...</td>\n",
       "      <td>Гол</td>\n",
       "    </tr>\n",
       "    <tr>\n",
       "      <th>66</th>\n",
       "      <td>спичрайтер</td>\n",
       "      <td>спичрайтеров</td>\n",
       "      <td>Пишут, что Фадеев входил в число сталинских сп...</td>\n",
       "      <td>Пишут, что Фадеев входил в число составителей ...</td>\n",
       "      <td>спичрайтеров</td>\n",
       "    </tr>\n",
       "  </tbody>\n",
       "</table>\n",
       "</div>"
      ],
      "text/plain": [
       "                  word                  form  \\\n",
       "68  спичрайтер, спикер  спичрайтера, спикера   \n",
       "20           мэтчиться             мэтчиться   \n",
       "62         клиффхэнгер         \"клиффхэнгер\"   \n",
       "34        репост, лайк          лайк, репост   \n",
       "82          амбассадор          амбассадором   \n",
       "49                юзер                юзеров   \n",
       "3                 вайб                  вайб   \n",
       "23            фаниться        фаниться, пати   \n",
       "65            голкипер              Голкипер   \n",
       "66          спичрайтер          спичрайтеров   \n",
       "\n",
       "                                             sentence  \\\n",
       "68  На третьем (консалтинговом) этапе в задачу спи...   \n",
       "20  Каждый эскиз полностью индивидуален, я придерж...   \n",
       "62  С детьми постарше, которым пора бы уже научить...   \n",
       "34  Следует отметить, что лайк или репост какого-л...   \n",
       "82  Футболист Лионель Месси является амбассадором ...   \n",
       "49        Ссылки, языком юзеров выражаясь, нерабочие.   \n",
       "3   \"Вчера выпал пушистый снег и в воздухе царил н...   \n",
       "23  Я не люблю играть в одиночку, мне нравиться фа...   \n",
       "65  Голкипер сборной Бельгии и мадридского «Реала»...   \n",
       "66  Пишут, что Фадеев входил в число сталинских сп...   \n",
       "\n",
       "                                           paraphrase                   preds  \n",
       "68  На третьем (консультационном) этапе в задачу с...  алтинговом спичрайтера  \n",
       "20  Каждый эскиз полностью индивидуален, я придерж...                    мэтч  \n",
       "62  С детьми постарше, которым пора бы уже научить...            \"клиффхэнгер  \n",
       "34  Следует отметить, что одобрение или пересылка ...             лайк репост  \n",
       "82  Футболист Лионель Месси является представителе...            амбассадором  \n",
       "49  Ссылки, языком пользователей выражаясь, нерабо...                  юзеров  \n",
       "3   \"Вчера выпал пушистый снег и в воздухе царило ...                    вайб  \n",
       "23  Я не люблю играть в одиночку, мне нравится раз...           фаниться пати  \n",
       "65  Вратарь сборной Бельгии и мадридского «Реала» ...                     Гол  \n",
       "66  Пишут, что Фадеев входил в число составителей ...            спичрайтеров  "
      ]
     },
     "execution_count": 330,
     "metadata": {},
     "output_type": "execute_result"
    }
   ],
   "source": [
    "pred_df.sample(10)"
   ]
  },
  {
   "cell_type": "markdown",
   "id": "f0d67f0c-2ea9-43b1-9ab7-83aca86d919c",
   "metadata": {},
   "source": [
    "### Сохраняем веса"
   ]
  },
  {
   "cell_type": "code",
   "execution_count": 334,
   "id": "61f8bfbd-a06b-4c29-922e-1e0539054ab9",
   "metadata": {
    "id": "61f8bfbd-a06b-4c29-922e-1e0539054ab9",
    "tags": []
   },
   "outputs": [],
   "source": [
    "torch.save(train_past, os.path.join(out_dir, 'adapt_angls.pth'))\n",
    "torch.save(linear.state_dict(), os.path.join(out_dir, 'lin_angls.pth'))"
   ]
  },
  {
   "cell_type": "markdown",
   "id": "7ec7c521-f98d-48db-a84b-486b2a7c0760",
   "metadata": {},
   "source": [
    "Результат обучения получился очень хорошим, если учесть сравнительно небольшое количество данных и обучение только префиксов. Финальный результат f1 score - 0.84, что можно считать вполне успешным, поскольку в тестовой выборке нет ни одного англицизма из тренировочной выборки, можно сделать вывод, что модель довольно хорошо обобщила знания."
   ]
  },
  {
   "cell_type": "code",
   "execution_count": null,
   "id": "fd649dfe-5b63-468f-84f8-78415107b1aa",
   "metadata": {},
   "outputs": [],
   "source": []
  }
 ],
 "metadata": {
  "accelerator": "GPU",
  "colab": {
   "provenance": []
  },
  "gpuClass": "standard",
  "kernelspec": {
   "display_name": "Python 3 (ipykernel)",
   "language": "python",
   "name": "python3"
  },
  "language_info": {
   "codemirror_mode": {
    "name": "ipython",
    "version": 3
   },
   "file_extension": ".py",
   "mimetype": "text/x-python",
   "name": "python",
   "nbconvert_exporter": "python",
   "pygments_lexer": "ipython3",
   "version": "3.7.12"
  },
  "widgets": {
   "application/vnd.jupyter.widget-state+json": {
    "0017f9cc791d4fde897a19d0154e032a": {
     "model_module": "@jupyter-widgets/base",
     "model_module_version": "1.2.0",
     "model_name": "LayoutModel",
     "state": {
      "_model_module": "@jupyter-widgets/base",
      "_model_module_version": "1.2.0",
      "_model_name": "LayoutModel",
      "_view_count": null,
      "_view_module": "@jupyter-widgets/base",
      "_view_module_version": "1.2.0",
      "_view_name": "LayoutView",
      "align_content": null,
      "align_items": null,
      "align_self": null,
      "border": null,
      "bottom": null,
      "display": null,
      "flex": null,
      "flex_flow": null,
      "grid_area": null,
      "grid_auto_columns": null,
      "grid_auto_flow": null,
      "grid_auto_rows": null,
      "grid_column": null,
      "grid_gap": null,
      "grid_row": null,
      "grid_template_areas": null,
      "grid_template_columns": null,
      "grid_template_rows": null,
      "height": null,
      "justify_content": null,
      "justify_items": null,
      "left": null,
      "margin": null,
      "max_height": null,
      "max_width": null,
      "min_height": null,
      "min_width": null,
      "object_fit": null,
      "object_position": null,
      "order": null,
      "overflow": null,
      "overflow_x": null,
      "overflow_y": null,
      "padding": null,
      "right": null,
      "top": null,
      "visibility": null,
      "width": null
     }
    },
    "03d731299a434a2794886bdb7f9283fa": {
     "model_module": "@jupyter-widgets/base",
     "model_module_version": "1.2.0",
     "model_name": "LayoutModel",
     "state": {
      "_model_module": "@jupyter-widgets/base",
      "_model_module_version": "1.2.0",
      "_model_name": "LayoutModel",
      "_view_count": null,
      "_view_module": "@jupyter-widgets/base",
      "_view_module_version": "1.2.0",
      "_view_name": "LayoutView",
      "align_content": null,
      "align_items": null,
      "align_self": null,
      "border": null,
      "bottom": null,
      "display": null,
      "flex": null,
      "flex_flow": null,
      "grid_area": null,
      "grid_auto_columns": null,
      "grid_auto_flow": null,
      "grid_auto_rows": null,
      "grid_column": null,
      "grid_gap": null,
      "grid_row": null,
      "grid_template_areas": null,
      "grid_template_columns": null,
      "grid_template_rows": null,
      "height": null,
      "justify_content": null,
      "justify_items": null,
      "left": null,
      "margin": null,
      "max_height": null,
      "max_width": null,
      "min_height": null,
      "min_width": null,
      "object_fit": null,
      "object_position": null,
      "order": null,
      "overflow": null,
      "overflow_x": null,
      "overflow_y": null,
      "padding": null,
      "right": null,
      "top": null,
      "visibility": null,
      "width": null
     }
    },
    "06f20c373a634063b4024225ce5717bd": {
     "model_module": "@jupyter-widgets/base",
     "model_module_version": "1.2.0",
     "model_name": "LayoutModel",
     "state": {
      "_model_module": "@jupyter-widgets/base",
      "_model_module_version": "1.2.0",
      "_model_name": "LayoutModel",
      "_view_count": null,
      "_view_module": "@jupyter-widgets/base",
      "_view_module_version": "1.2.0",
      "_view_name": "LayoutView",
      "align_content": null,
      "align_items": null,
      "align_self": null,
      "border": null,
      "bottom": null,
      "display": null,
      "flex": null,
      "flex_flow": null,
      "grid_area": null,
      "grid_auto_columns": null,
      "grid_auto_flow": null,
      "grid_auto_rows": null,
      "grid_column": null,
      "grid_gap": null,
      "grid_row": null,
      "grid_template_areas": null,
      "grid_template_columns": null,
      "grid_template_rows": null,
      "height": null,
      "justify_content": null,
      "justify_items": null,
      "left": null,
      "margin": null,
      "max_height": null,
      "max_width": null,
      "min_height": null,
      "min_width": null,
      "object_fit": null,
      "object_position": null,
      "order": null,
      "overflow": null,
      "overflow_x": null,
      "overflow_y": null,
      "padding": null,
      "right": null,
      "top": null,
      "visibility": null,
      "width": null
     }
    },
    "0b3c70b313234a8192f307da368bd85a": {
     "model_module": "@jupyter-widgets/controls",
     "model_module_version": "1.5.0",
     "model_name": "ProgressStyleModel",
     "state": {
      "_model_module": "@jupyter-widgets/controls",
      "_model_module_version": "1.5.0",
      "_model_name": "ProgressStyleModel",
      "_view_count": null,
      "_view_module": "@jupyter-widgets/base",
      "_view_module_version": "1.2.0",
      "_view_name": "StyleView",
      "bar_color": null,
      "description_width": ""
     }
    },
    "0c1bb4a97dd945c397aa86fa38dd4b51": {
     "model_module": "@jupyter-widgets/controls",
     "model_module_version": "1.5.0",
     "model_name": "HBoxModel",
     "state": {
      "_dom_classes": [],
      "_model_module": "@jupyter-widgets/controls",
      "_model_module_version": "1.5.0",
      "_model_name": "HBoxModel",
      "_view_count": null,
      "_view_module": "@jupyter-widgets/controls",
      "_view_module_version": "1.5.0",
      "_view_name": "HBoxView",
      "box_style": "",
      "children": [
       "IPY_MODEL_ddb2bbd3069b4be5930ee88e4757efe7",
       "IPY_MODEL_76d15e3074db4edb83d52b086084718a",
       "IPY_MODEL_10eb08e76e3e4831b301e22593b96aae"
      ],
      "layout": "IPY_MODEL_914c7a851fba4f4e874371a638f3b2be"
     }
    },
    "10eb08e76e3e4831b301e22593b96aae": {
     "model_module": "@jupyter-widgets/controls",
     "model_module_version": "1.5.0",
     "model_name": "HTMLModel",
     "state": {
      "_dom_classes": [],
      "_model_module": "@jupyter-widgets/controls",
      "_model_module_version": "1.5.0",
      "_model_name": "HTMLModel",
      "_view_count": null,
      "_view_module": "@jupyter-widgets/controls",
      "_view_module_version": "1.5.0",
      "_view_name": "HTMLView",
      "description": "",
      "description_tooltip": null,
      "layout": "IPY_MODEL_8186b3b5a3384c13982b686c8ade2341",
      "placeholder": "​",
      "style": "IPY_MODEL_5d39cdf4130f48a0b1557c394d992fb6",
      "value": " 674/674 [00:00&lt;00:00, 13.1kB/s]"
     }
    },
    "12f1735fd2934c819df12cbae1d217c5": {
     "model_module": "@jupyter-widgets/controls",
     "model_module_version": "1.5.0",
     "model_name": "DescriptionStyleModel",
     "state": {
      "_model_module": "@jupyter-widgets/controls",
      "_model_module_version": "1.5.0",
      "_model_name": "DescriptionStyleModel",
      "_view_count": null,
      "_view_module": "@jupyter-widgets/base",
      "_view_module_version": "1.2.0",
      "_view_name": "StyleView",
      "description_width": ""
     }
    },
    "25c1a38b9be44ad193bb9a293c45be6d": {
     "model_module": "@jupyter-widgets/base",
     "model_module_version": "1.2.0",
     "model_name": "LayoutModel",
     "state": {
      "_model_module": "@jupyter-widgets/base",
      "_model_module_version": "1.2.0",
      "_model_name": "LayoutModel",
      "_view_count": null,
      "_view_module": "@jupyter-widgets/base",
      "_view_module_version": "1.2.0",
      "_view_name": "LayoutView",
      "align_content": null,
      "align_items": null,
      "align_self": null,
      "border": null,
      "bottom": null,
      "display": null,
      "flex": null,
      "flex_flow": null,
      "grid_area": null,
      "grid_auto_columns": null,
      "grid_auto_flow": null,
      "grid_auto_rows": null,
      "grid_column": null,
      "grid_gap": null,
      "grid_row": null,
      "grid_template_areas": null,
      "grid_template_columns": null,
      "grid_template_rows": null,
      "height": null,
      "justify_content": null,
      "justify_items": null,
      "left": null,
      "margin": null,
      "max_height": null,
      "max_width": null,
      "min_height": null,
      "min_width": null,
      "object_fit": null,
      "object_position": null,
      "order": null,
      "overflow": null,
      "overflow_x": null,
      "overflow_y": null,
      "padding": null,
      "right": null,
      "top": null,
      "visibility": null,
      "width": null
     }
    },
    "25ed34668e4f4b2784d043ee756376bf": {
     "model_module": "@jupyter-widgets/base",
     "model_module_version": "1.2.0",
     "model_name": "LayoutModel",
     "state": {
      "_model_module": "@jupyter-widgets/base",
      "_model_module_version": "1.2.0",
      "_model_name": "LayoutModel",
      "_view_count": null,
      "_view_module": "@jupyter-widgets/base",
      "_view_module_version": "1.2.0",
      "_view_name": "LayoutView",
      "align_content": null,
      "align_items": null,
      "align_self": null,
      "border": null,
      "bottom": null,
      "display": null,
      "flex": null,
      "flex_flow": null,
      "grid_area": null,
      "grid_auto_columns": null,
      "grid_auto_flow": null,
      "grid_auto_rows": null,
      "grid_column": null,
      "grid_gap": null,
      "grid_row": null,
      "grid_template_areas": null,
      "grid_template_columns": null,
      "grid_template_rows": null,
      "height": null,
      "justify_content": null,
      "justify_items": null,
      "left": null,
      "margin": null,
      "max_height": null,
      "max_width": null,
      "min_height": null,
      "min_width": null,
      "object_fit": null,
      "object_position": null,
      "order": null,
      "overflow": null,
      "overflow_x": null,
      "overflow_y": null,
      "padding": null,
      "right": null,
      "top": null,
      "visibility": null,
      "width": null
     }
    },
    "271038e9bac04a21b7f4309d19911efa": {
     "model_module": "@jupyter-widgets/controls",
     "model_module_version": "1.5.0",
     "model_name": "DescriptionStyleModel",
     "state": {
      "_model_module": "@jupyter-widgets/controls",
      "_model_module_version": "1.5.0",
      "_model_name": "DescriptionStyleModel",
      "_view_count": null,
      "_view_module": "@jupyter-widgets/base",
      "_view_module_version": "1.2.0",
      "_view_name": "StyleView",
      "description_width": ""
     }
    },
    "2eb4b8b4b96d41229f08bbf7830c3c0e": {
     "model_module": "@jupyter-widgets/controls",
     "model_module_version": "1.5.0",
     "model_name": "ProgressStyleModel",
     "state": {
      "_model_module": "@jupyter-widgets/controls",
      "_model_module_version": "1.5.0",
      "_model_name": "ProgressStyleModel",
      "_view_count": null,
      "_view_module": "@jupyter-widgets/base",
      "_view_module_version": "1.2.0",
      "_view_name": "StyleView",
      "bar_color": null,
      "description_width": ""
     }
    },
    "3aca93d6f13149e9b3d39b027cb60084": {
     "model_module": "@jupyter-widgets/base",
     "model_module_version": "1.2.0",
     "model_name": "LayoutModel",
     "state": {
      "_model_module": "@jupyter-widgets/base",
      "_model_module_version": "1.2.0",
      "_model_name": "LayoutModel",
      "_view_count": null,
      "_view_module": "@jupyter-widgets/base",
      "_view_module_version": "1.2.0",
      "_view_name": "LayoutView",
      "align_content": null,
      "align_items": null,
      "align_self": null,
      "border": null,
      "bottom": null,
      "display": null,
      "flex": null,
      "flex_flow": null,
      "grid_area": null,
      "grid_auto_columns": null,
      "grid_auto_flow": null,
      "grid_auto_rows": null,
      "grid_column": null,
      "grid_gap": null,
      "grid_row": null,
      "grid_template_areas": null,
      "grid_template_columns": null,
      "grid_template_rows": null,
      "height": null,
      "justify_content": null,
      "justify_items": null,
      "left": null,
      "margin": null,
      "max_height": null,
      "max_width": null,
      "min_height": null,
      "min_width": null,
      "object_fit": null,
      "object_position": null,
      "order": null,
      "overflow": null,
      "overflow_x": null,
      "overflow_y": null,
      "padding": null,
      "right": null,
      "top": null,
      "visibility": null,
      "width": null
     }
    },
    "40fdd07464344e638b8ac3d9e4c8841d": {
     "model_module": "@jupyter-widgets/controls",
     "model_module_version": "1.5.0",
     "model_name": "FloatProgressModel",
     "state": {
      "_dom_classes": [],
      "_model_module": "@jupyter-widgets/controls",
      "_model_module_version": "1.5.0",
      "_model_name": "FloatProgressModel",
      "_view_count": null,
      "_view_module": "@jupyter-widgets/controls",
      "_view_module_version": "1.5.0",
      "_view_name": "ProgressView",
      "bar_style": "success",
      "description": "",
      "description_tooltip": null,
      "layout": "IPY_MODEL_25ed34668e4f4b2784d043ee756376bf",
      "max": 1811625,
      "min": 0,
      "orientation": "horizontal",
      "style": "IPY_MODEL_c0a63fb87e084a47a79389495e99f59f",
      "value": 1811625
     }
    },
    "4be829a154a84318b40d96616ac34d0f": {
     "model_module": "@jupyter-widgets/controls",
     "model_module_version": "1.5.0",
     "model_name": "HTMLModel",
     "state": {
      "_dom_classes": [],
      "_model_module": "@jupyter-widgets/controls",
      "_model_module_version": "1.5.0",
      "_model_name": "HTMLModel",
      "_view_count": null,
      "_view_module": "@jupyter-widgets/controls",
      "_view_module_version": "1.5.0",
      "_view_name": "HTMLView",
      "description": "",
      "description_tooltip": null,
      "layout": "IPY_MODEL_6e2dfe9579cd4522a3e00bde76502564",
      "placeholder": "​",
      "style": "IPY_MODEL_d3de90c3c1ce40c6adb00f7594b3e75c",
      "value": "Downloading (…)&quot;pytorch_model.bin&quot;;: 100%"
     }
    },
    "4c270512b1b14b9a84f34cf1a17ce9f8": {
     "model_module": "@jupyter-widgets/controls",
     "model_module_version": "1.5.0",
     "model_name": "DescriptionStyleModel",
     "state": {
      "_model_module": "@jupyter-widgets/controls",
      "_model_module_version": "1.5.0",
      "_model_name": "DescriptionStyleModel",
      "_view_count": null,
      "_view_module": "@jupyter-widgets/base",
      "_view_module_version": "1.2.0",
      "_view_name": "StyleView",
      "description_width": ""
     }
    },
    "53d82cb2c84b45b59c0cdab77a4f9e87": {
     "model_module": "@jupyter-widgets/controls",
     "model_module_version": "1.5.0",
     "model_name": "HBoxModel",
     "state": {
      "_dom_classes": [],
      "_model_module": "@jupyter-widgets/controls",
      "_model_module_version": "1.5.0",
      "_model_name": "HBoxModel",
      "_view_count": null,
      "_view_module": "@jupyter-widgets/controls",
      "_view_module_version": "1.5.0",
      "_view_name": "HBoxView",
      "box_style": "",
      "children": [
       "IPY_MODEL_4be829a154a84318b40d96616ac34d0f",
       "IPY_MODEL_d8fea9276e5d48d8918542c0109fa239",
       "IPY_MODEL_db9a08b41b6c4816ab42efda1b1080f3"
      ],
      "layout": "IPY_MODEL_0017f9cc791d4fde897a19d0154e032a"
     }
    },
    "5a47f20527fb46949c2525d16e0be182": {
     "model_module": "@jupyter-widgets/controls",
     "model_module_version": "1.5.0",
     "model_name": "HBoxModel",
     "state": {
      "_dom_classes": [],
      "_model_module": "@jupyter-widgets/controls",
      "_model_module_version": "1.5.0",
      "_model_name": "HBoxModel",
      "_view_count": null,
      "_view_module": "@jupyter-widgets/controls",
      "_view_module_version": "1.5.0",
      "_view_name": "HBoxView",
      "box_style": "",
      "children": [
       "IPY_MODEL_8fa11d26a18d4d4a9bd7698ff76f859f",
       "IPY_MODEL_40fdd07464344e638b8ac3d9e4c8841d",
       "IPY_MODEL_acb8643891ff4eae9da400f73757af5e"
      ],
      "layout": "IPY_MODEL_dddcb8bb80294f11a4d4d10ce3530c81"
     }
    },
    "5d39cdf4130f48a0b1557c394d992fb6": {
     "model_module": "@jupyter-widgets/controls",
     "model_module_version": "1.5.0",
     "model_name": "DescriptionStyleModel",
     "state": {
      "_model_module": "@jupyter-widgets/controls",
      "_model_module_version": "1.5.0",
      "_model_name": "DescriptionStyleModel",
      "_view_count": null,
      "_view_module": "@jupyter-widgets/base",
      "_view_module_version": "1.2.0",
      "_view_name": "StyleView",
      "description_width": ""
     }
    },
    "60015792e7ca443dbd66289fac63be5f": {
     "model_module": "@jupyter-widgets/controls",
     "model_module_version": "1.5.0",
     "model_name": "DescriptionStyleModel",
     "state": {
      "_model_module": "@jupyter-widgets/controls",
      "_model_module_version": "1.5.0",
      "_model_name": "DescriptionStyleModel",
      "_view_count": null,
      "_view_module": "@jupyter-widgets/base",
      "_view_module_version": "1.2.0",
      "_view_name": "StyleView",
      "description_width": ""
     }
    },
    "6559fd7175084329b208d96bc32d2979": {
     "model_module": "@jupyter-widgets/controls",
     "model_module_version": "1.5.0",
     "model_name": "DescriptionStyleModel",
     "state": {
      "_model_module": "@jupyter-widgets/controls",
      "_model_module_version": "1.5.0",
      "_model_name": "DescriptionStyleModel",
      "_view_count": null,
      "_view_module": "@jupyter-widgets/base",
      "_view_module_version": "1.2.0",
      "_view_name": "StyleView",
      "description_width": ""
     }
    },
    "67488c5f508e48b4a1d2e4e0a1a35fb5": {
     "model_module": "@jupyter-widgets/base",
     "model_module_version": "1.2.0",
     "model_name": "LayoutModel",
     "state": {
      "_model_module": "@jupyter-widgets/base",
      "_model_module_version": "1.2.0",
      "_model_name": "LayoutModel",
      "_view_count": null,
      "_view_module": "@jupyter-widgets/base",
      "_view_module_version": "1.2.0",
      "_view_name": "LayoutView",
      "align_content": null,
      "align_items": null,
      "align_self": null,
      "border": null,
      "bottom": null,
      "display": null,
      "flex": null,
      "flex_flow": null,
      "grid_area": null,
      "grid_auto_columns": null,
      "grid_auto_flow": null,
      "grid_auto_rows": null,
      "grid_column": null,
      "grid_gap": null,
      "grid_row": null,
      "grid_template_areas": null,
      "grid_template_columns": null,
      "grid_template_rows": null,
      "height": null,
      "justify_content": null,
      "justify_items": null,
      "left": null,
      "margin": null,
      "max_height": null,
      "max_width": null,
      "min_height": null,
      "min_width": null,
      "object_fit": null,
      "object_position": null,
      "order": null,
      "overflow": null,
      "overflow_x": null,
      "overflow_y": null,
      "padding": null,
      "right": null,
      "top": null,
      "visibility": null,
      "width": null
     }
    },
    "67e185a9caf4446a9bc59fdec9bb0bac": {
     "model_module": "@jupyter-widgets/controls",
     "model_module_version": "1.5.0",
     "model_name": "FloatProgressModel",
     "state": {
      "_dom_classes": [],
      "_model_module": "@jupyter-widgets/controls",
      "_model_module_version": "1.5.0",
      "_model_name": "FloatProgressModel",
      "_view_count": null,
      "_view_module": "@jupyter-widgets/controls",
      "_view_module_version": "1.5.0",
      "_view_name": "ProgressView",
      "bar_style": "success",
      "description": "",
      "description_tooltip": null,
      "layout": "IPY_MODEL_9ad803b721bc4abfac526f67c0fd313f",
      "max": 1369443,
      "min": 0,
      "orientation": "horizontal",
      "style": "IPY_MODEL_fe51dd18b7da44b285d27de51322a037",
      "value": 1369443
     }
    },
    "6e2dfe9579cd4522a3e00bde76502564": {
     "model_module": "@jupyter-widgets/base",
     "model_module_version": "1.2.0",
     "model_name": "LayoutModel",
     "state": {
      "_model_module": "@jupyter-widgets/base",
      "_model_module_version": "1.2.0",
      "_model_name": "LayoutModel",
      "_view_count": null,
      "_view_module": "@jupyter-widgets/base",
      "_view_module_version": "1.2.0",
      "_view_name": "LayoutView",
      "align_content": null,
      "align_items": null,
      "align_self": null,
      "border": null,
      "bottom": null,
      "display": null,
      "flex": null,
      "flex_flow": null,
      "grid_area": null,
      "grid_auto_columns": null,
      "grid_auto_flow": null,
      "grid_auto_rows": null,
      "grid_column": null,
      "grid_gap": null,
      "grid_row": null,
      "grid_template_areas": null,
      "grid_template_columns": null,
      "grid_template_rows": null,
      "height": null,
      "justify_content": null,
      "justify_items": null,
      "left": null,
      "margin": null,
      "max_height": null,
      "max_width": null,
      "min_height": null,
      "min_width": null,
      "object_fit": null,
      "object_position": null,
      "order": null,
      "overflow": null,
      "overflow_x": null,
      "overflow_y": null,
      "padding": null,
      "right": null,
      "top": null,
      "visibility": null,
      "width": null
     }
    },
    "76d15e3074db4edb83d52b086084718a": {
     "model_module": "@jupyter-widgets/controls",
     "model_module_version": "1.5.0",
     "model_name": "FloatProgressModel",
     "state": {
      "_dom_classes": [],
      "_model_module": "@jupyter-widgets/controls",
      "_model_module_version": "1.5.0",
      "_model_name": "FloatProgressModel",
      "_view_count": null,
      "_view_module": "@jupyter-widgets/controls",
      "_view_module_version": "1.5.0",
      "_view_name": "ProgressView",
      "bar_style": "success",
      "description": "",
      "description_tooltip": null,
      "layout": "IPY_MODEL_25c1a38b9be44ad193bb9a293c45be6d",
      "max": 674,
      "min": 0,
      "orientation": "horizontal",
      "style": "IPY_MODEL_2eb4b8b4b96d41229f08bbf7830c3c0e",
      "value": 674
     }
    },
    "8186b3b5a3384c13982b686c8ade2341": {
     "model_module": "@jupyter-widgets/base",
     "model_module_version": "1.2.0",
     "model_name": "LayoutModel",
     "state": {
      "_model_module": "@jupyter-widgets/base",
      "_model_module_version": "1.2.0",
      "_model_name": "LayoutModel",
      "_view_count": null,
      "_view_module": "@jupyter-widgets/base",
      "_view_module_version": "1.2.0",
      "_view_name": "LayoutView",
      "align_content": null,
      "align_items": null,
      "align_self": null,
      "border": null,
      "bottom": null,
      "display": null,
      "flex": null,
      "flex_flow": null,
      "grid_area": null,
      "grid_auto_columns": null,
      "grid_auto_flow": null,
      "grid_auto_rows": null,
      "grid_column": null,
      "grid_gap": null,
      "grid_row": null,
      "grid_template_areas": null,
      "grid_template_columns": null,
      "grid_template_rows": null,
      "height": null,
      "justify_content": null,
      "justify_items": null,
      "left": null,
      "margin": null,
      "max_height": null,
      "max_width": null,
      "min_height": null,
      "min_width": null,
      "object_fit": null,
      "object_position": null,
      "order": null,
      "overflow": null,
      "overflow_x": null,
      "overflow_y": null,
      "padding": null,
      "right": null,
      "top": null,
      "visibility": null,
      "width": null
     }
    },
    "8fa11d26a18d4d4a9bd7698ff76f859f": {
     "model_module": "@jupyter-widgets/controls",
     "model_module_version": "1.5.0",
     "model_name": "HTMLModel",
     "state": {
      "_dom_classes": [],
      "_model_module": "@jupyter-widgets/controls",
      "_model_module_version": "1.5.0",
      "_model_name": "HTMLModel",
      "_view_count": null,
      "_view_module": "@jupyter-widgets/controls",
      "_view_module_version": "1.5.0",
      "_view_name": "HTMLView",
      "description": "",
      "description_tooltip": null,
      "layout": "IPY_MODEL_67488c5f508e48b4a1d2e4e0a1a35fb5",
      "placeholder": "​",
      "style": "IPY_MODEL_60015792e7ca443dbd66289fac63be5f",
      "value": "Downloading (…)olve/main/vocab.json: 100%"
     }
    },
    "914c7a851fba4f4e874371a638f3b2be": {
     "model_module": "@jupyter-widgets/base",
     "model_module_version": "1.2.0",
     "model_name": "LayoutModel",
     "state": {
      "_model_module": "@jupyter-widgets/base",
      "_model_module_version": "1.2.0",
      "_model_name": "LayoutModel",
      "_view_count": null,
      "_view_module": "@jupyter-widgets/base",
      "_view_module_version": "1.2.0",
      "_view_name": "LayoutView",
      "align_content": null,
      "align_items": null,
      "align_self": null,
      "border": null,
      "bottom": null,
      "display": null,
      "flex": null,
      "flex_flow": null,
      "grid_area": null,
      "grid_auto_columns": null,
      "grid_auto_flow": null,
      "grid_auto_rows": null,
      "grid_column": null,
      "grid_gap": null,
      "grid_row": null,
      "grid_template_areas": null,
      "grid_template_columns": null,
      "grid_template_rows": null,
      "height": null,
      "justify_content": null,
      "justify_items": null,
      "left": null,
      "margin": null,
      "max_height": null,
      "max_width": null,
      "min_height": null,
      "min_width": null,
      "object_fit": null,
      "object_position": null,
      "order": null,
      "overflow": null,
      "overflow_x": null,
      "overflow_y": null,
      "padding": null,
      "right": null,
      "top": null,
      "visibility": null,
      "width": null
     }
    },
    "9ad803b721bc4abfac526f67c0fd313f": {
     "model_module": "@jupyter-widgets/base",
     "model_module_version": "1.2.0",
     "model_name": "LayoutModel",
     "state": {
      "_model_module": "@jupyter-widgets/base",
      "_model_module_version": "1.2.0",
      "_model_name": "LayoutModel",
      "_view_count": null,
      "_view_module": "@jupyter-widgets/base",
      "_view_module_version": "1.2.0",
      "_view_name": "LayoutView",
      "align_content": null,
      "align_items": null,
      "align_self": null,
      "border": null,
      "bottom": null,
      "display": null,
      "flex": null,
      "flex_flow": null,
      "grid_area": null,
      "grid_auto_columns": null,
      "grid_auto_flow": null,
      "grid_auto_rows": null,
      "grid_column": null,
      "grid_gap": null,
      "grid_row": null,
      "grid_template_areas": null,
      "grid_template_columns": null,
      "grid_template_rows": null,
      "height": null,
      "justify_content": null,
      "justify_items": null,
      "left": null,
      "margin": null,
      "max_height": null,
      "max_width": null,
      "min_height": null,
      "min_width": null,
      "object_fit": null,
      "object_position": null,
      "order": null,
      "overflow": null,
      "overflow_x": null,
      "overflow_y": null,
      "padding": null,
      "right": null,
      "top": null,
      "visibility": null,
      "width": null
     }
    },
    "acb8643891ff4eae9da400f73757af5e": {
     "model_module": "@jupyter-widgets/controls",
     "model_module_version": "1.5.0",
     "model_name": "HTMLModel",
     "state": {
      "_dom_classes": [],
      "_model_module": "@jupyter-widgets/controls",
      "_model_module_version": "1.5.0",
      "_model_name": "HTMLModel",
      "_view_count": null,
      "_view_module": "@jupyter-widgets/controls",
      "_view_module_version": "1.5.0",
      "_view_name": "HTMLView",
      "description": "",
      "description_tooltip": null,
      "layout": "IPY_MODEL_03d731299a434a2794886bdb7f9283fa",
      "placeholder": "​",
      "style": "IPY_MODEL_6559fd7175084329b208d96bc32d2979",
      "value": " 1.81M/1.81M [00:01&lt;00:00, 1.36MB/s]"
     }
    },
    "be397084787d4cfabecaa217bf277f5d": {
     "model_module": "@jupyter-widgets/controls",
     "model_module_version": "1.5.0",
     "model_name": "HBoxModel",
     "state": {
      "_dom_classes": [],
      "_model_module": "@jupyter-widgets/controls",
      "_model_module_version": "1.5.0",
      "_model_name": "HBoxModel",
      "_view_count": null,
      "_view_module": "@jupyter-widgets/controls",
      "_view_module_version": "1.5.0",
      "_view_name": "HBoxView",
      "box_style": "",
      "children": [
       "IPY_MODEL_ea787adcaff1431cb6e3d6a8f62c9e79",
       "IPY_MODEL_67e185a9caf4446a9bc59fdec9bb0bac",
       "IPY_MODEL_c2274b8bbd4b415ca12bf0a36590e275"
      ],
      "layout": "IPY_MODEL_3aca93d6f13149e9b3d39b027cb60084"
     }
    },
    "c0a63fb87e084a47a79389495e99f59f": {
     "model_module": "@jupyter-widgets/controls",
     "model_module_version": "1.5.0",
     "model_name": "ProgressStyleModel",
     "state": {
      "_model_module": "@jupyter-widgets/controls",
      "_model_module_version": "1.5.0",
      "_model_name": "ProgressStyleModel",
      "_view_count": null,
      "_view_module": "@jupyter-widgets/base",
      "_view_module_version": "1.2.0",
      "_view_name": "StyleView",
      "bar_color": null,
      "description_width": ""
     }
    },
    "c2274b8bbd4b415ca12bf0a36590e275": {
     "model_module": "@jupyter-widgets/controls",
     "model_module_version": "1.5.0",
     "model_name": "HTMLModel",
     "state": {
      "_dom_classes": [],
      "_model_module": "@jupyter-widgets/controls",
      "_model_module_version": "1.5.0",
      "_model_name": "HTMLModel",
      "_view_count": null,
      "_view_module": "@jupyter-widgets/controls",
      "_view_module_version": "1.5.0",
      "_view_name": "HTMLView",
      "description": "",
      "description_tooltip": null,
      "layout": "IPY_MODEL_fc2c120736c94d3e89aabc0a3422b396",
      "placeholder": "​",
      "style": "IPY_MODEL_12f1735fd2934c819df12cbae1d217c5",
      "value": " 1.37M/1.37M [00:01&lt;00:00, 1.03MB/s]"
     }
    },
    "d3de90c3c1ce40c6adb00f7594b3e75c": {
     "model_module": "@jupyter-widgets/controls",
     "model_module_version": "1.5.0",
     "model_name": "DescriptionStyleModel",
     "state": {
      "_model_module": "@jupyter-widgets/controls",
      "_model_module_version": "1.5.0",
      "_model_name": "DescriptionStyleModel",
      "_view_count": null,
      "_view_module": "@jupyter-widgets/base",
      "_view_module_version": "1.2.0",
      "_view_name": "StyleView",
      "description_width": ""
     }
    },
    "d865a62b9db64e748e421f3c14563968": {
     "model_module": "@jupyter-widgets/base",
     "model_module_version": "1.2.0",
     "model_name": "LayoutModel",
     "state": {
      "_model_module": "@jupyter-widgets/base",
      "_model_module_version": "1.2.0",
      "_model_name": "LayoutModel",
      "_view_count": null,
      "_view_module": "@jupyter-widgets/base",
      "_view_module_version": "1.2.0",
      "_view_name": "LayoutView",
      "align_content": null,
      "align_items": null,
      "align_self": null,
      "border": null,
      "bottom": null,
      "display": null,
      "flex": null,
      "flex_flow": null,
      "grid_area": null,
      "grid_auto_columns": null,
      "grid_auto_flow": null,
      "grid_auto_rows": null,
      "grid_column": null,
      "grid_gap": null,
      "grid_row": null,
      "grid_template_areas": null,
      "grid_template_columns": null,
      "grid_template_rows": null,
      "height": null,
      "justify_content": null,
      "justify_items": null,
      "left": null,
      "margin": null,
      "max_height": null,
      "max_width": null,
      "min_height": null,
      "min_width": null,
      "object_fit": null,
      "object_position": null,
      "order": null,
      "overflow": null,
      "overflow_x": null,
      "overflow_y": null,
      "padding": null,
      "right": null,
      "top": null,
      "visibility": null,
      "width": null
     }
    },
    "d8fea9276e5d48d8918542c0109fa239": {
     "model_module": "@jupyter-widgets/controls",
     "model_module_version": "1.5.0",
     "model_name": "FloatProgressModel",
     "state": {
      "_dom_classes": [],
      "_model_module": "@jupyter-widgets/controls",
      "_model_module_version": "1.5.0",
      "_model_name": "FloatProgressModel",
      "_view_count": null,
      "_view_module": "@jupyter-widgets/controls",
      "_view_module_version": "1.5.0",
      "_view_name": "ProgressView",
      "bar_style": "success",
      "description": "",
      "description_tooltip": null,
      "layout": "IPY_MODEL_f1c039f0994f4077a37b1c69452e7455",
      "max": 1421754926,
      "min": 0,
      "orientation": "horizontal",
      "style": "IPY_MODEL_0b3c70b313234a8192f307da368bd85a",
      "value": 1421754926
     }
    },
    "da6418a2f32145cca92f1b2cebfab979": {
     "model_module": "@jupyter-widgets/controls",
     "model_module_version": "1.5.0",
     "model_name": "DescriptionStyleModel",
     "state": {
      "_model_module": "@jupyter-widgets/controls",
      "_model_module_version": "1.5.0",
      "_model_name": "DescriptionStyleModel",
      "_view_count": null,
      "_view_module": "@jupyter-widgets/base",
      "_view_module_version": "1.2.0",
      "_view_name": "StyleView",
      "description_width": ""
     }
    },
    "db9a08b41b6c4816ab42efda1b1080f3": {
     "model_module": "@jupyter-widgets/controls",
     "model_module_version": "1.5.0",
     "model_name": "HTMLModel",
     "state": {
      "_dom_classes": [],
      "_model_module": "@jupyter-widgets/controls",
      "_model_module_version": "1.5.0",
      "_model_name": "HTMLModel",
      "_view_count": null,
      "_view_module": "@jupyter-widgets/controls",
      "_view_module_version": "1.5.0",
      "_view_name": "HTMLView",
      "description": "",
      "description_tooltip": null,
      "layout": "IPY_MODEL_ddcac87e8fea4c4db32a2dd9a8257026",
      "placeholder": "​",
      "style": "IPY_MODEL_da6418a2f32145cca92f1b2cebfab979",
      "value": " 1.42G/1.42G [00:19&lt;00:00, 79.9MB/s]"
     }
    },
    "ddb2bbd3069b4be5930ee88e4757efe7": {
     "model_module": "@jupyter-widgets/controls",
     "model_module_version": "1.5.0",
     "model_name": "HTMLModel",
     "state": {
      "_dom_classes": [],
      "_model_module": "@jupyter-widgets/controls",
      "_model_module_version": "1.5.0",
      "_model_name": "HTMLModel",
      "_view_count": null,
      "_view_module": "@jupyter-widgets/controls",
      "_view_module_version": "1.5.0",
      "_view_name": "HTMLView",
      "description": "",
      "description_tooltip": null,
      "layout": "IPY_MODEL_06f20c373a634063b4024225ce5717bd",
      "placeholder": "​",
      "style": "IPY_MODEL_271038e9bac04a21b7f4309d19911efa",
      "value": "Downloading (…)lve/main/config.json: 100%"
     }
    },
    "ddcac87e8fea4c4db32a2dd9a8257026": {
     "model_module": "@jupyter-widgets/base",
     "model_module_version": "1.2.0",
     "model_name": "LayoutModel",
     "state": {
      "_model_module": "@jupyter-widgets/base",
      "_model_module_version": "1.2.0",
      "_model_name": "LayoutModel",
      "_view_count": null,
      "_view_module": "@jupyter-widgets/base",
      "_view_module_version": "1.2.0",
      "_view_name": "LayoutView",
      "align_content": null,
      "align_items": null,
      "align_self": null,
      "border": null,
      "bottom": null,
      "display": null,
      "flex": null,
      "flex_flow": null,
      "grid_area": null,
      "grid_auto_columns": null,
      "grid_auto_flow": null,
      "grid_auto_rows": null,
      "grid_column": null,
      "grid_gap": null,
      "grid_row": null,
      "grid_template_areas": null,
      "grid_template_columns": null,
      "grid_template_rows": null,
      "height": null,
      "justify_content": null,
      "justify_items": null,
      "left": null,
      "margin": null,
      "max_height": null,
      "max_width": null,
      "min_height": null,
      "min_width": null,
      "object_fit": null,
      "object_position": null,
      "order": null,
      "overflow": null,
      "overflow_x": null,
      "overflow_y": null,
      "padding": null,
      "right": null,
      "top": null,
      "visibility": null,
      "width": null
     }
    },
    "dddcb8bb80294f11a4d4d10ce3530c81": {
     "model_module": "@jupyter-widgets/base",
     "model_module_version": "1.2.0",
     "model_name": "LayoutModel",
     "state": {
      "_model_module": "@jupyter-widgets/base",
      "_model_module_version": "1.2.0",
      "_model_name": "LayoutModel",
      "_view_count": null,
      "_view_module": "@jupyter-widgets/base",
      "_view_module_version": "1.2.0",
      "_view_name": "LayoutView",
      "align_content": null,
      "align_items": null,
      "align_self": null,
      "border": null,
      "bottom": null,
      "display": null,
      "flex": null,
      "flex_flow": null,
      "grid_area": null,
      "grid_auto_columns": null,
      "grid_auto_flow": null,
      "grid_auto_rows": null,
      "grid_column": null,
      "grid_gap": null,
      "grid_row": null,
      "grid_template_areas": null,
      "grid_template_columns": null,
      "grid_template_rows": null,
      "height": null,
      "justify_content": null,
      "justify_items": null,
      "left": null,
      "margin": null,
      "max_height": null,
      "max_width": null,
      "min_height": null,
      "min_width": null,
      "object_fit": null,
      "object_position": null,
      "order": null,
      "overflow": null,
      "overflow_x": null,
      "overflow_y": null,
      "padding": null,
      "right": null,
      "top": null,
      "visibility": null,
      "width": null
     }
    },
    "ea787adcaff1431cb6e3d6a8f62c9e79": {
     "model_module": "@jupyter-widgets/controls",
     "model_module_version": "1.5.0",
     "model_name": "HTMLModel",
     "state": {
      "_dom_classes": [],
      "_model_module": "@jupyter-widgets/controls",
      "_model_module_version": "1.5.0",
      "_model_name": "HTMLModel",
      "_view_count": null,
      "_view_module": "@jupyter-widgets/controls",
      "_view_module_version": "1.5.0",
      "_view_name": "HTMLView",
      "description": "",
      "description_tooltip": null,
      "layout": "IPY_MODEL_d865a62b9db64e748e421f3c14563968",
      "placeholder": "​",
      "style": "IPY_MODEL_4c270512b1b14b9a84f34cf1a17ce9f8",
      "value": "Downloading (…)olve/main/merges.txt: 100%"
     }
    },
    "f1c039f0994f4077a37b1c69452e7455": {
     "model_module": "@jupyter-widgets/base",
     "model_module_version": "1.2.0",
     "model_name": "LayoutModel",
     "state": {
      "_model_module": "@jupyter-widgets/base",
      "_model_module_version": "1.2.0",
      "_model_name": "LayoutModel",
      "_view_count": null,
      "_view_module": "@jupyter-widgets/base",
      "_view_module_version": "1.2.0",
      "_view_name": "LayoutView",
      "align_content": null,
      "align_items": null,
      "align_self": null,
      "border": null,
      "bottom": null,
      "display": null,
      "flex": null,
      "flex_flow": null,
      "grid_area": null,
      "grid_auto_columns": null,
      "grid_auto_flow": null,
      "grid_auto_rows": null,
      "grid_column": null,
      "grid_gap": null,
      "grid_row": null,
      "grid_template_areas": null,
      "grid_template_columns": null,
      "grid_template_rows": null,
      "height": null,
      "justify_content": null,
      "justify_items": null,
      "left": null,
      "margin": null,
      "max_height": null,
      "max_width": null,
      "min_height": null,
      "min_width": null,
      "object_fit": null,
      "object_position": null,
      "order": null,
      "overflow": null,
      "overflow_x": null,
      "overflow_y": null,
      "padding": null,
      "right": null,
      "top": null,
      "visibility": null,
      "width": null
     }
    },
    "fc2c120736c94d3e89aabc0a3422b396": {
     "model_module": "@jupyter-widgets/base",
     "model_module_version": "1.2.0",
     "model_name": "LayoutModel",
     "state": {
      "_model_module": "@jupyter-widgets/base",
      "_model_module_version": "1.2.0",
      "_model_name": "LayoutModel",
      "_view_count": null,
      "_view_module": "@jupyter-widgets/base",
      "_view_module_version": "1.2.0",
      "_view_name": "LayoutView",
      "align_content": null,
      "align_items": null,
      "align_self": null,
      "border": null,
      "bottom": null,
      "display": null,
      "flex": null,
      "flex_flow": null,
      "grid_area": null,
      "grid_auto_columns": null,
      "grid_auto_flow": null,
      "grid_auto_rows": null,
      "grid_column": null,
      "grid_gap": null,
      "grid_row": null,
      "grid_template_areas": null,
      "grid_template_columns": null,
      "grid_template_rows": null,
      "height": null,
      "justify_content": null,
      "justify_items": null,
      "left": null,
      "margin": null,
      "max_height": null,
      "max_width": null,
      "min_height": null,
      "min_width": null,
      "object_fit": null,
      "object_position": null,
      "order": null,
      "overflow": null,
      "overflow_x": null,
      "overflow_y": null,
      "padding": null,
      "right": null,
      "top": null,
      "visibility": null,
      "width": null
     }
    },
    "fe51dd18b7da44b285d27de51322a037": {
     "model_module": "@jupyter-widgets/controls",
     "model_module_version": "1.5.0",
     "model_name": "ProgressStyleModel",
     "state": {
      "_model_module": "@jupyter-widgets/controls",
      "_model_module_version": "1.5.0",
      "_model_name": "ProgressStyleModel",
      "_view_count": null,
      "_view_module": "@jupyter-widgets/base",
      "_view_module_version": "1.2.0",
      "_view_name": "StyleView",
      "bar_color": null,
      "description_width": ""
     }
    }
   }
  }
 },
 "nbformat": 4,
 "nbformat_minor": 5
}
