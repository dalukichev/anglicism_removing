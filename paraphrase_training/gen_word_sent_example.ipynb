{
 "cells": [
  {
   "cell_type": "code",
   "execution_count": 1,
   "id": "b434ac04-ff59-40f8-ba36-07cfa1ede932",
   "metadata": {},
   "outputs": [],
   "source": [
    "from gpt_generate import GPTgen\n",
    "from datasets import load_dataset\n",
    "import pandas as pd\n",
    "from tqdm.auto import trange\n",
    "import os"
   ]
  },
  {
   "cell_type": "markdown",
   "id": "23fa1144-8bbe-4ec4-a3ee-4c75027d4fdb",
   "metadata": {},
   "source": [
    "### Все гиперпараметры"
   ]
  },
  {
   "cell_type": "code",
   "execution_count": 2,
   "id": "5c2ec522-bdaa-4612-b261-ac7ab525e465",
   "metadata": {},
   "outputs": [],
   "source": [
    "model_path = 'ai-forever/rugpt3large_based_on_gpt2'\n",
    "weights_path = 'weights/pref_with_word.pt'\n",
    "dataset_path = 'shershen/ru_anglicism'\n",
    "out_path = 'weights'\n",
    "temp = 0.9\n",
    "top_p = 0.7"
   ]
  },
  {
   "cell_type": "markdown",
   "id": "be886576-2a73-4578-a8a8-80eedecf7566",
   "metadata": {},
   "source": [
    "### Класс для генерации"
   ]
  },
  {
   "cell_type": "code",
   "execution_count": 3,
   "id": "dd522ad6-c30a-4138-9018-79e78dda5033",
   "metadata": {},
   "outputs": [],
   "source": [
    "generator = GPTgen(model_path, weights_path)"
   ]
  },
  {
   "cell_type": "markdown",
   "id": "488eb2e1-efae-4661-a56f-8fdc841429a3",
   "metadata": {},
   "source": [
    "### Тестовый датасет"
   ]
  },
  {
   "cell_type": "code",
   "execution_count": 4,
   "id": "263ca647-d1ea-4117-918d-aa376d07f8b0",
   "metadata": {},
   "outputs": [
    {
     "name": "stderr",
     "output_type": "stream",
     "text": [
      "No config specified, defaulting to: ru_anglicism/default\n",
      "Found cached dataset ru_anglicism (/home/jovyan/.cache/huggingface/datasets/shershen___ru_anglicism/default/0.2.0/a1f71309ff0601f2a20ae30cd23f0b52822711d1af481586e36f525a21ed3bc2)\n"
     ]
    },
    {
     "data": {
      "application/vnd.jupyter.widget-view+json": {
       "model_id": "c370bfd5424949bba15aecd687f6c1fa",
       "version_major": 2,
       "version_minor": 0
      },
      "text/plain": [
       "  0%|          | 0/2 [00:00<?, ?it/s]"
      ]
     },
     "metadata": {},
     "output_type": "display_data"
    }
   ],
   "source": [
    "df = load_dataset(dataset_path)\n",
    "test_df = pd.DataFrame(df['test'])"
   ]
  },
  {
   "cell_type": "code",
   "execution_count": 5,
   "id": "82f90141-56b6-47f8-96e9-285d6a600d9e",
   "metadata": {},
   "outputs": [
    {
     "data": {
      "text/html": [
       "<div>\n",
       "<style scoped>\n",
       "    .dataframe tbody tr th:only-of-type {\n",
       "        vertical-align: middle;\n",
       "    }\n",
       "\n",
       "    .dataframe tbody tr th {\n",
       "        vertical-align: top;\n",
       "    }\n",
       "\n",
       "    .dataframe thead th {\n",
       "        text-align: right;\n",
       "    }\n",
       "</style>\n",
       "<table border=\"1\" class=\"dataframe\">\n",
       "  <thead>\n",
       "    <tr style=\"text-align: right;\">\n",
       "      <th></th>\n",
       "      <th>word</th>\n",
       "      <th>form</th>\n",
       "      <th>sentence</th>\n",
       "      <th>paraphrase</th>\n",
       "    </tr>\n",
       "  </thead>\n",
       "  <tbody>\n",
       "    <tr>\n",
       "      <th>0</th>\n",
       "      <td>скринить</td>\n",
       "      <td>скринит</td>\n",
       "      <td>Эта дура скринит переписки и постит в инстаграм.</td>\n",
       "      <td>Эта дура фотографирует переписки и выставляет ...</td>\n",
       "    </tr>\n",
       "    <tr>\n",
       "      <th>1</th>\n",
       "      <td>вайб</td>\n",
       "      <td>вайб</td>\n",
       "      <td>Не могу это объяснить, но у четверга и 16:00 о...</td>\n",
       "      <td>Не могу это объяснить, но у четверга и 16:00 о...</td>\n",
       "    </tr>\n",
       "    <tr>\n",
       "      <th>2</th>\n",
       "      <td>вайб</td>\n",
       "      <td>вайб</td>\n",
       "      <td>\"Вчера выпал пушистый снег и в воздухе царил н...</td>\n",
       "      <td>\"Вчера выпал пушистый снег и в воздухе царило ...</td>\n",
       "    </tr>\n",
       "    <tr>\n",
       "      <th>3</th>\n",
       "      <td>чек-ап</td>\n",
       "      <td>чекап</td>\n",
       "      <td>Программа чекап в ИНВИТРО создана специально д...</td>\n",
       "      <td>Программа комплексного медицинского обследован...</td>\n",
       "    </tr>\n",
       "    <tr>\n",
       "      <th>4</th>\n",
       "      <td>чек-ап</td>\n",
       "      <td>Чек-Ап</td>\n",
       "      <td>В ЛДЦ \"Кутузовский\" в Москве вы можете пройти ...</td>\n",
       "      <td>В ЛДЦ \"Кутузовский\" в Москве вы можете пройти ...</td>\n",
       "    </tr>\n",
       "  </tbody>\n",
       "</table>\n",
       "</div>"
      ],
      "text/plain": [
       "       word     form                                           sentence  \\\n",
       "0  скринить  скринит   Эта дура скринит переписки и постит в инстаграм.   \n",
       "1      вайб     вайб  Не могу это объяснить, но у четверга и 16:00 о...   \n",
       "2      вайб     вайб  \"Вчера выпал пушистый снег и в воздухе царил н...   \n",
       "3    чек-ап    чекап  Программа чекап в ИНВИТРО создана специально д...   \n",
       "4    чек-ап   Чек-Ап  В ЛДЦ \"Кутузовский\" в Москве вы можете пройти ...   \n",
       "\n",
       "                                          paraphrase  \n",
       "0  Эта дура фотографирует переписки и выставляет ...  \n",
       "1  Не могу это объяснить, но у четверга и 16:00 о...  \n",
       "2  \"Вчера выпал пушистый снег и в воздухе царило ...  \n",
       "3  Программа комплексного медицинского обследован...  \n",
       "4  В ЛДЦ \"Кутузовский\" в Москве вы можете пройти ...  "
      ]
     },
     "execution_count": 5,
     "metadata": {},
     "output_type": "execute_result"
    }
   ],
   "source": [
    "test_df.head(5)"
   ]
  },
  {
   "cell_type": "markdown",
   "id": "b1c0e31d-9f1d-4001-8134-c98da01b4922",
   "metadata": {},
   "source": [
    "### Пример генерации для одной пары англицизм/текст"
   ]
  },
  {
   "cell_type": "code",
   "execution_count": 6,
   "id": "08a15c47-d7bb-4c2c-a878-bd62760424b6",
   "metadata": {},
   "outputs": [],
   "source": [
    "texts = [test_df['form'].values[1], test_df['sentence'].values[1]]"
   ]
  },
  {
   "cell_type": "code",
   "execution_count": 7,
   "id": "95ae255a-19dc-4bbb-8d87-932322dd06da",
   "metadata": {},
   "outputs": [
    {
     "data": {
      "text/plain": [
       "['вайб', 'Не могу это объяснить, но у четверга и 16:00 одинаковый вайб.']"
      ]
     },
     "execution_count": 7,
     "metadata": {},
     "output_type": "execute_result"
    }
   ],
   "source": [
    "texts"
   ]
  },
  {
   "cell_type": "code",
   "execution_count": 8,
   "id": "7ffc6f69-6f95-43e1-b056-227e14745760",
   "metadata": {},
   "outputs": [],
   "source": [
    "paraphr = generator.generate(texts, temp=temp, top_p=top_p)"
   ]
  },
  {
   "cell_type": "code",
   "execution_count": 9,
   "id": "13af3087-7195-44fe-93e6-1c83ecfd1085",
   "metadata": {},
   "outputs": [
    {
     "data": {
      "text/plain": [
       "['Не могу это объяснить, но у четверга и 16:00 одинаковый вайб.']"
      ]
     },
     "execution_count": 9,
     "metadata": {},
     "output_type": "execute_result"
    }
   ],
   "source": [
    "paraphr[0]"
   ]
  },
  {
   "cell_type": "markdown",
   "id": "82e84e01-f0ab-495a-8272-7ce3c7e9fdeb",
   "metadata": {},
   "source": [
    "### Генерация для всего тестового сета"
   ]
  },
  {
   "cell_type": "code",
   "execution_count": 10,
   "id": "344e3238-7ac7-4ab5-8aba-c386689935ce",
   "metadata": {},
   "outputs": [],
   "source": [
    "def get_paraphrase(df, batch=16):\n",
    "    paraphrs = []\n",
    "    for pos in trange(0, len(df), batch):\n",
    "        texts = [df['form'].values[pos:pos+batch].tolist(), df['sentence'].values[pos:pos+batch].tolist()]\n",
    "        loc_paraphr = generator.generate(texts, temp=temp, top_p=top_p)\n",
    "        paraphrs.extend(loc_paraphr[0])\n",
    "    return paraphrs"
   ]
  },
  {
   "cell_type": "code",
   "execution_count": 11,
   "id": "48409dd4-be50-4d9c-919c-a74e589e502c",
   "metadata": {},
   "outputs": [
    {
     "data": {
      "application/vnd.jupyter.widget-view+json": {
       "model_id": "4f5e27adccb14377b30a3deecb8c8411",
       "version_major": 2,
       "version_minor": 0
      },
      "text/plain": [
       "  0%|          | 0/5 [00:00<?, ?it/s]"
      ]
     },
     "metadata": {},
     "output_type": "display_data"
    }
   ],
   "source": [
    "all_p = get_paraphrase(test_df)"
   ]
  },
  {
   "cell_type": "code",
   "execution_count": 12,
   "id": "943669e0-0115-4466-8a28-600cb0a7ce21",
   "metadata": {},
   "outputs": [],
   "source": [
    "test_copy = test_df.copy()\n",
    "test_copy['preds'] = all_p"
   ]
  },
  {
   "cell_type": "code",
   "execution_count": 13,
   "id": "8603d52c-732d-4765-9bd5-9f354b96f5b2",
   "metadata": {},
   "outputs": [
    {
     "data": {
      "text/plain": [
       "['Эта дура пишет в инстаграм.',\n",
       " 'Не могу это объяснить, но у четверга и 16:00 одинаковый набор будильников.',\n",
       " '\"Вчера выпал пушистый снег и в воздухе царил настоящий рождественский снег\".',\n",
       " 'Программа обследования организма на ранней стадии создана специально для диагностики здоровья и выявления заболеваний на ранней стадии.',\n",
       " 'В ЛДЦ \"Кутузовский\" в Москве вы можете пройти полное обследование всего организма.']"
      ]
     },
     "execution_count": 13,
     "metadata": {},
     "output_type": "execute_result"
    }
   ],
   "source": [
    "all_p[0:5]"
   ]
  },
  {
   "cell_type": "code",
   "execution_count": 14,
   "id": "fba78072-c3a1-4a8b-aab9-8d4042fd7bcf",
   "metadata": {},
   "outputs": [],
   "source": [
    "test_copy.to_csv(os.path.join(out_path, 'paraphr_w_p.csv'), index=False)"
   ]
  },
  {
   "cell_type": "code",
   "execution_count": null,
   "id": "8ad42cf3-e90b-4a10-abc6-ac13dcfc901d",
   "metadata": {},
   "outputs": [],
   "source": []
  },
  {
   "cell_type": "code",
   "execution_count": null,
   "id": "8845a8bc-ed19-43cf-9155-89a373407b58",
   "metadata": {},
   "outputs": [],
   "source": []
  }
 ],
 "metadata": {
  "kernelspec": {
   "display_name": "Python 3 (ipykernel)",
   "language": "python",
   "name": "python3"
  },
  "language_info": {
   "codemirror_mode": {
    "name": "ipython",
    "version": 3
   },
   "file_extension": ".py",
   "mimetype": "text/x-python",
   "name": "python",
   "nbconvert_exporter": "python",
   "pygments_lexer": "ipython3",
   "version": "3.7.12"
  }
 },
 "nbformat": 4,
 "nbformat_minor": 5
}
