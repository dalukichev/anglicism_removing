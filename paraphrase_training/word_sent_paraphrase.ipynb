{
 "cells": [
  {
   "cell_type": "markdown",
   "id": "b391d41f-28a5-4c08-a813-ab3c4f61a49d",
   "metadata": {},
   "source": [
    "## Prefix tuning"
   ]
  },
  {
   "cell_type": "markdown",
   "id": "TyJ4Glj-El02",
   "metadata": {
    "id": "TyJ4Glj-El02"
   },
   "source": [
    "В этом ноутбуке мы обучаем префиксы по следующей схеме: \n",
    "<br>\n",
    "Префикс - англицизм - префикс - предложение с англицизмом - префикс - перефраз\n",
    "<br><br>\n",
    "Минус этого подхода заключается в том, что на вход модели вместе с предложением нужно подавать англицизм, но, если у нас получится обучить дополнительную модель детектирующую англицизм в предложении, то эта проблема будет решена\n",
    "<br><br>\n",
    "Большой плюс этого подхода заключается в том, что модель обучается гораздо лучше и итоговый результат перефраза получается лучше"
   ]
  },
  {
   "cell_type": "code",
   "execution_count": 1,
   "id": "6485302e-51ad-441e-9f4d-ad4499bf9024",
   "metadata": {
    "id": "6485302e-51ad-441e-9f4d-ad4499bf9024",
    "tags": []
   },
   "outputs": [
    {
     "name": "stderr",
     "output_type": "stream",
     "text": [
      "/home/user/conda/lib/python3.7/site-packages/tensorflow/python/framework/dtypes.py:585: DeprecationWarning: `np.object` is a deprecated alias for the builtin `object`. To silence this warning, use `object` by itself. Doing this will not modify any behavior and is safe. \n",
      "Deprecated in NumPy 1.20; for more details and guidance: https://numpy.org/devdocs/release/1.20.0-notes.html#deprecations\n",
      "  np.object,\n",
      "/home/user/conda/lib/python3.7/site-packages/tensorflow/python/framework/dtypes.py:637: DeprecationWarning: `np.bool` is a deprecated alias for the builtin `bool`. To silence this warning, use `bool` by itself. Doing this will not modify any behavior and is safe. If you specifically wanted the numpy scalar type, use `np.bool_` here.\n",
      "Deprecated in NumPy 1.20; for more details and guidance: https://numpy.org/devdocs/release/1.20.0-notes.html#deprecations\n",
      "  np.bool,\n",
      "/home/user/conda/lib/python3.7/site-packages/tensorflow/python/framework/tensor_util.py:108: DeprecationWarning: `np.object` is a deprecated alias for the builtin `object`. To silence this warning, use `object` by itself. Doing this will not modify any behavior and is safe. \n",
      "Deprecated in NumPy 1.20; for more details and guidance: https://numpy.org/devdocs/release/1.20.0-notes.html#deprecations\n",
      "  np.object:\n",
      "/home/user/conda/lib/python3.7/site-packages/tensorflow/python/framework/tensor_util.py:110: DeprecationWarning: `np.bool` is a deprecated alias for the builtin `bool`. To silence this warning, use `bool` by itself. Doing this will not modify any behavior and is safe. If you specifically wanted the numpy scalar type, use `np.bool_` here.\n",
      "Deprecated in NumPy 1.20; for more details and guidance: https://numpy.org/devdocs/release/1.20.0-notes.html#deprecations\n",
      "  np.bool:\n",
      "/home/user/conda/lib/python3.7/site-packages/tensorflow/python/ops/numpy_ops/np_random.py:110: DeprecationWarning: `np.int` is a deprecated alias for the builtin `int`. To silence this warning, use `int` by itself. Doing this will not modify any behavior and is safe. When replacing `np.int`, you may wish to use e.g. `np.int64` or `np.int32` to specify the precision. If you wish to review your current use, check the release note link for additional information.\n",
      "Deprecated in NumPy 1.20; for more details and guidance: https://numpy.org/devdocs/release/1.20.0-notes.html#deprecations\n",
      "  def randint(low, high=None, size=None, dtype=onp.int):  # pylint: disable=missing-function-docstring\n"
     ]
    }
   ],
   "source": [
    "import numpy as np\n",
    "import pandas as pd\n",
    "import torch\n",
    "import torch.nn as nn\n",
    "import torch.nn.functional as F\n",
    "from torch.optim import AdamW\n",
    "from tqdm.auto import tqdm, trange\n",
    "import random\n",
    "import os\n",
    "import re\n",
    "import itertools\n",
    "from collections.abc import Iterable\n",
    "from transformers import GPT2LMHeadModel,GPT2Tokenizer, AutoModel, AutoTokenizer, get_linear_schedule_with_warmup\n",
    "import matplotlib.pyplot as plt\n",
    "from itertools import product, zip_longest\n",
    "import loralib as lora\n",
    "from datasets import load_dataset"
   ]
  },
  {
   "cell_type": "code",
   "execution_count": 2,
   "id": "2dedd19c-5bd7-43c4-8bc5-d9c7e0b906bc",
   "metadata": {},
   "outputs": [],
   "source": [
    "# device\n",
    "device='cuda' if torch.cuda.is_available() else 'cpu'\n",
    "# paths\n",
    "model_path = 'ai-forever/rugpt3large_based_on_gpt2'\n",
    "dataset_path = 'shershen/ru_anglicism'\n",
    "out_dir = 'weights'\n",
    "# training params\n",
    "lr = 1e-2\n",
    "epochs = 5\n",
    "batch_size = 8\n",
    "# lengths of prefixes\n",
    "l1 = 15\n",
    "l2 = 15\n",
    "l3 = 40"
   ]
  },
  {
   "cell_type": "code",
   "execution_count": 3,
   "id": "93a67bcb-f72a-4c8b-b0f0-9a88dec92f5a",
   "metadata": {
    "colab": {
     "base_uri": "https://localhost:8080/",
     "height": 145,
     "referenced_widgets": [
      "7e7162a33d364d3591321ee9bbdce7af",
      "419e7e38440a42229559ce697fa90c9f",
      "fb04d26355f54b0c825fd75f90a2981e",
      "1eb9b5cebfb74965be2b7063d98dc1a1",
      "0eff0528b1194b868d1bf29c05a082d9",
      "182b134308e146de871db103d66f554e",
      "d755907e4f0f41a4a2cf81e7c6c9b110",
      "e5accef455f549c58f34cd8059246f3c",
      "4464ac4a3f48474ba99f3b8a4182a60c",
      "b3806817c4c54ad1ac0e2f51751f82ce",
      "ef0c311221db482a9c443f51d7088326",
      "7d961f8b824b45d994bb6dd9e5e50708",
      "986a586001444d28b067d06636d73558",
      "ae286d71fbb447d899139bc64def0f52",
      "b7fe1a9d85dc4f4b9d850974c3113bc8",
      "278efb783d1a47e2a3ccd38f3679cfe8",
      "3ed2a742b71a45c59b1c79cbb44ee789",
      "baac213ae24e4811b404678f4d2dcb57",
      "c1cd26a7f02b4107b5ffbbddf75d098c",
      "18393dead73c4b31a2d7b5ddfdf45cf2",
      "48897f2473dc4267825ad5f3b70b922d",
      "3856fe17a3954251bf532bc25be1ea11",
      "aa35106d25824bbdbf97cc4c515a87f0",
      "102291a13f6a4e9dba442216c12c5d34",
      "a0446d070c5b42aea54893d59ba77b47",
      "dd184855ad3b4153be7206ed9573e4b4",
      "5cc6d3798ea941f6845b0dee3910a9da",
      "386b3015e97c4199b72c5ee50d91780e",
      "b7750a7e5dee4bf6ae22c26439a4da00",
      "49ae5a51dde442a98c13e53b6dd1f3da",
      "be3fdfac4293483a968380f5272d252a",
      "9790330f31924e53bde84c3d222d8d28",
      "b34d36ea63a9471bb8eb34bbe47c8dc3",
      "23b581c8c8674842a50bdab9acbefe6c",
      "ca184e4932924b52adc047ea159907a9",
      "441c2189ca26449ba0d1042c22651759",
      "fcdb58b95fba4597b1d0ec22b2e56a2b",
      "67357a02a92a4022b21ff5fa115ce2fe",
      "99608568d4aa422da31b816e7456d0d8",
      "c5b848ed24314f4fa6d1e74052433660",
      "3e004b6240974a51b6b074a026b31998",
      "36b9acfd03cc4340abbd7ab2b8072193",
      "697676bef1624c868cb131b87b0d4b5f",
      "3f5d36e607b749ecbfc859830154dbcb"
     ]
    },
    "id": "93a67bcb-f72a-4c8b-b0f0-9a88dec92f5a",
    "outputId": "7c53eaa4-8bba-4a83-f94d-c6e1aa267b0c",
    "tags": []
   },
   "outputs": [],
   "source": [
    "gpt_model=GPT2LMHeadModel.from_pretrained(model_path,output_hidden_states=True).to(device)\n",
    "gpt_tokenizer=GPT2Tokenizer.from_pretrained(model_path)"
   ]
  },
  {
   "cell_type": "code",
   "execution_count": 4,
   "id": "5ed34b27-503c-4b58-b3e0-a2eddf5bea8b",
   "metadata": {
    "id": "5ed34b27-503c-4b58-b3e0-a2eddf5bea8b",
    "tags": []
   },
   "outputs": [],
   "source": [
    "gpt_tokenizer.pad_token='<pad>'"
   ]
  },
  {
   "cell_type": "markdown",
   "id": "Eyz0fgXkGKYg",
   "metadata": {
    "id": "Eyz0fgXkGKYg"
   },
   "source": [
    "### Предобработка данных: "
   ]
  },
  {
   "cell_type": "markdown",
   "id": "b6ede29d-2375-4283-b906-dceda0bb8c1c",
   "metadata": {},
   "source": [
    "Добавляем знак табуляции (\\t) в конец предложения и перефраза для того, чтобы модель запомнила как и где останавливаться: при генерации можно будет просто выкидывать всё, что следует за этим знаком"
   ]
  },
  {
   "cell_type": "code",
   "execution_count": 5,
   "id": "a2ba85a5-82cc-48bc-a976-82fe1522cf56",
   "metadata": {
    "id": "a2ba85a5-82cc-48bc-a976-82fe1522cf56",
    "tags": []
   },
   "outputs": [
    {
     "name": "stderr",
     "output_type": "stream",
     "text": [
      "No config specified, defaulting to: ru_anglicism/default\n",
      "Found cached dataset ru_anglicism (/home/jovyan/.cache/huggingface/datasets/shershen___ru_anglicism/default/0.2.0/a1f71309ff0601f2a20ae30cd23f0b52822711d1af481586e36f525a21ed3bc2)\n"
     ]
    },
    {
     "data": {
      "application/vnd.jupyter.widget-view+json": {
       "model_id": "9c6b7d18e22f4adda97d6347959c7183",
       "version_major": 2,
       "version_minor": 0
      },
      "text/plain": [
       "  0%|          | 0/2 [00:00<?, ?it/s]"
      ]
     },
     "metadata": {},
     "output_type": "display_data"
    }
   ],
   "source": [
    "df = load_dataset(dataset_path)\n",
    "train_df = pd.DataFrame(df['train'])\n",
    "test_df = pd.DataFrame(df['test'])"
   ]
  },
  {
   "cell_type": "code",
   "execution_count": 6,
   "id": "WS2vey64qobJ",
   "metadata": {
    "id": "WS2vey64qobJ"
   },
   "outputs": [],
   "source": [
    "train_df['sentence'] = train_df['sentence']\n",
    "train_df['paraphrase'] = train_df['paraphrase'] + '\\t'\n",
    "test_df['sentence'] = test_df['sentence']\n",
    "test_df['paraphrase'] = test_df['paraphrase'] + '\\t'"
   ]
  },
  {
   "cell_type": "code",
   "execution_count": 7,
   "id": "1ba099d2-cafa-44db-b1ad-a845fbd1bba4",
   "metadata": {},
   "outputs": [
    {
     "data": {
      "text/html": [
       "<div>\n",
       "<style scoped>\n",
       "    .dataframe tbody tr th:only-of-type {\n",
       "        vertical-align: middle;\n",
       "    }\n",
       "\n",
       "    .dataframe tbody tr th {\n",
       "        vertical-align: top;\n",
       "    }\n",
       "\n",
       "    .dataframe thead th {\n",
       "        text-align: right;\n",
       "    }\n",
       "</style>\n",
       "<table border=\"1\" class=\"dataframe\">\n",
       "  <thead>\n",
       "    <tr style=\"text-align: right;\">\n",
       "      <th></th>\n",
       "      <th>word</th>\n",
       "      <th>form</th>\n",
       "      <th>sentence</th>\n",
       "      <th>paraphrase</th>\n",
       "    </tr>\n",
       "  </thead>\n",
       "  <tbody>\n",
       "    <tr>\n",
       "      <th>0</th>\n",
       "      <td>кринж</td>\n",
       "      <td>кринжовую</td>\n",
       "      <td>Моя подруга рассказала кринжовую историю.</td>\n",
       "      <td>Моя подруга рассказала стыдную историю.\\t</td>\n",
       "    </tr>\n",
       "    <tr>\n",
       "      <th>1</th>\n",
       "      <td>кринж</td>\n",
       "      <td>кринж</td>\n",
       "      <td>Я словил кринж после этого ролика.</td>\n",
       "      <td>Я испытал стыд после этого ролика.\\t</td>\n",
       "    </tr>\n",
       "    <tr>\n",
       "      <th>2</th>\n",
       "      <td>кринж</td>\n",
       "      <td>кринж</td>\n",
       "      <td>Ситуация полный кринж.</td>\n",
       "      <td>Ситуация полный стыд.\\t</td>\n",
       "    </tr>\n",
       "    <tr>\n",
       "      <th>3</th>\n",
       "      <td>лук, маркетинг</td>\n",
       "      <td>лук, маркетинга</td>\n",
       "      <td>Эта девушка предложила снять новый лук с новой...</td>\n",
       "      <td>Эта девушка предложила снять новый образ с нов...</td>\n",
       "    </tr>\n",
       "    <tr>\n",
       "      <th>4</th>\n",
       "      <td>лукбук</td>\n",
       "      <td>лукбуке</td>\n",
       "      <td>\"Розница предусмотрена для тех, у кого нет вре...</td>\n",
       "      <td>\"Розница предусмотрена для тех, у кого нет вре...</td>\n",
       "    </tr>\n",
       "  </tbody>\n",
       "</table>\n",
       "</div>"
      ],
      "text/plain": [
       "             word             form  \\\n",
       "0           кринж        кринжовую   \n",
       "1           кринж            кринж   \n",
       "2           кринж            кринж   \n",
       "3  лук, маркетинг  лук, маркетинга   \n",
       "4          лукбук          лукбуке   \n",
       "\n",
       "                                            sentence  \\\n",
       "0          Моя подруга рассказала кринжовую историю.   \n",
       "1                 Я словил кринж после этого ролика.   \n",
       "2                             Ситуация полный кринж.   \n",
       "3  Эта девушка предложила снять новый лук с новой...   \n",
       "4  \"Розница предусмотрена для тех, у кого нет вре...   \n",
       "\n",
       "                                          paraphrase  \n",
       "0          Моя подруга рассказала стыдную историю.\\t  \n",
       "1               Я испытал стыд после этого ролика.\\t  \n",
       "2                            Ситуация полный стыд.\\t  \n",
       "3  Эта девушка предложила снять новый образ с нов...  \n",
       "4  \"Розница предусмотрена для тех, у кого нет вре...  "
      ]
     },
     "execution_count": 7,
     "metadata": {},
     "output_type": "execute_result"
    }
   ],
   "source": [
    "train_df.head()"
   ]
  },
  {
   "cell_type": "code",
   "execution_count": 8,
   "id": "8ca835d7-8236-4b70-91c6-9620d7bd1039",
   "metadata": {},
   "outputs": [
    {
     "data": {
      "text/html": [
       "<div>\n",
       "<style scoped>\n",
       "    .dataframe tbody tr th:only-of-type {\n",
       "        vertical-align: middle;\n",
       "    }\n",
       "\n",
       "    .dataframe tbody tr th {\n",
       "        vertical-align: top;\n",
       "    }\n",
       "\n",
       "    .dataframe thead th {\n",
       "        text-align: right;\n",
       "    }\n",
       "</style>\n",
       "<table border=\"1\" class=\"dataframe\">\n",
       "  <thead>\n",
       "    <tr style=\"text-align: right;\">\n",
       "      <th></th>\n",
       "      <th>word</th>\n",
       "      <th>form</th>\n",
       "      <th>sentence</th>\n",
       "      <th>paraphrase</th>\n",
       "    </tr>\n",
       "  </thead>\n",
       "  <tbody>\n",
       "    <tr>\n",
       "      <th>0</th>\n",
       "      <td>скринить</td>\n",
       "      <td>скринит</td>\n",
       "      <td>Эта дура скринит переписки и постит в инстаграм.</td>\n",
       "      <td>Эта дура фотографирует переписки и выставляет ...</td>\n",
       "    </tr>\n",
       "    <tr>\n",
       "      <th>1</th>\n",
       "      <td>вайб</td>\n",
       "      <td>вайб</td>\n",
       "      <td>Не могу это объяснить, но у четверга и 16:00 о...</td>\n",
       "      <td>Не могу это объяснить, но у четверга и 16:00 о...</td>\n",
       "    </tr>\n",
       "    <tr>\n",
       "      <th>2</th>\n",
       "      <td>вайб</td>\n",
       "      <td>вайб</td>\n",
       "      <td>\"Вчера выпал пушистый снег и в воздухе царил н...</td>\n",
       "      <td>\"Вчера выпал пушистый снег и в воздухе царило ...</td>\n",
       "    </tr>\n",
       "    <tr>\n",
       "      <th>3</th>\n",
       "      <td>чек-ап</td>\n",
       "      <td>чекап</td>\n",
       "      <td>Программа чекап в ИНВИТРО создана специально д...</td>\n",
       "      <td>Программа комплексного медицинского обследован...</td>\n",
       "    </tr>\n",
       "    <tr>\n",
       "      <th>4</th>\n",
       "      <td>чек-ап</td>\n",
       "      <td>Чек-Ап</td>\n",
       "      <td>В ЛДЦ \"Кутузовский\" в Москве вы можете пройти ...</td>\n",
       "      <td>В ЛДЦ \"Кутузовский\" в Москве вы можете пройти ...</td>\n",
       "    </tr>\n",
       "  </tbody>\n",
       "</table>\n",
       "</div>"
      ],
      "text/plain": [
       "       word     form                                           sentence  \\\n",
       "0  скринить  скринит   Эта дура скринит переписки и постит в инстаграм.   \n",
       "1      вайб     вайб  Не могу это объяснить, но у четверга и 16:00 о...   \n",
       "2      вайб     вайб  \"Вчера выпал пушистый снег и в воздухе царил н...   \n",
       "3    чек-ап    чекап  Программа чекап в ИНВИТРО создана специально д...   \n",
       "4    чек-ап   Чек-Ап  В ЛДЦ \"Кутузовский\" в Москве вы можете пройти ...   \n",
       "\n",
       "                                          paraphrase  \n",
       "0  Эта дура фотографирует переписки и выставляет ...  \n",
       "1  Не могу это объяснить, но у четверга и 16:00 о...  \n",
       "2  \"Вчера выпал пушистый снег и в воздухе царило ...  \n",
       "3  Программа комплексного медицинского обследован...  \n",
       "4  В ЛДЦ \"Кутузовский\" в Москве вы можете пройти ...  "
      ]
     },
     "execution_count": 8,
     "metadata": {},
     "output_type": "execute_result"
    }
   ],
   "source": [
    "test_df.head()"
   ]
  },
  {
   "cell_type": "markdown",
   "id": "23fb9812-b8f6-41d1-b9f2-6710ee3d3b5d",
   "metadata": {},
   "source": [
    "Функция для создания префикса, инициализируем его не случайно, а берём рандомный вектор с первого слоя модели, в статье авторы писали, что так получается лучше"
   ]
  },
  {
   "cell_type": "code",
   "execution_count": 9,
   "id": "4e02f9f7-3abf-4c51-a953-41c4e73ec5f6",
   "metadata": {
    "id": "4e02f9f7-3abf-4c51-a953-41c4e73ec5f6",
    "tags": []
   },
   "outputs": [],
   "source": [
    "def create_tensor(tensor_len=30,hid_dim=1024):\n",
    "    inds = random.sample(range(0, gpt_tokenizer.vocab_size), tensor_len)\n",
    "    tens = gpt_model.transformer.wte.weight[inds, :].unsqueeze(dim=0).clone().detach()\n",
    "    return tens"
   ]
  },
  {
   "cell_type": "markdown",
   "id": "bd623328-c8b0-43a8-b04b-41c89d953326",
   "metadata": {},
   "source": [
    "### Training"
   ]
  },
  {
   "cell_type": "markdown",
   "id": "xAHc9AouHdjW",
   "metadata": {
    "id": "xAHc9AouHdjW"
   },
   "source": [
    "Циклы для обучения. Для удобства цикл идёт по колонкам и между текстами в колонках пихает заданные тензоры"
   ]
  },
  {
   "cell_type": "code",
   "execution_count": 10,
   "id": "7ac8bcf1-10fc-43c8-8f57-4ed1b311fd3c",
   "metadata": {
    "id": "7ac8bcf1-10fc-43c8-8f57-4ed1b311fd3c",
    "tags": []
   },
   "outputs": [],
   "source": [
    "def train_cycle(model,tokenizer,arr_of_tensors,train_df, optimizer, scheduler=None,dx=8):\n",
    "    losses=[]\n",
    "    loss_func=nn.CrossEntropyLoss()\n",
    "    for pos in tqdm(range(0,len(train_df),dx)):\n",
    "        optimizer.zero_grad()\n",
    "        inp_embed=[]\n",
    "        attention_mask=[]\n",
    "        current_pos=0\n",
    "        target_position=[]\n",
    "        target_tokens=[]\n",
    "        for tensor,column in zip(arr_of_tensors,train_df.columns):            \n",
    "            texts=list(train_df[column].values[pos:pos+dx])\n",
    "            shape_dim_0=len(texts)\n",
    "            text_tokens=tokenizer(texts,padding=True,return_tensors='pt').to(device)\n",
    "            text_embedding=model.get_input_embeddings()(text_tokens['input_ids'])\n",
    "            \n",
    "            inp_embed.append(tensor.repeat_interleave(shape_dim_0,dim=0))\n",
    "            attention_mask.append(torch.ones(shape_dim_0,tensor.shape[1]).to(device))\n",
    "            \n",
    "            inp_embed.append(text_embedding)\n",
    "            attention_mask.append(text_tokens['attention_mask'])\n",
    "            \n",
    "            if column.find('paraphrase')>=0:\n",
    "                target_position.extend(range(current_pos+tensor.shape[1]-1,\n",
    "                                             current_pos+tensor.shape[1]+text_embedding.shape[1]-1))\n",
    "                mid_target_toks=torch.where(text_tokens['attention_mask']==0,-100,text_tokens['input_ids'])\n",
    "                target_tokens.append(mid_target_toks)\n",
    "            current_pos+=tensor.shape[1]+text_embedding.shape[1]\n",
    "        inp_embed=torch.cat(inp_embed,dim=1)\n",
    "        attention_mask=torch.cat(attention_mask,dim=1)\n",
    "        target_tokens=torch.cat(target_tokens,dim=1)\n",
    "        \n",
    "        model_output=model(inputs_embeds=inp_embed,attention_mask=attention_mask)['logits'][:,target_position,:]\n",
    "        loss=loss_func(model_output.view(-1,model_output.size(-1)), target_tokens.view(-1))\n",
    "        losses.append(loss.item())\n",
    "        loss.backward()\n",
    "        optimizer.step()\n",
    "        if scheduler:\n",
    "            scheduler.step()\n",
    "        torch.cuda.empty_cache()\n",
    "    return losses"
   ]
  },
  {
   "cell_type": "code",
   "execution_count": 11,
   "id": "986c4817-73df-4f74-b2cd-88d2e20b33e3",
   "metadata": {
    "id": "986c4817-73df-4f74-b2cd-88d2e20b33e3",
    "tags": []
   },
   "outputs": [],
   "source": [
    "def val_cycle(model,tokenizer,arr_of_tensors,df,dx=20):\n",
    "    losses=[]\n",
    "    loss_func=nn.CrossEntropyLoss()\n",
    "    for pos in tqdm(range(0,len(df),dx)):\n",
    "        inp_embed=[]\n",
    "        attention_mask=[]\n",
    "        current_pos=0\n",
    "        target_position=[]\n",
    "        target_tokens=[]\n",
    "        for tensor,column in zip(arr_of_tensors,df.columns):\n",
    "            \n",
    "            texts=list(df[column].values[pos:pos+dx])\n",
    "            shape_dim_0=len(texts)\n",
    "            text_tokens=tokenizer(texts,padding=True,return_tensors='pt').to(device)\n",
    "            text_embedding=model.get_input_embeddings()(text_tokens['input_ids'])\n",
    "            \n",
    "            inp_embed.append(tensor.repeat_interleave(shape_dim_0,dim=0))\n",
    "            attention_mask.append(torch.ones(shape_dim_0,tensor.shape[1]).to(device))\n",
    "            \n",
    "            inp_embed.append(text_embedding)\n",
    "            attention_mask.append(text_tokens['attention_mask'])\n",
    "            \n",
    "            if column.find('paraphrase')>=0:\n",
    "                target_position.extend(range(current_pos+tensor.shape[1]-1,\n",
    "                                             current_pos+tensor.shape[1]+text_embedding.shape[1]-1))\n",
    "                mid_target_toks=torch.where(text_tokens['attention_mask']==0,-100,text_tokens['input_ids'])\n",
    "                target_tokens.append(mid_target_toks)\n",
    "            current_pos+=tensor.shape[1]+text_embedding.shape[1]\n",
    "        inp_embed=torch.cat(inp_embed,dim=1)\n",
    "        attention_mask=torch.cat(attention_mask,dim=1)\n",
    "        target_tokens=torch.cat(target_tokens,dim=1)\n",
    "        \n",
    "        model_output=model(inputs_embeds=inp_embed,attention_mask=attention_mask)['logits'][:,target_position,:]\n",
    "        loss=loss_func(model_output.view(-1,model_output.size(-1)), target_tokens.view(-1))\n",
    "        losses.append(loss.item())\n",
    "    return losses"
   ]
  },
  {
   "cell_type": "code",
   "execution_count": 12,
   "id": "5cd25c1f-4017-466d-8fb4-3f6ef29b6157",
   "metadata": {
    "id": "5cd25c1f-4017-466d-8fb4-3f6ef29b6157",
    "tags": []
   },
   "outputs": [],
   "source": [
    "angl_arr=[create_tensor(l1).to(device),\n",
    "          create_tensor(l2).to(device),\n",
    "          create_tensor(l3).to(device)]\n",
    "for i in angl_arr:\n",
    "    i.requires_grad=True"
   ]
  },
  {
   "cell_type": "code",
   "execution_count": 13,
   "id": "aSUKCTq2YSmf",
   "metadata": {
    "id": "aSUKCTq2YSmf"
   },
   "outputs": [],
   "source": [
    "total_steps = (len(train_df) // batch_size) * epochs"
   ]
  },
  {
   "cell_type": "code",
   "execution_count": 14,
   "id": "a1482a33-3c8d-4007-b9d4-510348eee6c8",
   "metadata": {},
   "outputs": [],
   "source": [
    "optimizer=AdamW([\n",
    "    {'params':angl_arr, 'lr':lr}\n",
    "])\n",
    "scheduler = get_linear_schedule_with_warmup(optimizer,\n",
    "                                           num_warmup_steps=1e2,\n",
    "                                           num_training_steps=total_steps)"
   ]
  },
  {
   "cell_type": "code",
   "execution_count": 15,
   "id": "73aa1991-3ca3-41db-9543-dc592a2241fb",
   "metadata": {},
   "outputs": [],
   "source": [
    "class EarlyStopper:\n",
    "    def __init__(self, patience=1):\n",
    "        self.patience = patience\n",
    "        self.counter = 0\n",
    "        self.min_validation_loss = np.inf\n",
    "\n",
    "    def early_stop(self, validation_loss):\n",
    "        if validation_loss < self.min_validation_loss:\n",
    "            self.min_validation_loss = validation_loss\n",
    "            self.counter = 0\n",
    "        elif validation_loss > self.min_validation_loss:\n",
    "            self.counter += 1\n",
    "            if self.counter >= self.patience:\n",
    "                return True\n",
    "        return False"
   ]
  },
  {
   "cell_type": "code",
   "execution_count": 16,
   "id": "7f4a4b86-1fb6-4024-bd9d-a48c167cc5f5",
   "metadata": {
    "id": "7f4a4b86-1fb6-4024-bd9d-a48c167cc5f5",
    "tags": []
   },
   "outputs": [
    {
     "data": {
      "application/vnd.jupyter.widget-view+json": {
       "model_id": "7a2dff86604c44febb3b295e20484618",
       "version_major": 2,
       "version_minor": 0
      },
      "text/plain": [
       "  0%|          | 0/126 [00:00<?, ?it/s]"
      ]
     },
     "metadata": {},
     "output_type": "display_data"
    },
    {
     "data": {
      "application/vnd.jupyter.widget-view+json": {
       "model_id": "e98fbd8df42d49bb8226e04e1d9eee10",
       "version_major": 2,
       "version_minor": 0
      },
      "text/plain": [
       "  0%|          | 0/10 [00:00<?, ?it/s]"
      ]
     },
     "metadata": {},
     "output_type": "display_data"
    },
    {
     "name": "stdout",
     "output_type": "stream",
     "text": [
      "1 train 0.9081 test 0.7211\n"
     ]
    },
    {
     "data": {
      "application/vnd.jupyter.widget-view+json": {
       "model_id": "6bb38de09e1843b38561d44a3cb7b310",
       "version_major": 2,
       "version_minor": 0
      },
      "text/plain": [
       "  0%|          | 0/126 [00:00<?, ?it/s]"
      ]
     },
     "metadata": {},
     "output_type": "display_data"
    },
    {
     "data": {
      "application/vnd.jupyter.widget-view+json": {
       "model_id": "93da64d2e05f475b8222e8685c6dc989",
       "version_major": 2,
       "version_minor": 0
      },
      "text/plain": [
       "  0%|          | 0/10 [00:00<?, ?it/s]"
      ]
     },
     "metadata": {},
     "output_type": "display_data"
    },
    {
     "name": "stdout",
     "output_type": "stream",
     "text": [
      "2 train 0.5826 test 0.6703\n"
     ]
    },
    {
     "data": {
      "application/vnd.jupyter.widget-view+json": {
       "model_id": "bd039385e170432dbe1172d5e3b8e0c2",
       "version_major": 2,
       "version_minor": 0
      },
      "text/plain": [
       "  0%|          | 0/126 [00:00<?, ?it/s]"
      ]
     },
     "metadata": {},
     "output_type": "display_data"
    },
    {
     "data": {
      "application/vnd.jupyter.widget-view+json": {
       "model_id": "68cf94ac2a9845fc9cbaf3f2fab3374a",
       "version_major": 2,
       "version_minor": 0
      },
      "text/plain": [
       "  0%|          | 0/10 [00:00<?, ?it/s]"
      ]
     },
     "metadata": {},
     "output_type": "display_data"
    },
    {
     "name": "stdout",
     "output_type": "stream",
     "text": [
      "3 train 0.5233 test 0.6597\n"
     ]
    },
    {
     "data": {
      "application/vnd.jupyter.widget-view+json": {
       "model_id": "06bbabb7111245239faf88e4b30ef80d",
       "version_major": 2,
       "version_minor": 0
      },
      "text/plain": [
       "  0%|          | 0/126 [00:00<?, ?it/s]"
      ]
     },
     "metadata": {},
     "output_type": "display_data"
    },
    {
     "data": {
      "application/vnd.jupyter.widget-view+json": {
       "model_id": "0116cddf775a4814b3020536a3196893",
       "version_major": 2,
       "version_minor": 0
      },
      "text/plain": [
       "  0%|          | 0/10 [00:00<?, ?it/s]"
      ]
     },
     "metadata": {},
     "output_type": "display_data"
    },
    {
     "name": "stdout",
     "output_type": "stream",
     "text": [
      "4 train 0.5162 test 0.6592\n"
     ]
    },
    {
     "data": {
      "application/vnd.jupyter.widget-view+json": {
       "model_id": "71d8feb215f34605a8d9440b91946969",
       "version_major": 2,
       "version_minor": 0
      },
      "text/plain": [
       "  0%|          | 0/126 [00:00<?, ?it/s]"
      ]
     },
     "metadata": {},
     "output_type": "display_data"
    },
    {
     "data": {
      "application/vnd.jupyter.widget-view+json": {
       "model_id": "2b8907bd4dc64667b897e758d51c6820",
       "version_major": 2,
       "version_minor": 0
      },
      "text/plain": [
       "  0%|          | 0/10 [00:00<?, ?it/s]"
      ]
     },
     "metadata": {},
     "output_type": "display_data"
    },
    {
     "name": "stdout",
     "output_type": "stream",
     "text": [
      "5 train 0.4855 test 0.6491\n"
     ]
    }
   ],
   "source": [
    "train_losses = []\n",
    "val_losses = []\n",
    "early_stopper = EarlyStopper(patience=1)\n",
    "for ep in range(epochs):\n",
    "    train_df=train_df[['form', 'sentence', 'paraphrase']].sample(frac=1)\n",
    "    l1=train_cycle(gpt_model,\n",
    "                   gpt_tokenizer,\n",
    "                   angl_arr,\n",
    "                   train_df,\n",
    "                   optimizer,\n",
    "                   scheduler,\n",
    "                   dx=batch_size)\n",
    "    torch.cuda.empty_cache()\n",
    "    test_df = test_df[['form', 'sentence', 'paraphrase']].sample(frac=1)\n",
    "    with torch.no_grad():\n",
    "        l2=val_cycle(gpt_model,\n",
    "                     gpt_tokenizer,\n",
    "                     angl_arr,\n",
    "                     test_df,\n",
    "                     dx=batch_size)\n",
    "    print(ep+1,'train',round(np.mean(l1),4),'test',round(np.mean(l2),4))\n",
    "    train_losses.append(np.mean(l1))\n",
    "    val_losses.append(np.mean(l2))\n",
    "    if early_stopper.early_stop(np.mean(l2)):             \n",
    "        break"
   ]
  },
  {
   "cell_type": "markdown",
   "id": "2c7b8ec3-ce5b-4ee1-8eda-3bc7dbc89453",
   "metadata": {},
   "source": [
    "### Рисунок лосса"
   ]
  },
  {
   "cell_type": "code",
   "execution_count": 17,
   "id": "ca31d660-5a57-4922-bf87-b4fa9052a8f7",
   "metadata": {},
   "outputs": [],
   "source": [
    "def draw_result(lst_iter, train_loss, val_loss, title):\n",
    "    plt.plot(train_loss, '-b', label='train loss')\n",
    "    plt.plot(val_loss, '-r', label='val loss')\n",
    "\n",
    "    plt.xlabel('n epoch')\n",
    "    plt.ylabel('loss')\n",
    "    plt.legend(loc='upper left')\n",
    "    plt.title(title)\n",
    "\n",
    "    plt.show()"
   ]
  },
  {
   "cell_type": "code",
   "execution_count": 18,
   "id": "fdcfeec7-d124-4437-9023-47a5396ae617",
   "metadata": {},
   "outputs": [
    {
     "data": {
      "image/png": "[encoded data removed]",
      "text/plain": [
       "<Figure size 432x288 with 1 Axes>"
      ]
     },
     "metadata": {
      "needs_background": "light"
     },
     "output_type": "display_data"
    }
   ],
   "source": [
    "draw_result(epochs, train_losses, val_losses, 'Training prefix paraphrase')"
   ]
  },
  {
   "cell_type": "markdown",
   "id": "20d36509-92b3-4136-8590-71f56af85715",
   "metadata": {},
   "source": [
    "### Сохраняем префиксы"
   ]
  },
  {
   "cell_type": "code",
   "execution_count": 35,
   "id": "4aeaacaf-debf-49ce-a72b-646482b79d2c",
   "metadata": {
    "id": "4aeaacaf-debf-49ce-a72b-646482b79d2c",
    "tags": []
   },
   "outputs": [],
   "source": [
    "torch.save(angl_arr, os.path.join(out_dir, 'pref_with_word.pt'))"
   ]
  },
  {
   "cell_type": "markdown",
   "id": "3978c73a-ce70-46e1-9113-60f78561a636",
   "metadata": {},
   "source": [
    "Генерация с использованием префиксов будет показана в другом ноутбуке"
   ]
  }
 ],
 "metadata": {
  "colab": {
   "provenance": []
  },
  "gpuClass": "standard",
  "kernelspec": {
   "display_name": "Python 3 (ipykernel)",
   "language": "python",
   "name": "python3"
  },
  "language_info": {
   "codemirror_mode": {
    "name": "ipython",
    "version": 3
   },
   "file_extension": ".py",
   "mimetype": "text/x-python",
   "name": "python",
   "nbconvert_exporter": "python",
   "pygments_lexer": "ipython3",
   "version": "3.7.12"
  },
  "widgets": {
   "application/vnd.jupyter.widget-state+json": {
    "0eff0528b1194b868d1bf29c05a082d9": {
     "model_module": "@jupyter-widgets/base",
     "model_module_version": "1.2.0",
     "model_name": "LayoutModel",
     "state": {
      "_model_module": "@jupyter-widgets/base",
      "_model_module_version": "1.2.0",
      "_model_name": "LayoutModel",
      "_view_count": null,
      "_view_module": "@jupyter-widgets/base",
      "_view_module_version": "1.2.0",
      "_view_name": "LayoutView",
      "align_content": null,
      "align_items": null,
      "align_self": null,
      "border": null,
      "bottom": null,
      "display": null,
      "flex": null,
      "flex_flow": null,
      "grid_area": null,
      "grid_auto_columns": null,
      "grid_auto_flow": null,
      "grid_auto_rows": null,
      "grid_column": null,
      "grid_gap": null,
      "grid_row": null,
      "grid_template_areas": null,
      "grid_template_columns": null,
      "grid_template_rows": null,
      "height": null,
      "justify_content": null,
      "justify_items": null,
      "left": null,
      "margin": null,
      "max_height": null,
      "max_width": null,
      "min_height": null,
      "min_width": null,
      "object_fit": null,
      "object_position": null,
      "order": null,
      "overflow": null,
      "overflow_x": null,
      "overflow_y": null,
      "padding": null,
      "right": null,
      "top": null,
      "visibility": null,
      "width": null
     }
    },
    "102291a13f6a4e9dba442216c12c5d34": {
     "model_module": "@jupyter-widgets/controls",
     "model_module_version": "1.5.0",
     "model_name": "HTMLModel",
     "state": {
      "_dom_classes": [],
      "_model_module": "@jupyter-widgets/controls",
      "_model_module_version": "1.5.0",
      "_model_name": "HTMLModel",
      "_view_count": null,
      "_view_module": "@jupyter-widgets/controls",
      "_view_module_version": "1.5.0",
      "_view_name": "HTMLView",
      "description": "",
      "description_tooltip": null,
      "layout": "IPY_MODEL_386b3015e97c4199b72c5ee50d91780e",
      "placeholder": "​",
      "style": "IPY_MODEL_b7750a7e5dee4bf6ae22c26439a4da00",
      "value": "Downloading (…)olve/main/vocab.json: 100%"
     }
    },
    "182b134308e146de871db103d66f554e": {
     "model_module": "@jupyter-widgets/base",
     "model_module_version": "1.2.0",
     "model_name": "LayoutModel",
     "state": {
      "_model_module": "@jupyter-widgets/base",
      "_model_module_version": "1.2.0",
      "_model_name": "LayoutModel",
      "_view_count": null,
      "_view_module": "@jupyter-widgets/base",
      "_view_module_version": "1.2.0",
      "_view_name": "LayoutView",
      "align_content": null,
      "align_items": null,
      "align_self": null,
      "border": null,
      "bottom": null,
      "display": null,
      "flex": null,
      "flex_flow": null,
      "grid_area": null,
      "grid_auto_columns": null,
      "grid_auto_flow": null,
      "grid_auto_rows": null,
      "grid_column": null,
      "grid_gap": null,
      "grid_row": null,
      "grid_template_areas": null,
      "grid_template_columns": null,
      "grid_template_rows": null,
      "height": null,
      "justify_content": null,
      "justify_items": null,
      "left": null,
      "margin": null,
      "max_height": null,
      "max_width": null,
      "min_height": null,
      "min_width": null,
      "object_fit": null,
      "object_position": null,
      "order": null,
      "overflow": null,
      "overflow_x": null,
      "overflow_y": null,
      "padding": null,
      "right": null,
      "top": null,
      "visibility": null,
      "width": null
     }
    },
    "18393dead73c4b31a2d7b5ddfdf45cf2": {
     "model_module": "@jupyter-widgets/controls",
     "model_module_version": "1.5.0",
     "model_name": "ProgressStyleModel",
     "state": {
      "_model_module": "@jupyter-widgets/controls",
      "_model_module_version": "1.5.0",
      "_model_name": "ProgressStyleModel",
      "_view_count": null,
      "_view_module": "@jupyter-widgets/base",
      "_view_module_version": "1.2.0",
      "_view_name": "StyleView",
      "bar_color": null,
      "description_width": ""
     }
    },
    "1eb9b5cebfb74965be2b7063d98dc1a1": {
     "model_module": "@jupyter-widgets/controls",
     "model_module_version": "1.5.0",
     "model_name": "HTMLModel",
     "state": {
      "_dom_classes": [],
      "_model_module": "@jupyter-widgets/controls",
      "_model_module_version": "1.5.0",
      "_model_name": "HTMLModel",
      "_view_count": null,
      "_view_module": "@jupyter-widgets/controls",
      "_view_module_version": "1.5.0",
      "_view_name": "HTMLView",
      "description": "",
      "description_tooltip": null,
      "layout": "IPY_MODEL_b3806817c4c54ad1ac0e2f51751f82ce",
      "placeholder": "​",
      "style": "IPY_MODEL_ef0c311221db482a9c443f51d7088326",
      "value": " 609/609 [00:00&lt;00:00, 15.8kB/s]"
     }
    },
    "23b581c8c8674842a50bdab9acbefe6c": {
     "model_module": "@jupyter-widgets/controls",
     "model_module_version": "1.5.0",
     "model_name": "HBoxModel",
     "state": {
      "_dom_classes": [],
      "_model_module": "@jupyter-widgets/controls",
      "_model_module_version": "1.5.0",
      "_model_name": "HBoxModel",
      "_view_count": null,
      "_view_module": "@jupyter-widgets/controls",
      "_view_module_version": "1.5.0",
      "_view_name": "HBoxView",
      "box_style": "",
      "children": [
       "IPY_MODEL_ca184e4932924b52adc047ea159907a9",
       "IPY_MODEL_441c2189ca26449ba0d1042c22651759",
       "IPY_MODEL_fcdb58b95fba4597b1d0ec22b2e56a2b"
      ],
      "layout": "IPY_MODEL_67357a02a92a4022b21ff5fa115ce2fe"
     }
    },
    "278efb783d1a47e2a3ccd38f3679cfe8": {
     "model_module": "@jupyter-widgets/base",
     "model_module_version": "1.2.0",
     "model_name": "LayoutModel",
     "state": {
      "_model_module": "@jupyter-widgets/base",
      "_model_module_version": "1.2.0",
      "_model_name": "LayoutModel",
      "_view_count": null,
      "_view_module": "@jupyter-widgets/base",
      "_view_module_version": "1.2.0",
      "_view_name": "LayoutView",
      "align_content": null,
      "align_items": null,
      "align_self": null,
      "border": null,
      "bottom": null,
      "display": null,
      "flex": null,
      "flex_flow": null,
      "grid_area": null,
      "grid_auto_columns": null,
      "grid_auto_flow": null,
      "grid_auto_rows": null,
      "grid_column": null,
      "grid_gap": null,
      "grid_row": null,
      "grid_template_areas": null,
      "grid_template_columns": null,
      "grid_template_rows": null,
      "height": null,
      "justify_content": null,
      "justify_items": null,
      "left": null,
      "margin": null,
      "max_height": null,
      "max_width": null,
      "min_height": null,
      "min_width": null,
      "object_fit": null,
      "object_position": null,
      "order": null,
      "overflow": null,
      "overflow_x": null,
      "overflow_y": null,
      "padding": null,
      "right": null,
      "top": null,
      "visibility": null,
      "width": null
     }
    },
    "36b9acfd03cc4340abbd7ab2b8072193": {
     "model_module": "@jupyter-widgets/controls",
     "model_module_version": "1.5.0",
     "model_name": "ProgressStyleModel",
     "state": {
      "_model_module": "@jupyter-widgets/controls",
      "_model_module_version": "1.5.0",
      "_model_name": "ProgressStyleModel",
      "_view_count": null,
      "_view_module": "@jupyter-widgets/base",
      "_view_module_version": "1.2.0",
      "_view_name": "StyleView",
      "bar_color": null,
      "description_width": ""
     }
    },
    "3856fe17a3954251bf532bc25be1ea11": {
     "model_module": "@jupyter-widgets/controls",
     "model_module_version": "1.5.0",
     "model_name": "DescriptionStyleModel",
     "state": {
      "_model_module": "@jupyter-widgets/controls",
      "_model_module_version": "1.5.0",
      "_model_name": "DescriptionStyleModel",
      "_view_count": null,
      "_view_module": "@jupyter-widgets/base",
      "_view_module_version": "1.2.0",
      "_view_name": "StyleView",
      "description_width": ""
     }
    },
    "386b3015e97c4199b72c5ee50d91780e": {
     "model_module": "@jupyter-widgets/base",
     "model_module_version": "1.2.0",
     "model_name": "LayoutModel",
     "state": {
      "_model_module": "@jupyter-widgets/base",
      "_model_module_version": "1.2.0",
      "_model_name": "LayoutModel",
      "_view_count": null,
      "_view_module": "@jupyter-widgets/base",
      "_view_module_version": "1.2.0",
      "_view_name": "LayoutView",
      "align_content": null,
      "align_items": null,
      "align_self": null,
      "border": null,
      "bottom": null,
      "display": null,
      "flex": null,
      "flex_flow": null,
      "grid_area": null,
      "grid_auto_columns": null,
      "grid_auto_flow": null,
      "grid_auto_rows": null,
      "grid_column": null,
      "grid_gap": null,
      "grid_row": null,
      "grid_template_areas": null,
      "grid_template_columns": null,
      "grid_template_rows": null,
      "height": null,
      "justify_content": null,
      "justify_items": null,
      "left": null,
      "margin": null,
      "max_height": null,
      "max_width": null,
      "min_height": null,
      "min_width": null,
      "object_fit": null,
      "object_position": null,
      "order": null,
      "overflow": null,
      "overflow_x": null,
      "overflow_y": null,
      "padding": null,
      "right": null,
      "top": null,
      "visibility": null,
      "width": null
     }
    },
    "3e004b6240974a51b6b074a026b31998": {
     "model_module": "@jupyter-widgets/base",
     "model_module_version": "1.2.0",
     "model_name": "LayoutModel",
     "state": {
      "_model_module": "@jupyter-widgets/base",
      "_model_module_version": "1.2.0",
      "_model_name": "LayoutModel",
      "_view_count": null,
      "_view_module": "@jupyter-widgets/base",
      "_view_module_version": "1.2.0",
      "_view_name": "LayoutView",
      "align_content": null,
      "align_items": null,
      "align_self": null,
      "border": null,
      "bottom": null,
      "display": null,
      "flex": null,
      "flex_flow": null,
      "grid_area": null,
      "grid_auto_columns": null,
      "grid_auto_flow": null,
      "grid_auto_rows": null,
      "grid_column": null,
      "grid_gap": null,
      "grid_row": null,
      "grid_template_areas": null,
      "grid_template_columns": null,
      "grid_template_rows": null,
      "height": null,
      "justify_content": null,
      "justify_items": null,
      "left": null,
      "margin": null,
      "max_height": null,
      "max_width": null,
      "min_height": null,
      "min_width": null,
      "object_fit": null,
      "object_position": null,
      "order": null,
      "overflow": null,
      "overflow_x": null,
      "overflow_y": null,
      "padding": null,
      "right": null,
      "top": null,
      "visibility": null,
      "width": null
     }
    },
    "3ed2a742b71a45c59b1c79cbb44ee789": {
     "model_module": "@jupyter-widgets/base",
     "model_module_version": "1.2.0",
     "model_name": "LayoutModel",
     "state": {
      "_model_module": "@jupyter-widgets/base",
      "_model_module_version": "1.2.0",
      "_model_name": "LayoutModel",
      "_view_count": null,
      "_view_module": "@jupyter-widgets/base",
      "_view_module_version": "1.2.0",
      "_view_name": "LayoutView",
      "align_content": null,
      "align_items": null,
      "align_self": null,
      "border": null,
      "bottom": null,
      "display": null,
      "flex": null,
      "flex_flow": null,
      "grid_area": null,
      "grid_auto_columns": null,
      "grid_auto_flow": null,
      "grid_auto_rows": null,
      "grid_column": null,
      "grid_gap": null,
      "grid_row": null,
      "grid_template_areas": null,
      "grid_template_columns": null,
      "grid_template_rows": null,
      "height": null,
      "justify_content": null,
      "justify_items": null,
      "left": null,
      "margin": null,
      "max_height": null,
      "max_width": null,
      "min_height": null,
      "min_width": null,
      "object_fit": null,
      "object_position": null,
      "order": null,
      "overflow": null,
      "overflow_x": null,
      "overflow_y": null,
      "padding": null,
      "right": null,
      "top": null,
      "visibility": null,
      "width": null
     }
    },
    "3f5d36e607b749ecbfc859830154dbcb": {
     "model_module": "@jupyter-widgets/controls",
     "model_module_version": "1.5.0",
     "model_name": "DescriptionStyleModel",
     "state": {
      "_model_module": "@jupyter-widgets/controls",
      "_model_module_version": "1.5.0",
      "_model_name": "DescriptionStyleModel",
      "_view_count": null,
      "_view_module": "@jupyter-widgets/base",
      "_view_module_version": "1.2.0",
      "_view_name": "StyleView",
      "description_width": ""
     }
    },
    "419e7e38440a42229559ce697fa90c9f": {
     "model_module": "@jupyter-widgets/controls",
     "model_module_version": "1.5.0",
     "model_name": "HTMLModel",
     "state": {
      "_dom_classes": [],
      "_model_module": "@jupyter-widgets/controls",
      "_model_module_version": "1.5.0",
      "_model_name": "HTMLModel",
      "_view_count": null,
      "_view_module": "@jupyter-widgets/controls",
      "_view_module_version": "1.5.0",
      "_view_name": "HTMLView",
      "description": "",
      "description_tooltip": null,
      "layout": "IPY_MODEL_182b134308e146de871db103d66f554e",
      "placeholder": "​",
      "style": "IPY_MODEL_d755907e4f0f41a4a2cf81e7c6c9b110",
      "value": "Downloading (…)lve/main/config.json: 100%"
     }
    },
    "441c2189ca26449ba0d1042c22651759": {
     "model_module": "@jupyter-widgets/controls",
     "model_module_version": "1.5.0",
     "model_name": "FloatProgressModel",
     "state": {
      "_dom_classes": [],
      "_model_module": "@jupyter-widgets/controls",
      "_model_module_version": "1.5.0",
      "_model_name": "FloatProgressModel",
      "_view_count": null,
      "_view_module": "@jupyter-widgets/controls",
      "_view_module_version": "1.5.0",
      "_view_name": "ProgressView",
      "bar_style": "success",
      "description": "",
      "description_tooltip": null,
      "layout": "IPY_MODEL_3e004b6240974a51b6b074a026b31998",
      "max": 1270925,
      "min": 0,
      "orientation": "horizontal",
      "style": "IPY_MODEL_36b9acfd03cc4340abbd7ab2b8072193",
      "value": 1270925
     }
    },
    "4464ac4a3f48474ba99f3b8a4182a60c": {
     "model_module": "@jupyter-widgets/controls",
     "model_module_version": "1.5.0",
     "model_name": "ProgressStyleModel",
     "state": {
      "_model_module": "@jupyter-widgets/controls",
      "_model_module_version": "1.5.0",
      "_model_name": "ProgressStyleModel",
      "_view_count": null,
      "_view_module": "@jupyter-widgets/base",
      "_view_module_version": "1.2.0",
      "_view_name": "StyleView",
      "bar_color": null,
      "description_width": ""
     }
    },
    "48897f2473dc4267825ad5f3b70b922d": {
     "model_module": "@jupyter-widgets/base",
     "model_module_version": "1.2.0",
     "model_name": "LayoutModel",
     "state": {
      "_model_module": "@jupyter-widgets/base",
      "_model_module_version": "1.2.0",
      "_model_name": "LayoutModel",
      "_view_count": null,
      "_view_module": "@jupyter-widgets/base",
      "_view_module_version": "1.2.0",
      "_view_name": "LayoutView",
      "align_content": null,
      "align_items": null,
      "align_self": null,
      "border": null,
      "bottom": null,
      "display": null,
      "flex": null,
      "flex_flow": null,
      "grid_area": null,
      "grid_auto_columns": null,
      "grid_auto_flow": null,
      "grid_auto_rows": null,
      "grid_column": null,
      "grid_gap": null,
      "grid_row": null,
      "grid_template_areas": null,
      "grid_template_columns": null,
      "grid_template_rows": null,
      "height": null,
      "justify_content": null,
      "justify_items": null,
      "left": null,
      "margin": null,
      "max_height": null,
      "max_width": null,
      "min_height": null,
      "min_width": null,
      "object_fit": null,
      "object_position": null,
      "order": null,
      "overflow": null,
      "overflow_x": null,
      "overflow_y": null,
      "padding": null,
      "right": null,
      "top": null,
      "visibility": null,
      "width": null
     }
    },
    "49ae5a51dde442a98c13e53b6dd1f3da": {
     "model_module": "@jupyter-widgets/base",
     "model_module_version": "1.2.0",
     "model_name": "LayoutModel",
     "state": {
      "_model_module": "@jupyter-widgets/base",
      "_model_module_version": "1.2.0",
      "_model_name": "LayoutModel",
      "_view_count": null,
      "_view_module": "@jupyter-widgets/base",
      "_view_module_version": "1.2.0",
      "_view_name": "LayoutView",
      "align_content": null,
      "align_items": null,
      "align_self": null,
      "border": null,
      "bottom": null,
      "display": null,
      "flex": null,
      "flex_flow": null,
      "grid_area": null,
      "grid_auto_columns": null,
      "grid_auto_flow": null,
      "grid_auto_rows": null,
      "grid_column": null,
      "grid_gap": null,
      "grid_row": null,
      "grid_template_areas": null,
      "grid_template_columns": null,
      "grid_template_rows": null,
      "height": null,
      "justify_content": null,
      "justify_items": null,
      "left": null,
      "margin": null,
      "max_height": null,
      "max_width": null,
      "min_height": null,
      "min_width": null,
      "object_fit": null,
      "object_position": null,
      "order": null,
      "overflow": null,
      "overflow_x": null,
      "overflow_y": null,
      "padding": null,
      "right": null,
      "top": null,
      "visibility": null,
      "width": null
     }
    },
    "5cc6d3798ea941f6845b0dee3910a9da": {
     "model_module": "@jupyter-widgets/base",
     "model_module_version": "1.2.0",
     "model_name": "LayoutModel",
     "state": {
      "_model_module": "@jupyter-widgets/base",
      "_model_module_version": "1.2.0",
      "_model_name": "LayoutModel",
      "_view_count": null,
      "_view_module": "@jupyter-widgets/base",
      "_view_module_version": "1.2.0",
      "_view_name": "LayoutView",
      "align_content": null,
      "align_items": null,
      "align_self": null,
      "border": null,
      "bottom": null,
      "display": null,
      "flex": null,
      "flex_flow": null,
      "grid_area": null,
      "grid_auto_columns": null,
      "grid_auto_flow": null,
      "grid_auto_rows": null,
      "grid_column": null,
      "grid_gap": null,
      "grid_row": null,
      "grid_template_areas": null,
      "grid_template_columns": null,
      "grid_template_rows": null,
      "height": null,
      "justify_content": null,
      "justify_items": null,
      "left": null,
      "margin": null,
      "max_height": null,
      "max_width": null,
      "min_height": null,
      "min_width": null,
      "object_fit": null,
      "object_position": null,
      "order": null,
      "overflow": null,
      "overflow_x": null,
      "overflow_y": null,
      "padding": null,
      "right": null,
      "top": null,
      "visibility": null,
      "width": null
     }
    },
    "67357a02a92a4022b21ff5fa115ce2fe": {
     "model_module": "@jupyter-widgets/base",
     "model_module_version": "1.2.0",
     "model_name": "LayoutModel",
     "state": {
      "_model_module": "@jupyter-widgets/base",
      "_model_module_version": "1.2.0",
      "_model_name": "LayoutModel",
      "_view_count": null,
      "_view_module": "@jupyter-widgets/base",
      "_view_module_version": "1.2.0",
      "_view_name": "LayoutView",
      "align_content": null,
      "align_items": null,
      "align_self": null,
      "border": null,
      "bottom": null,
      "display": null,
      "flex": null,
      "flex_flow": null,
      "grid_area": null,
      "grid_auto_columns": null,
      "grid_auto_flow": null,
      "grid_auto_rows": null,
      "grid_column": null,
      "grid_gap": null,
      "grid_row": null,
      "grid_template_areas": null,
      "grid_template_columns": null,
      "grid_template_rows": null,
      "height": null,
      "justify_content": null,
      "justify_items": null,
      "left": null,
      "margin": null,
      "max_height": null,
      "max_width": null,
      "min_height": null,
      "min_width": null,
      "object_fit": null,
      "object_position": null,
      "order": null,
      "overflow": null,
      "overflow_x": null,
      "overflow_y": null,
      "padding": null,
      "right": null,
      "top": null,
      "visibility": null,
      "width": null
     }
    },
    "697676bef1624c868cb131b87b0d4b5f": {
     "model_module": "@jupyter-widgets/base",
     "model_module_version": "1.2.0",
     "model_name": "LayoutModel",
     "state": {
      "_model_module": "@jupyter-widgets/base",
      "_model_module_version": "1.2.0",
      "_model_name": "LayoutModel",
      "_view_count": null,
      "_view_module": "@jupyter-widgets/base",
      "_view_module_version": "1.2.0",
      "_view_name": "LayoutView",
      "align_content": null,
      "align_items": null,
      "align_self": null,
      "border": null,
      "bottom": null,
      "display": null,
      "flex": null,
      "flex_flow": null,
      "grid_area": null,
      "grid_auto_columns": null,
      "grid_auto_flow": null,
      "grid_auto_rows": null,
      "grid_column": null,
      "grid_gap": null,
      "grid_row": null,
      "grid_template_areas": null,
      "grid_template_columns": null,
      "grid_template_rows": null,
      "height": null,
      "justify_content": null,
      "justify_items": null,
      "left": null,
      "margin": null,
      "max_height": null,
      "max_width": null,
      "min_height": null,
      "min_width": null,
      "object_fit": null,
      "object_position": null,
      "order": null,
      "overflow": null,
      "overflow_x": null,
      "overflow_y": null,
      "padding": null,
      "right": null,
      "top": null,
      "visibility": null,
      "width": null
     }
    },
    "7d961f8b824b45d994bb6dd9e5e50708": {
     "model_module": "@jupyter-widgets/controls",
     "model_module_version": "1.5.0",
     "model_name": "HBoxModel",
     "state": {
      "_dom_classes": [],
      "_model_module": "@jupyter-widgets/controls",
      "_model_module_version": "1.5.0",
      "_model_name": "HBoxModel",
      "_view_count": null,
      "_view_module": "@jupyter-widgets/controls",
      "_view_module_version": "1.5.0",
      "_view_name": "HBoxView",
      "box_style": "",
      "children": [
       "IPY_MODEL_986a586001444d28b067d06636d73558",
       "IPY_MODEL_ae286d71fbb447d899139bc64def0f52",
       "IPY_MODEL_b7fe1a9d85dc4f4b9d850974c3113bc8"
      ],
      "layout": "IPY_MODEL_278efb783d1a47e2a3ccd38f3679cfe8"
     }
    },
    "7e7162a33d364d3591321ee9bbdce7af": {
     "model_module": "@jupyter-widgets/controls",
     "model_module_version": "1.5.0",
     "model_name": "HBoxModel",
     "state": {
      "_dom_classes": [],
      "_model_module": "@jupyter-widgets/controls",
      "_model_module_version": "1.5.0",
      "_model_name": "HBoxModel",
      "_view_count": null,
      "_view_module": "@jupyter-widgets/controls",
      "_view_module_version": "1.5.0",
      "_view_name": "HBoxView",
      "box_style": "",
      "children": [
       "IPY_MODEL_419e7e38440a42229559ce697fa90c9f",
       "IPY_MODEL_fb04d26355f54b0c825fd75f90a2981e",
       "IPY_MODEL_1eb9b5cebfb74965be2b7063d98dc1a1"
      ],
      "layout": "IPY_MODEL_0eff0528b1194b868d1bf29c05a082d9"
     }
    },
    "9790330f31924e53bde84c3d222d8d28": {
     "model_module": "@jupyter-widgets/base",
     "model_module_version": "1.2.0",
     "model_name": "LayoutModel",
     "state": {
      "_model_module": "@jupyter-widgets/base",
      "_model_module_version": "1.2.0",
      "_model_name": "LayoutModel",
      "_view_count": null,
      "_view_module": "@jupyter-widgets/base",
      "_view_module_version": "1.2.0",
      "_view_name": "LayoutView",
      "align_content": null,
      "align_items": null,
      "align_self": null,
      "border": null,
      "bottom": null,
      "display": null,
      "flex": null,
      "flex_flow": null,
      "grid_area": null,
      "grid_auto_columns": null,
      "grid_auto_flow": null,
      "grid_auto_rows": null,
      "grid_column": null,
      "grid_gap": null,
      "grid_row": null,
      "grid_template_areas": null,
      "grid_template_columns": null,
      "grid_template_rows": null,
      "height": null,
      "justify_content": null,
      "justify_items": null,
      "left": null,
      "margin": null,
      "max_height": null,
      "max_width": null,
      "min_height": null,
      "min_width": null,
      "object_fit": null,
      "object_position": null,
      "order": null,
      "overflow": null,
      "overflow_x": null,
      "overflow_y": null,
      "padding": null,
      "right": null,
      "top": null,
      "visibility": null,
      "width": null
     }
    },
    "986a586001444d28b067d06636d73558": {
     "model_module": "@jupyter-widgets/controls",
     "model_module_version": "1.5.0",
     "model_name": "HTMLModel",
     "state": {
      "_dom_classes": [],
      "_model_module": "@jupyter-widgets/controls",
      "_model_module_version": "1.5.0",
      "_model_name": "HTMLModel",
      "_view_count": null,
      "_view_module": "@jupyter-widgets/controls",
      "_view_module_version": "1.5.0",
      "_view_name": "HTMLView",
      "description": "",
      "description_tooltip": null,
      "layout": "IPY_MODEL_3ed2a742b71a45c59b1c79cbb44ee789",
      "placeholder": "​",
      "style": "IPY_MODEL_baac213ae24e4811b404678f4d2dcb57",
      "value": "Downloading (…)&quot;pytorch_model.bin&quot;;: 100%"
     }
    },
    "99608568d4aa422da31b816e7456d0d8": {
     "model_module": "@jupyter-widgets/base",
     "model_module_version": "1.2.0",
     "model_name": "LayoutModel",
     "state": {
      "_model_module": "@jupyter-widgets/base",
      "_model_module_version": "1.2.0",
      "_model_name": "LayoutModel",
      "_view_count": null,
      "_view_module": "@jupyter-widgets/base",
      "_view_module_version": "1.2.0",
      "_view_name": "LayoutView",
      "align_content": null,
      "align_items": null,
      "align_self": null,
      "border": null,
      "bottom": null,
      "display": null,
      "flex": null,
      "flex_flow": null,
      "grid_area": null,
      "grid_auto_columns": null,
      "grid_auto_flow": null,
      "grid_auto_rows": null,
      "grid_column": null,
      "grid_gap": null,
      "grid_row": null,
      "grid_template_areas": null,
      "grid_template_columns": null,
      "grid_template_rows": null,
      "height": null,
      "justify_content": null,
      "justify_items": null,
      "left": null,
      "margin": null,
      "max_height": null,
      "max_width": null,
      "min_height": null,
      "min_width": null,
      "object_fit": null,
      "object_position": null,
      "order": null,
      "overflow": null,
      "overflow_x": null,
      "overflow_y": null,
      "padding": null,
      "right": null,
      "top": null,
      "visibility": null,
      "width": null
     }
    },
    "a0446d070c5b42aea54893d59ba77b47": {
     "model_module": "@jupyter-widgets/controls",
     "model_module_version": "1.5.0",
     "model_name": "FloatProgressModel",
     "state": {
      "_dom_classes": [],
      "_model_module": "@jupyter-widgets/controls",
      "_model_module_version": "1.5.0",
      "_model_name": "FloatProgressModel",
      "_view_count": null,
      "_view_module": "@jupyter-widgets/controls",
      "_view_module_version": "1.5.0",
      "_view_name": "ProgressView",
      "bar_style": "success",
      "description": "",
      "description_tooltip": null,
      "layout": "IPY_MODEL_49ae5a51dde442a98c13e53b6dd1f3da",
      "max": 1713123,
      "min": 0,
      "orientation": "horizontal",
      "style": "IPY_MODEL_be3fdfac4293483a968380f5272d252a",
      "value": 1713123
     }
    },
    "aa35106d25824bbdbf97cc4c515a87f0": {
     "model_module": "@jupyter-widgets/controls",
     "model_module_version": "1.5.0",
     "model_name": "HBoxModel",
     "state": {
      "_dom_classes": [],
      "_model_module": "@jupyter-widgets/controls",
      "_model_module_version": "1.5.0",
      "_model_name": "HBoxModel",
      "_view_count": null,
      "_view_module": "@jupyter-widgets/controls",
      "_view_module_version": "1.5.0",
      "_view_name": "HBoxView",
      "box_style": "",
      "children": [
       "IPY_MODEL_102291a13f6a4e9dba442216c12c5d34",
       "IPY_MODEL_a0446d070c5b42aea54893d59ba77b47",
       "IPY_MODEL_dd184855ad3b4153be7206ed9573e4b4"
      ],
      "layout": "IPY_MODEL_5cc6d3798ea941f6845b0dee3910a9da"
     }
    },
    "ae286d71fbb447d899139bc64def0f52": {
     "model_module": "@jupyter-widgets/controls",
     "model_module_version": "1.5.0",
     "model_name": "FloatProgressModel",
     "state": {
      "_dom_classes": [],
      "_model_module": "@jupyter-widgets/controls",
      "_model_module_version": "1.5.0",
      "_model_name": "FloatProgressModel",
      "_view_count": null,
      "_view_module": "@jupyter-widgets/controls",
      "_view_module_version": "1.5.0",
      "_view_name": "ProgressView",
      "bar_style": "success",
      "description": "",
      "description_tooltip": null,
      "layout": "IPY_MODEL_c1cd26a7f02b4107b5ffbbddf75d098c",
      "max": 3141928084,
      "min": 0,
      "orientation": "horizontal",
      "style": "IPY_MODEL_18393dead73c4b31a2d7b5ddfdf45cf2",
      "value": 3141928084
     }
    },
    "b34d36ea63a9471bb8eb34bbe47c8dc3": {
     "model_module": "@jupyter-widgets/controls",
     "model_module_version": "1.5.0",
     "model_name": "DescriptionStyleModel",
     "state": {
      "_model_module": "@jupyter-widgets/controls",
      "_model_module_version": "1.5.0",
      "_model_name": "DescriptionStyleModel",
      "_view_count": null,
      "_view_module": "@jupyter-widgets/base",
      "_view_module_version": "1.2.0",
      "_view_name": "StyleView",
      "description_width": ""
     }
    },
    "b3806817c4c54ad1ac0e2f51751f82ce": {
     "model_module": "@jupyter-widgets/base",
     "model_module_version": "1.2.0",
     "model_name": "LayoutModel",
     "state": {
      "_model_module": "@jupyter-widgets/base",
      "_model_module_version": "1.2.0",
      "_model_name": "LayoutModel",
      "_view_count": null,
      "_view_module": "@jupyter-widgets/base",
      "_view_module_version": "1.2.0",
      "_view_name": "LayoutView",
      "align_content": null,
      "align_items": null,
      "align_self": null,
      "border": null,
      "bottom": null,
      "display": null,
      "flex": null,
      "flex_flow": null,
      "grid_area": null,
      "grid_auto_columns": null,
      "grid_auto_flow": null,
      "grid_auto_rows": null,
      "grid_column": null,
      "grid_gap": null,
      "grid_row": null,
      "grid_template_areas": null,
      "grid_template_columns": null,
      "grid_template_rows": null,
      "height": null,
      "justify_content": null,
      "justify_items": null,
      "left": null,
      "margin": null,
      "max_height": null,
      "max_width": null,
      "min_height": null,
      "min_width": null,
      "object_fit": null,
      "object_position": null,
      "order": null,
      "overflow": null,
      "overflow_x": null,
      "overflow_y": null,
      "padding": null,
      "right": null,
      "top": null,
      "visibility": null,
      "width": null
     }
    },
    "b7750a7e5dee4bf6ae22c26439a4da00": {
     "model_module": "@jupyter-widgets/controls",
     "model_module_version": "1.5.0",
     "model_name": "DescriptionStyleModel",
     "state": {
      "_model_module": "@jupyter-widgets/controls",
      "_model_module_version": "1.5.0",
      "_model_name": "DescriptionStyleModel",
      "_view_count": null,
      "_view_module": "@jupyter-widgets/base",
      "_view_module_version": "1.2.0",
      "_view_name": "StyleView",
      "description_width": ""
     }
    },
    "b7fe1a9d85dc4f4b9d850974c3113bc8": {
     "model_module": "@jupyter-widgets/controls",
     "model_module_version": "1.5.0",
     "model_name": "HTMLModel",
     "state": {
      "_dom_classes": [],
      "_model_module": "@jupyter-widgets/controls",
      "_model_module_version": "1.5.0",
      "_model_name": "HTMLModel",
      "_view_count": null,
      "_view_module": "@jupyter-widgets/controls",
      "_view_module_version": "1.5.0",
      "_view_name": "HTMLView",
      "description": "",
      "description_tooltip": null,
      "layout": "IPY_MODEL_48897f2473dc4267825ad5f3b70b922d",
      "placeholder": "​",
      "style": "IPY_MODEL_3856fe17a3954251bf532bc25be1ea11",
      "value": " 3.14G/3.14G [00:31&lt;00:00, 106MB/s]"
     }
    },
    "baac213ae24e4811b404678f4d2dcb57": {
     "model_module": "@jupyter-widgets/controls",
     "model_module_version": "1.5.0",
     "model_name": "DescriptionStyleModel",
     "state": {
      "_model_module": "@jupyter-widgets/controls",
      "_model_module_version": "1.5.0",
      "_model_name": "DescriptionStyleModel",
      "_view_count": null,
      "_view_module": "@jupyter-widgets/base",
      "_view_module_version": "1.2.0",
      "_view_name": "StyleView",
      "description_width": ""
     }
    },
    "be3fdfac4293483a968380f5272d252a": {
     "model_module": "@jupyter-widgets/controls",
     "model_module_version": "1.5.0",
     "model_name": "ProgressStyleModel",
     "state": {
      "_model_module": "@jupyter-widgets/controls",
      "_model_module_version": "1.5.0",
      "_model_name": "ProgressStyleModel",
      "_view_count": null,
      "_view_module": "@jupyter-widgets/base",
      "_view_module_version": "1.2.0",
      "_view_name": "StyleView",
      "bar_color": null,
      "description_width": ""
     }
    },
    "c1cd26a7f02b4107b5ffbbddf75d098c": {
     "model_module": "@jupyter-widgets/base",
     "model_module_version": "1.2.0",
     "model_name": "LayoutModel",
     "state": {
      "_model_module": "@jupyter-widgets/base",
      "_model_module_version": "1.2.0",
      "_model_name": "LayoutModel",
      "_view_count": null,
      "_view_module": "@jupyter-widgets/base",
      "_view_module_version": "1.2.0",
      "_view_name": "LayoutView",
      "align_content": null,
      "align_items": null,
      "align_self": null,
      "border": null,
      "bottom": null,
      "display": null,
      "flex": null,
      "flex_flow": null,
      "grid_area": null,
      "grid_auto_columns": null,
      "grid_auto_flow": null,
      "grid_auto_rows": null,
      "grid_column": null,
      "grid_gap": null,
      "grid_row": null,
      "grid_template_areas": null,
      "grid_template_columns": null,
      "grid_template_rows": null,
      "height": null,
      "justify_content": null,
      "justify_items": null,
      "left": null,
      "margin": null,
      "max_height": null,
      "max_width": null,
      "min_height": null,
      "min_width": null,
      "object_fit": null,
      "object_position": null,
      "order": null,
      "overflow": null,
      "overflow_x": null,
      "overflow_y": null,
      "padding": null,
      "right": null,
      "top": null,
      "visibility": null,
      "width": null
     }
    },
    "c5b848ed24314f4fa6d1e74052433660": {
     "model_module": "@jupyter-widgets/controls",
     "model_module_version": "1.5.0",
     "model_name": "DescriptionStyleModel",
     "state": {
      "_model_module": "@jupyter-widgets/controls",
      "_model_module_version": "1.5.0",
      "_model_name": "DescriptionStyleModel",
      "_view_count": null,
      "_view_module": "@jupyter-widgets/base",
      "_view_module_version": "1.2.0",
      "_view_name": "StyleView",
      "description_width": ""
     }
    },
    "ca184e4932924b52adc047ea159907a9": {
     "model_module": "@jupyter-widgets/controls",
     "model_module_version": "1.5.0",
     "model_name": "HTMLModel",
     "state": {
      "_dom_classes": [],
      "_model_module": "@jupyter-widgets/controls",
      "_model_module_version": "1.5.0",
      "_model_name": "HTMLModel",
      "_view_count": null,
      "_view_module": "@jupyter-widgets/controls",
      "_view_module_version": "1.5.0",
      "_view_name": "HTMLView",
      "description": "",
      "description_tooltip": null,
      "layout": "IPY_MODEL_99608568d4aa422da31b816e7456d0d8",
      "placeholder": "​",
      "style": "IPY_MODEL_c5b848ed24314f4fa6d1e74052433660",
      "value": "Downloading (…)olve/main/merges.txt: 100%"
     }
    },
    "d755907e4f0f41a4a2cf81e7c6c9b110": {
     "model_module": "@jupyter-widgets/controls",
     "model_module_version": "1.5.0",
     "model_name": "DescriptionStyleModel",
     "state": {
      "_model_module": "@jupyter-widgets/controls",
      "_model_module_version": "1.5.0",
      "_model_name": "DescriptionStyleModel",
      "_view_count": null,
      "_view_module": "@jupyter-widgets/base",
      "_view_module_version": "1.2.0",
      "_view_name": "StyleView",
      "description_width": ""
     }
    },
    "dd184855ad3b4153be7206ed9573e4b4": {
     "model_module": "@jupyter-widgets/controls",
     "model_module_version": "1.5.0",
     "model_name": "HTMLModel",
     "state": {
      "_dom_classes": [],
      "_model_module": "@jupyter-widgets/controls",
      "_model_module_version": "1.5.0",
      "_model_name": "HTMLModel",
      "_view_count": null,
      "_view_module": "@jupyter-widgets/controls",
      "_view_module_version": "1.5.0",
      "_view_name": "HTMLView",
      "description": "",
      "description_tooltip": null,
      "layout": "IPY_MODEL_9790330f31924e53bde84c3d222d8d28",
      "placeholder": "​",
      "style": "IPY_MODEL_b34d36ea63a9471bb8eb34bbe47c8dc3",
      "value": " 1.71M/1.71M [00:01&lt;00:00, 1.55MB/s]"
     }
    },
    "e5accef455f549c58f34cd8059246f3c": {
     "model_module": "@jupyter-widgets/base",
     "model_module_version": "1.2.0",
     "model_name": "LayoutModel",
     "state": {
      "_model_module": "@jupyter-widgets/base",
      "_model_module_version": "1.2.0",
      "_model_name": "LayoutModel",
      "_view_count": null,
      "_view_module": "@jupyter-widgets/base",
      "_view_module_version": "1.2.0",
      "_view_name": "LayoutView",
      "align_content": null,
      "align_items": null,
      "align_self": null,
      "border": null,
      "bottom": null,
      "display": null,
      "flex": null,
      "flex_flow": null,
      "grid_area": null,
      "grid_auto_columns": null,
      "grid_auto_flow": null,
      "grid_auto_rows": null,
      "grid_column": null,
      "grid_gap": null,
      "grid_row": null,
      "grid_template_areas": null,
      "grid_template_columns": null,
      "grid_template_rows": null,
      "height": null,
      "justify_content": null,
      "justify_items": null,
      "left": null,
      "margin": null,
      "max_height": null,
      "max_width": null,
      "min_height": null,
      "min_width": null,
      "object_fit": null,
      "object_position": null,
      "order": null,
      "overflow": null,
      "overflow_x": null,
      "overflow_y": null,
      "padding": null,
      "right": null,
      "top": null,
      "visibility": null,
      "width": null
     }
    },
    "ef0c311221db482a9c443f51d7088326": {
     "model_module": "@jupyter-widgets/controls",
     "model_module_version": "1.5.0",
     "model_name": "DescriptionStyleModel",
     "state": {
      "_model_module": "@jupyter-widgets/controls",
      "_model_module_version": "1.5.0",
      "_model_name": "DescriptionStyleModel",
      "_view_count": null,
      "_view_module": "@jupyter-widgets/base",
      "_view_module_version": "1.2.0",
      "_view_name": "StyleView",
      "description_width": ""
     }
    },
    "fb04d26355f54b0c825fd75f90a2981e": {
     "model_module": "@jupyter-widgets/controls",
     "model_module_version": "1.5.0",
     "model_name": "FloatProgressModel",
     "state": {
      "_dom_classes": [],
      "_model_module": "@jupyter-widgets/controls",
      "_model_module_version": "1.5.0",
      "_model_name": "FloatProgressModel",
      "_view_count": null,
      "_view_module": "@jupyter-widgets/controls",
      "_view_module_version": "1.5.0",
      "_view_name": "ProgressView",
      "bar_style": "success",
      "description": "",
      "description_tooltip": null,
      "layout": "IPY_MODEL_e5accef455f549c58f34cd8059246f3c",
      "max": 609,
      "min": 0,
      "orientation": "horizontal",
      "style": "IPY_MODEL_4464ac4a3f48474ba99f3b8a4182a60c",
      "value": 609
     }
    },
    "fcdb58b95fba4597b1d0ec22b2e56a2b": {
     "model_module": "@jupyter-widgets/controls",
     "model_module_version": "1.5.0",
     "model_name": "HTMLModel",
     "state": {
      "_dom_classes": [],
      "_model_module": "@jupyter-widgets/controls",
      "_model_module_version": "1.5.0",
      "_model_name": "HTMLModel",
      "_view_count": null,
      "_view_module": "@jupyter-widgets/controls",
      "_view_module_version": "1.5.0",
      "_view_name": "HTMLView",
      "description": "",
      "description_tooltip": null,
      "layout": "IPY_MODEL_697676bef1624c868cb131b87b0d4b5f",
      "placeholder": "​",
      "style": "IPY_MODEL_3f5d36e607b749ecbfc859830154dbcb",
      "value": " 1.27M/1.27M [00:01&lt;00:00, 961kB/s]"
     }
    }
   }
  }
 },
 "nbformat": 4,
 "nbformat_minor": 5
}
