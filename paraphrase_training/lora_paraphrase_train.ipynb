{
 "cells": [
  {
   "cell_type": "markdown",
   "id": "2a7a50a7-5818-4da5-88ab-2c4b4ab9457b",
   "metadata": {},
   "source": [
    "### Библиотеки"
   ]
  },
  {
   "cell_type": "code",
   "execution_count": 1,
   "id": "6485302e-51ad-441e-9f4d-ad4499bf9024",
   "metadata": {
    "id": "6485302e-51ad-441e-9f4d-ad4499bf9024",
    "tags": []
   },
   "outputs": [
    {
     "name": "stderr",
     "output_type": "stream",
     "text": [
      "/home/user/conda/lib/python3.7/site-packages/tensorflow/python/framework/dtypes.py:585: DeprecationWarning: `np.object` is a deprecated alias for the builtin `object`. To silence this warning, use `object` by itself. Doing this will not modify any behavior and is safe. \n",
      "Deprecated in NumPy 1.20; for more details and guidance: https://numpy.org/devdocs/release/1.20.0-notes.html#deprecations\n",
      "  np.object,\n",
      "/home/user/conda/lib/python3.7/site-packages/tensorflow/python/framework/dtypes.py:637: DeprecationWarning: `np.bool` is a deprecated alias for the builtin `bool`. To silence this warning, use `bool` by itself. Doing this will not modify any behavior and is safe. If you specifically wanted the numpy scalar type, use `np.bool_` here.\n",
      "Deprecated in NumPy 1.20; for more details and guidance: https://numpy.org/devdocs/release/1.20.0-notes.html#deprecations\n",
      "  np.bool,\n",
      "/home/user/conda/lib/python3.7/site-packages/tensorflow/python/framework/tensor_util.py:108: DeprecationWarning: `np.object` is a deprecated alias for the builtin `object`. To silence this warning, use `object` by itself. Doing this will not modify any behavior and is safe. \n",
      "Deprecated in NumPy 1.20; for more details and guidance: https://numpy.org/devdocs/release/1.20.0-notes.html#deprecations\n",
      "  np.object:\n",
      "/home/user/conda/lib/python3.7/site-packages/tensorflow/python/framework/tensor_util.py:110: DeprecationWarning: `np.bool` is a deprecated alias for the builtin `bool`. To silence this warning, use `bool` by itself. Doing this will not modify any behavior and is safe. If you specifically wanted the numpy scalar type, use `np.bool_` here.\n",
      "Deprecated in NumPy 1.20; for more details and guidance: https://numpy.org/devdocs/release/1.20.0-notes.html#deprecations\n",
      "  np.bool:\n",
      "/home/user/conda/lib/python3.7/site-packages/tensorflow/python/ops/numpy_ops/np_random.py:110: DeprecationWarning: `np.int` is a deprecated alias for the builtin `int`. To silence this warning, use `int` by itself. Doing this will not modify any behavior and is safe. When replacing `np.int`, you may wish to use e.g. `np.int64` or `np.int32` to specify the precision. If you wish to review your current use, check the release note link for additional information.\n",
      "Deprecated in NumPy 1.20; for more details and guidance: https://numpy.org/devdocs/release/1.20.0-notes.html#deprecations\n",
      "  def randint(low, high=None, size=None, dtype=onp.int):  # pylint: disable=missing-function-docstring\n"
     ]
    }
   ],
   "source": [
    "import numpy as np\n",
    "import pandas as pd\n",
    "import torch\n",
    "import torch.nn as nn\n",
    "import torch.nn.functional as F\n",
    "from torch.optim import AdamW\n",
    "from tqdm.auto import tqdm, trange\n",
    "import random\n",
    "import os\n",
    "import re\n",
    "import itertools\n",
    "from collections.abc import Iterable\n",
    "from transformers import GPT2LMHeadModel,GPT2Tokenizer, AutoModel, AutoTokenizer, get_linear_schedule_with_warmup, pytorch_utils\n",
    "import matplotlib.pyplot as plt\n",
    "from itertools import product, zip_longest\n",
    "import loralib as lora\n",
    "from datasets import load_dataset"
   ]
  },
  {
   "cell_type": "markdown",
   "id": "a530d34c-6592-4c45-aab5-5d668c9cc738",
   "metadata": {},
   "source": [
    "### Конфигурации"
   ]
  },
  {
   "cell_type": "code",
   "execution_count": 2,
   "id": "j7xIKkmd5D1G",
   "metadata": {
    "id": "j7xIKkmd5D1G"
   },
   "outputs": [],
   "source": [
    "device = 'cuda'\n",
    "# paths\n",
    "model_path = 'ai-forever/rugpt3large_based_on_gpt2'\n",
    "dataset_path = 'shershen/ru_anglicism'\n",
    "out_dir = 'weights'\n",
    "# lora params\n",
    "r = 4\n",
    "alpha = 1\n",
    "# training params\n",
    "lr = 1e-3\n",
    "epochs = 5\n",
    "batch_size = 8"
   ]
  },
  {
   "cell_type": "markdown",
   "id": "465077fc-41a1-46fd-b551-2ac30e28b5b2",
   "metadata": {},
   "source": [
    "### Функции для создания lora-матриц в модели (работают только с gpt-like моделями)"
   ]
  },
  {
   "cell_type": "code",
   "execution_count": 3,
   "id": "0461e829-a6cd-44d6-8f76-df67780d05a2",
   "metadata": {
    "id": "0461e829-a6cd-44d6-8f76-df67780d05a2",
    "tags": []
   },
   "outputs": [],
   "source": [
    "def get_module_list(model):\n",
    "    layer_names_dict = model.state_dict().keys()\n",
    "    module_list = []\n",
    "    for key in layer_names_dict:\n",
    "        module_list.append('.'.join(key.split('.')[:-1]))        \n",
    "    return module_list"
   ]
  },
  {
   "cell_type": "code",
   "execution_count": 4,
   "id": "da6493bc-cc80-4e1c-a342-fc1460a49a43",
   "metadata": {
    "id": "da6493bc-cc80-4e1c-a342-fc1460a49a43",
    "tags": []
   },
   "outputs": [],
   "source": [
    "def get_submodule(target, model):\n",
    "    atoms = target.split(\".\")\n",
    "    mod = model\n",
    "    for item in atoms:\n",
    "        mod = getattr(mod, item)\n",
    "    return mod"
   ]
  },
  {
   "cell_type": "code",
   "execution_count": 5,
   "id": "770f26bc-2f9b-47b6-b785-4a4d331cbc1b",
   "metadata": {
    "id": "770f26bc-2f9b-47b6-b785-4a4d331cbc1b",
    "tags": []
   },
   "outputs": [],
   "source": [
    "def apply_lora_linear(model, r=r, alpha=alpha):\n",
    "    def _set_module(model, submodule_key, module):\n",
    "        tokens = submodule_key.split('.')\n",
    "        sub_tokens = tokens[:-1]\n",
    "        cur_mod = model\n",
    "        for s in sub_tokens:\n",
    "            cur_mod = getattr(cur_mod, s)\n",
    "        setattr(cur_mod, tokens[-1], module)\n",
    "        \n",
    "    module_list = get_module_list(model)\n",
    "    for submodule_key in module_list:\n",
    "        module_state_dict = get_submodule(submodule_key, model).state_dict()\n",
    "        if submodule_key.split('.')[-1].find('c_') > -1:\n",
    "            sub_w = get_submodule(submodule_key, model).weight.shape\n",
    "            lora_layer = lora.Linear(\n",
    "                sub_w[0],\n",
    "                sub_w[1],\n",
    "                r = r,\n",
    "                lora_alpha= alpha,\n",
    "                lora_dropout = 0.1,\n",
    "                fan_in_fan_out=True\n",
    "            ).to(device)\n",
    "            lora_layer.load_state_dict(module_state_dict,strict=False)\n",
    "\n",
    "            \n",
    "            for n,p in lora_layer.named_parameters():\n",
    "                if 'lora' in n:\n",
    "                    p.requires_grad = True\n",
    "                    _set_module(model, submodule_key, lora_layer)"
   ]
  },
  {
   "cell_type": "code",
   "execution_count": 6,
   "id": "2df2b35d-b781-4938-928b-57e92050abd5",
   "metadata": {
    "id": "2df2b35d-b781-4938-928b-57e92050abd5",
    "tags": []
   },
   "outputs": [],
   "source": [
    "def apply_lora_embedding(model, lora_r=r, lora_alpha=alpha):\n",
    "    module_list =get_module_list(model)\n",
    "    for name in module_list:\n",
    "        if type(get_submodule(name, gpt_model)) == torch.nn.modules.sparse.Embedding:\n",
    "            submodule = get_submodule(name, model)\n",
    "            num_embeddings, embedding_dim = submodule.num_embeddings,submodule.embedding_dim\n",
    "            submodule = lora.Embedding(\n",
    "                num_embeddings,\n",
    "                embedding_dim,\n",
    "                r = lora_r,\n",
    "                lora_alpha = lora_alpha\n",
    "            )"
   ]
  },
  {
   "cell_type": "markdown",
   "id": "79434912-060f-4b73-bf54-fd25702ce9cc",
   "metadata": {
    "tags": []
   },
   "source": [
    "### Скачиваем модель, инициализируем lora-матрицы и скачиваем датасет"
   ]
  },
  {
   "cell_type": "code",
   "execution_count": 7,
   "id": "93a67bcb-f72a-4c8b-b0f0-9a88dec92f5a",
   "metadata": {
    "colab": {
     "base_uri": "https://localhost:8080/",
     "height": 145,
     "referenced_widgets": [
      "5a4d7f691ba64bbba3720f70a1b60db1",
      "c2af48cb6a6142e89d0816d2635c47f2",
      "1a0539d164934982992697667402888b",
      "4c552faec76c43b1ab506a215cd780fc",
      "7c3c96177536489ba86b43f5581f3f1d",
      "31c2c21c0cb0415c98e49082ed03fb5b",
      "1760f99805ba4d53915ed313e86f29e2",
      "4ee6a0f4aa3f44498138c744f68b43d2",
      "74ce9073cd9a4cd2bf8c42851f24261d",
      "5b3e5afa1076453e93fb3502c98ecf48",
      "08a13da3267141dcb29364df7943e595",
      "f0b2808b4c0a4b13a3a1b8169e60b2ba",
      "477ec55b48cc4feb8def81bb862aef0b",
      "070211f6a0c744b490da008f7beb2eff",
      "b7a049dde5884df39f4e504a56b57b54",
      "1e6ddb008983411a9805b76ebfb5a98d",
      "7b1475e7a9f24002add16561da313326",
      "f8cdad2cf44540e5ac5957c15f4e0d9d",
      "8508cb29d07c496a81d9ea2e0308f850",
      "102ccd2c4f4f424087be0d6717039d54",
      "8a3c99d6581d4a92be6c0e3534f4bf4e",
      "7eecf193a1d9475b91436530a639eb49",
      "fc6d5586e86e49e494ac2332a38d1d21",
      "304865f4da544e5683478e101a7c9ab9",
      "d760a0bb692c46d7bc60a9022b08e75e",
      "93cd5d291a24445ca74726a4796d1931",
      "7ed79d088c894e6586d90a6ce252d5a1",
      "6a1a3a610fc44c289cd17163716aa720",
      "1d25b4e518514dcb91f2630dd0ad181b",
      "9d08ed8a018a49e5990c4e07b45c4f0d",
      "b41a25fd7d854338aca293b05caab1f3",
      "502ca33c9065426984f217b702c7a847",
      "8e6eb92b4c0a42899e02b84589bdde28",
      "1ead13d9c0a947569b61c19ef9d82e4e",
      "8967533baa9d4eae8e57c38c37f44820",
      "7410eca3e7ce45fdbc811038d5f7db83",
      "925f0b5c835341dc90d85a24d8ad97a0",
      "6a97f5fa422b425491c56cf7896cd5b6",
      "618c6fc3d1004b31a5e24651ed77099b",
      "22263381aefe4bf3a5cecc41aebdcfc1",
      "14a52df608694f6ba17c0c6502860532",
      "510c28a237b04c37b81f2280f4e0a4b6",
      "a8142e0e43c845198b32f329356ef2e5",
      "37e07a47685f464c83b94f37b6884f10"
     ]
    },
    "id": "93a67bcb-f72a-4c8b-b0f0-9a88dec92f5a",
    "outputId": "e5214c61-e182-4cb6-eb9b-d49f1b3f0d17",
    "tags": []
   },
   "outputs": [],
   "source": [
    "gpt_model=GPT2LMHeadModel.from_pretrained(model_path,output_hidden_states=True).to(device)\n",
    "gpt_tokenizer=GPT2Tokenizer.from_pretrained(model_path)"
   ]
  },
  {
   "cell_type": "code",
   "execution_count": 8,
   "id": "ca973fff-eb67-41c6-8b74-34d06949c015",
   "metadata": {},
   "outputs": [],
   "source": [
    "gpt_tokenizer.pad_token = '<pad>'"
   ]
  },
  {
   "cell_type": "code",
   "execution_count": 9,
   "id": "5cf60220-16b9-4c15-bdd1-0f8774e06bcd",
   "metadata": {
    "id": "5cf60220-16b9-4c15-bdd1-0f8774e06bcd",
    "tags": []
   },
   "outputs": [],
   "source": [
    "apply_lora_linear(gpt_model)\n",
    "apply_lora_embedding(gpt_model)"
   ]
  },
  {
   "cell_type": "code",
   "execution_count": 10,
   "id": "e1b1d8b0-7230-4784-9dd8-989b47a6e0be",
   "metadata": {
    "id": "e1b1d8b0-7230-4784-9dd8-989b47a6e0be",
    "tags": []
   },
   "outputs": [],
   "source": [
    "lora.mark_only_lora_as_trainable(gpt_model)"
   ]
  },
  {
   "cell_type": "code",
   "execution_count": 11,
   "id": "55c9739c-0169-42d3-898b-6a69517de175",
   "metadata": {},
   "outputs": [
    {
     "name": "stderr",
     "output_type": "stream",
     "text": [
      "No config specified, defaulting to: ru_anglicism/default\n",
      "Found cached dataset ru_anglicism (/home/jovyan/.cache/huggingface/datasets/shershen___ru_anglicism/default/0.2.0/a1f71309ff0601f2a20ae30cd23f0b52822711d1af481586e36f525a21ed3bc2)\n"
     ]
    },
    {
     "data": {
      "application/vnd.jupyter.widget-view+json": {
       "model_id": "8ee8149c6f07413f9fec13a8cf09042c",
       "version_major": 2,
       "version_minor": 0
      },
      "text/plain": [
       "  0%|          | 0/2 [00:00<?, ?it/s]"
      ]
     },
     "metadata": {},
     "output_type": "display_data"
    }
   ],
   "source": [
    "df = load_dataset(dataset_path)\n",
    "train_df = pd.DataFrame(df['train'])\n",
    "test_df = pd.DataFrame(df['test'])"
   ]
  },
  {
   "cell_type": "code",
   "execution_count": 12,
   "id": "d10f85b0-60e0-4a15-ab9c-01429fd5ffc1",
   "metadata": {},
   "outputs": [
    {
     "data": {
      "text/html": [
       "<div>\n",
       "<style scoped>\n",
       "    .dataframe tbody tr th:only-of-type {\n",
       "        vertical-align: middle;\n",
       "    }\n",
       "\n",
       "    .dataframe tbody tr th {\n",
       "        vertical-align: top;\n",
       "    }\n",
       "\n",
       "    .dataframe thead th {\n",
       "        text-align: right;\n",
       "    }\n",
       "</style>\n",
       "<table border=\"1\" class=\"dataframe\">\n",
       "  <thead>\n",
       "    <tr style=\"text-align: right;\">\n",
       "      <th></th>\n",
       "      <th>word</th>\n",
       "      <th>form</th>\n",
       "      <th>sentence</th>\n",
       "      <th>paraphrase</th>\n",
       "    </tr>\n",
       "  </thead>\n",
       "  <tbody>\n",
       "    <tr>\n",
       "      <th>0</th>\n",
       "      <td>кринж</td>\n",
       "      <td>кринжовую</td>\n",
       "      <td>Моя подруга рассказала кринжовую историю.</td>\n",
       "      <td>Моя подруга рассказала стыдную историю.</td>\n",
       "    </tr>\n",
       "    <tr>\n",
       "      <th>1</th>\n",
       "      <td>кринж</td>\n",
       "      <td>кринж</td>\n",
       "      <td>Я словил кринж после этого ролика.</td>\n",
       "      <td>Я испытал стыд после этого ролика.</td>\n",
       "    </tr>\n",
       "    <tr>\n",
       "      <th>2</th>\n",
       "      <td>кринж</td>\n",
       "      <td>кринж</td>\n",
       "      <td>Ситуация полный кринж.</td>\n",
       "      <td>Ситуация полный стыд.</td>\n",
       "    </tr>\n",
       "    <tr>\n",
       "      <th>3</th>\n",
       "      <td>лук, маркетинг</td>\n",
       "      <td>лук, маркетинга</td>\n",
       "      <td>Эта девушка предложила снять новый лук с новой...</td>\n",
       "      <td>Эта девушка предложила снять новый образ с нов...</td>\n",
       "    </tr>\n",
       "    <tr>\n",
       "      <th>4</th>\n",
       "      <td>лукбук</td>\n",
       "      <td>лукбуке</td>\n",
       "      <td>\"Розница предусмотрена для тех, у кого нет вре...</td>\n",
       "      <td>\"Розница предусмотрена для тех, у кого нет вре...</td>\n",
       "    </tr>\n",
       "    <tr>\n",
       "      <th>5</th>\n",
       "      <td>аутфит</td>\n",
       "      <td>аутфит</td>\n",
       "      <td>Ее модный аутфит был продуман до мелочей, поэт...</td>\n",
       "      <td>Ее модный образ был продуман до мелочей, поэто...</td>\n",
       "    </tr>\n",
       "    <tr>\n",
       "      <th>6</th>\n",
       "      <td>чекать</td>\n",
       "      <td>чекну</td>\n",
       "      <td>Кинь ссылку, чекну, вдруг знаю его.</td>\n",
       "      <td>Кинь ссылку, проверю, вдруг знаю его.</td>\n",
       "    </tr>\n",
       "    <tr>\n",
       "      <th>7</th>\n",
       "      <td>чекать</td>\n",
       "      <td>чекни</td>\n",
       "      <td>Если ты не до конца уверен в этой инфе, лучше ...</td>\n",
       "      <td>Если ты не до конца уверен в этой инфе, лучше ...</td>\n",
       "    </tr>\n",
       "    <tr>\n",
       "      <th>8</th>\n",
       "      <td>чекать, айтишник</td>\n",
       "      <td>чекни, айтишника</td>\n",
       "      <td>Вован, чекни нашего нового айтишника, какой-то...</td>\n",
       "      <td>Вован, проверь нашего нового программиста, как...</td>\n",
       "    </tr>\n",
       "    <tr>\n",
       "      <th>9</th>\n",
       "      <td>хайп</td>\n",
       "      <td>хайп</td>\n",
       "      <td>Вокруг этой темы подняли ужасный хайп.</td>\n",
       "      <td>Вокруг этой темы подняли ужасный шумиху.</td>\n",
       "    </tr>\n",
       "  </tbody>\n",
       "</table>\n",
       "</div>"
      ],
      "text/plain": [
       "               word              form  \\\n",
       "0             кринж         кринжовую   \n",
       "1             кринж             кринж   \n",
       "2             кринж             кринж   \n",
       "3    лук, маркетинг   лук, маркетинга   \n",
       "4            лукбук           лукбуке   \n",
       "5            аутфит            аутфит   \n",
       "6            чекать             чекну   \n",
       "7            чекать             чекни   \n",
       "8  чекать, айтишник  чекни, айтишника   \n",
       "9              хайп              хайп   \n",
       "\n",
       "                                            sentence  \\\n",
       "0          Моя подруга рассказала кринжовую историю.   \n",
       "1                 Я словил кринж после этого ролика.   \n",
       "2                             Ситуация полный кринж.   \n",
       "3  Эта девушка предложила снять новый лук с новой...   \n",
       "4  \"Розница предусмотрена для тех, у кого нет вре...   \n",
       "5  Ее модный аутфит был продуман до мелочей, поэт...   \n",
       "6                Кинь ссылку, чекну, вдруг знаю его.   \n",
       "7  Если ты не до конца уверен в этой инфе, лучше ...   \n",
       "8  Вован, чекни нашего нового айтишника, какой-то...   \n",
       "9             Вокруг этой темы подняли ужасный хайп.   \n",
       "\n",
       "                                          paraphrase  \n",
       "0            Моя подруга рассказала стыдную историю.  \n",
       "1                 Я испытал стыд после этого ролика.  \n",
       "2                              Ситуация полный стыд.  \n",
       "3  Эта девушка предложила снять новый образ с нов...  \n",
       "4  \"Розница предусмотрена для тех, у кого нет вре...  \n",
       "5  Ее модный образ был продуман до мелочей, поэто...  \n",
       "6              Кинь ссылку, проверю, вдруг знаю его.  \n",
       "7  Если ты не до конца уверен в этой инфе, лучше ...  \n",
       "8  Вован, проверь нашего нового программиста, как...  \n",
       "9           Вокруг этой темы подняли ужасный шумиху.  "
      ]
     },
     "execution_count": 12,
     "metadata": {},
     "output_type": "execute_result"
    }
   ],
   "source": [
    "train_df.head(10)"
   ]
  },
  {
   "cell_type": "code",
   "execution_count": 13,
   "id": "6845958e-1464-4f97-be4e-759a6982c18d",
   "metadata": {},
   "outputs": [
    {
     "data": {
      "text/html": [
       "<div>\n",
       "<style scoped>\n",
       "    .dataframe tbody tr th:only-of-type {\n",
       "        vertical-align: middle;\n",
       "    }\n",
       "\n",
       "    .dataframe tbody tr th {\n",
       "        vertical-align: top;\n",
       "    }\n",
       "\n",
       "    .dataframe thead th {\n",
       "        text-align: right;\n",
       "    }\n",
       "</style>\n",
       "<table border=\"1\" class=\"dataframe\">\n",
       "  <thead>\n",
       "    <tr style=\"text-align: right;\">\n",
       "      <th></th>\n",
       "      <th>word</th>\n",
       "      <th>form</th>\n",
       "      <th>sentence</th>\n",
       "      <th>paraphrase</th>\n",
       "    </tr>\n",
       "  </thead>\n",
       "  <tbody>\n",
       "    <tr>\n",
       "      <th>0</th>\n",
       "      <td>скринить</td>\n",
       "      <td>скринит</td>\n",
       "      <td>Эта дура скринит переписки и постит в инстаграм.</td>\n",
       "      <td>Эта дура фотографирует переписки и выставляет ...</td>\n",
       "    </tr>\n",
       "    <tr>\n",
       "      <th>1</th>\n",
       "      <td>вайб</td>\n",
       "      <td>вайб</td>\n",
       "      <td>Не могу это объяснить, но у четверга и 16:00 о...</td>\n",
       "      <td>Не могу это объяснить, но у четверга и 16:00 о...</td>\n",
       "    </tr>\n",
       "    <tr>\n",
       "      <th>2</th>\n",
       "      <td>вайб</td>\n",
       "      <td>вайб</td>\n",
       "      <td>\"Вчера выпал пушистый снег и в воздухе царил н...</td>\n",
       "      <td>\"Вчера выпал пушистый снег и в воздухе царило ...</td>\n",
       "    </tr>\n",
       "    <tr>\n",
       "      <th>3</th>\n",
       "      <td>чек-ап</td>\n",
       "      <td>чекап</td>\n",
       "      <td>Программа чекап в ИНВИТРО создана специально д...</td>\n",
       "      <td>Программа комплексного медицинского обследован...</td>\n",
       "    </tr>\n",
       "    <tr>\n",
       "      <th>4</th>\n",
       "      <td>чек-ап</td>\n",
       "      <td>Чек-Ап</td>\n",
       "      <td>В ЛДЦ \"Кутузовский\" в Москве вы можете пройти ...</td>\n",
       "      <td>В ЛДЦ \"Кутузовский\" в Москве вы можете пройти ...</td>\n",
       "    </tr>\n",
       "    <tr>\n",
       "      <th>5</th>\n",
       "      <td>чек-ап</td>\n",
       "      <td>чек-ап</td>\n",
       "      <td>Женский и мужской чек-ап, гинекологический чек...</td>\n",
       "      <td>Комплексное медицинское обследование женщин и ...</td>\n",
       "    </tr>\n",
       "    <tr>\n",
       "      <th>6</th>\n",
       "      <td>окей</td>\n",
       "      <td>Окей</td>\n",
       "      <td>Угашение происходит потому, что мозг делает вы...</td>\n",
       "      <td>Угашение происходит потому, что мозг делает вы...</td>\n",
       "    </tr>\n",
       "    <tr>\n",
       "      <th>7</th>\n",
       "      <td>окей</td>\n",
       "      <td>окей</td>\n",
       "      <td>Приговаривая \"окей\", он вприпрыжку побегал по ...</td>\n",
       "      <td>Приговаривая \"ладно\", он вприпрыжку побегал по...</td>\n",
       "    </tr>\n",
       "    <tr>\n",
       "      <th>8</th>\n",
       "      <td>окей</td>\n",
       "      <td>окей</td>\n",
       "      <td>Ладно, окей, пацаны его больше не тронут, а ва...</td>\n",
       "      <td>Ладно, договорились, пацаны его больше не трон...</td>\n",
       "    </tr>\n",
       "    <tr>\n",
       "      <th>9</th>\n",
       "      <td>окей</td>\n",
       "      <td>Окей</td>\n",
       "      <td>Окей, согласился Геннадий, не будем про отпеча...</td>\n",
       "      <td>Хорошо, согласился Геннадий, не будем про отпе...</td>\n",
       "    </tr>\n",
       "  </tbody>\n",
       "</table>\n",
       "</div>"
      ],
      "text/plain": [
       "       word     form                                           sentence  \\\n",
       "0  скринить  скринит   Эта дура скринит переписки и постит в инстаграм.   \n",
       "1      вайб     вайб  Не могу это объяснить, но у четверга и 16:00 о...   \n",
       "2      вайб     вайб  \"Вчера выпал пушистый снег и в воздухе царил н...   \n",
       "3    чек-ап    чекап  Программа чекап в ИНВИТРО создана специально д...   \n",
       "4    чек-ап   Чек-Ап  В ЛДЦ \"Кутузовский\" в Москве вы можете пройти ...   \n",
       "5    чек-ап   чек-ап  Женский и мужской чек-ап, гинекологический чек...   \n",
       "6      окей     Окей  Угашение происходит потому, что мозг делает вы...   \n",
       "7      окей     окей  Приговаривая \"окей\", он вприпрыжку побегал по ...   \n",
       "8      окей     окей  Ладно, окей, пацаны его больше не тронут, а ва...   \n",
       "9      окей     Окей  Окей, согласился Геннадий, не будем про отпеча...   \n",
       "\n",
       "                                          paraphrase  \n",
       "0  Эта дура фотографирует переписки и выставляет ...  \n",
       "1  Не могу это объяснить, но у четверга и 16:00 о...  \n",
       "2  \"Вчера выпал пушистый снег и в воздухе царило ...  \n",
       "3  Программа комплексного медицинского обследован...  \n",
       "4  В ЛДЦ \"Кутузовский\" в Москве вы можете пройти ...  \n",
       "5  Комплексное медицинское обследование женщин и ...  \n",
       "6  Угашение происходит потому, что мозг делает вы...  \n",
       "7  Приговаривая \"ладно\", он вприпрыжку побегал по...  \n",
       "8  Ладно, договорились, пацаны его больше не трон...  \n",
       "9  Хорошо, согласился Геннадий, не будем про отпе...  "
      ]
     },
     "execution_count": 13,
     "metadata": {},
     "output_type": "execute_result"
    }
   ],
   "source": [
    "test_df.head(10)"
   ]
  },
  {
   "cell_type": "code",
   "execution_count": 14,
   "id": "01f57158-032a-445e-8693-e2e32fceed4c",
   "metadata": {},
   "outputs": [],
   "source": [
    "train_df['full'] = train_df['sentence'] + '\\n' + train_df['paraphrase'] + '\\t'\n",
    "test_df['full'] = test_df['sentence'] +'\\n' + test_df['paraphrase'] + '\\t'"
   ]
  },
  {
   "cell_type": "code",
   "execution_count": 15,
   "id": "5b5e9a9f-b504-4e7a-882f-6bea213c0817",
   "metadata": {},
   "outputs": [
    {
     "data": {
      "text/plain": [
       "[203]"
      ]
     },
     "execution_count": 15,
     "metadata": {},
     "output_type": "execute_result"
    }
   ],
   "source": [
    "gpt_tokenizer.encode('\\n')"
   ]
  },
  {
   "cell_type": "code",
   "execution_count": 16,
   "id": "3be2d97c-3238-47b8-a415-88877cd56696",
   "metadata": {},
   "outputs": [
    {
     "data": {
      "text/plain": [
       "'Моя подруга рассказала кринжовую историю.\\nМоя подруга рассказала стыдную историю.\\t'"
      ]
     },
     "execution_count": 16,
     "metadata": {},
     "output_type": "execute_result"
    }
   ],
   "source": [
    "train_df.iloc[0]['full']"
   ]
  },
  {
   "cell_type": "markdown",
   "id": "dada8585-16e6-41f6-9dae-26796b367930",
   "metadata": {},
   "source": [
    "### Функции обучения"
   ]
  },
  {
   "cell_type": "code",
   "execution_count": 17,
   "id": "7ac8bcf1-10fc-43c8-8f57-4ed1b311fd3c",
   "metadata": {
    "id": "7ac8bcf1-10fc-43c8-8f57-4ed1b311fd3c",
    "tags": []
   },
   "outputs": [],
   "source": [
    "def train_cycle(model,tokenizer, train_df, optimizer, scheduler=None, dx=5):\n",
    "    losses=[]\n",
    "    loss_func=nn.CrossEntropyLoss()\n",
    "    for pos in trange(0,len(train_df),dx):\n",
    "        optimizer.zero_grad()\n",
    "        full_txt = train_df['full'].values[pos:pos+dx].tolist()\n",
    "        full_toks = tokenizer(full_txt, padding=True, return_tensors='pt').to(device)\n",
    "        target_toks = full_toks['input_ids'].clone()\n",
    "        inds = (full_toks['input_ids'] == 203).nonzero(as_tuple=True)[1]\n",
    "        for i, t in zip(inds, target_toks):\n",
    "            t[:i+1] = -100\n",
    "        target_toks[target_toks==0] = -100\n",
    "        logits=model(input_ids=full_toks['input_ids'], attention_mask=full_toks['attention_mask'])['logits']\n",
    "        logits = logits[..., :-1, :].contiguous()\n",
    "        target_toks = target_toks[..., 1:].contiguous()\n",
    "        loss=loss_func(logits.view(-1,logits.size(-1)), target_toks.view(-1))\n",
    "        losses.append(loss.item())\n",
    "        loss.backward()\n",
    "        optimizer.step()\n",
    "        if scheduler:\n",
    "            scheduler.step()\n",
    "        torch.cuda.empty_cache()\n",
    "    return losses"
   ]
  },
  {
   "cell_type": "code",
   "execution_count": 18,
   "id": "986c4817-73df-4f74-b2cd-88d2e20b33e3",
   "metadata": {
    "id": "986c4817-73df-4f74-b2cd-88d2e20b33e3",
    "tags": []
   },
   "outputs": [],
   "source": [
    "def val_cycle(model,tokenizer,test_df,dx=5):\n",
    "    losses=[]\n",
    "    loss_func=nn.CrossEntropyLoss()\n",
    "    for pos in trange(0,len(test_df),dx):\n",
    "        full_txt = test_df['full'].values[pos:pos+dx].tolist()\n",
    "        full_toks = gpt_tokenizer(full_txt, padding=True, return_tensors='pt').to(device)\n",
    "        target_toks = full_toks['input_ids'].clone()\n",
    "        inds = (full_toks['input_ids'] == 203).nonzero(as_tuple=True)[1]\n",
    "        for i, t in zip(inds, target_toks):\n",
    "            t[:i+1] = -100\n",
    "        target_toks[target_toks==0] = -100\n",
    "        logits=model(input_ids=full_toks['input_ids'], attention_mask=full_toks['attention_mask'])['logits']\n",
    "        logits = logits[..., :-1, :].contiguous()\n",
    "        target_toks = target_toks[..., 1:].contiguous()\n",
    "        loss=loss_func(logits.view(-1,logits.size(-1)), target_toks.view(-1))\n",
    "        losses.append(loss.item())\n",
    "        torch.cuda.empty_cache()\n",
    "    return losses"
   ]
  },
  {
   "cell_type": "markdown",
   "id": "917847c4-36f2-4bcc-b4df-5cabf762a76d",
   "metadata": {},
   "source": [
    "### Оптимизатор, скедулер и ранняя остановка"
   ]
  },
  {
   "cell_type": "code",
   "execution_count": 19,
   "id": "7376a796-0191-4fab-b33f-7fb82e0ed10e",
   "metadata": {
    "id": "7376a796-0191-4fab-b33f-7fb82e0ed10e",
    "tags": []
   },
   "outputs": [],
   "source": [
    "total_steps = (len(train_df) // batch_size) * epochs"
   ]
  },
  {
   "cell_type": "code",
   "execution_count": 20,
   "id": "5be82879-fae1-4a04-b261-409824188452",
   "metadata": {
    "id": "5be82879-fae1-4a04-b261-409824188452",
    "tags": []
   },
   "outputs": [],
   "source": [
    "optimizer=AdamW([\n",
    "    {'params':gpt_model.parameters(), 'lr':lr}\n",
    "])\n",
    "scheduler = get_linear_schedule_with_warmup(optimizer,\n",
    "                                           num_warmup_steps=1e2,\n",
    "                                           num_training_steps=total_steps)"
   ]
  },
  {
   "cell_type": "code",
   "execution_count": 21,
   "id": "ecdc63f1-8e40-4522-90ba-f0101b12f1bc",
   "metadata": {},
   "outputs": [],
   "source": [
    "class EarlyStopper:\n",
    "    def __init__(self, patience=1):\n",
    "        self.patience = patience\n",
    "        self.counter = 0\n",
    "        self.min_validation_loss = np.inf\n",
    "\n",
    "    def early_stop(self, validation_loss):\n",
    "        if validation_loss < self.min_validation_loss:\n",
    "            self.min_validation_loss = validation_loss\n",
    "            self.counter = 0\n",
    "        elif validation_loss > self.min_validation_loss:\n",
    "            self.counter += 1\n",
    "            if self.counter >= self.patience:\n",
    "                return True\n",
    "        return False"
   ]
  },
  {
   "cell_type": "markdown",
   "id": "3fa4ff32-e70e-461e-b525-c62b661fe22e",
   "metadata": {},
   "source": [
    "### Тренировка"
   ]
  },
  {
   "cell_type": "code",
   "execution_count": 22,
   "id": "c40be557-0c84-4547-8579-f873732b07c1",
   "metadata": {
    "id": "c40be557-0c84-4547-8579-f873732b07c1",
    "tags": []
   },
   "outputs": [
    {
     "data": {
      "application/vnd.jupyter.widget-view+json": {
       "model_id": "9d1acb9c548c4223b76f3c982f0143cc",
       "version_major": 2,
       "version_minor": 0
      },
      "text/plain": [
       "  0%|          | 0/5 [00:00<?, ?it/s]"
      ]
     },
     "metadata": {},
     "output_type": "display_data"
    },
    {
     "data": {
      "application/vnd.jupyter.widget-view+json": {
       "model_id": "3c2248112d674f299fdb78c590f5f904",
       "version_major": 2,
       "version_minor": 0
      },
      "text/plain": [
       "  0%|          | 0/126 [00:00<?, ?it/s]"
      ]
     },
     "metadata": {},
     "output_type": "display_data"
    },
    {
     "data": {
      "application/vnd.jupyter.widget-view+json": {
       "model_id": "a85b0e280d8e44ba9b82d5734a079d98",
       "version_major": 2,
       "version_minor": 0
      },
      "text/plain": [
       "  0%|          | 0/16 [00:00<?, ?it/s]"
      ]
     },
     "metadata": {},
     "output_type": "display_data"
    },
    {
     "name": "stdout",
     "output_type": "stream",
     "text": [
      "1 train 0.9604 test 0.6259\n"
     ]
    },
    {
     "data": {
      "application/vnd.jupyter.widget-view+json": {
       "model_id": "1c4e62770d324fabb1e319e1634bf538",
       "version_major": 2,
       "version_minor": 0
      },
      "text/plain": [
       "  0%|          | 0/126 [00:00<?, ?it/s]"
      ]
     },
     "metadata": {},
     "output_type": "display_data"
    },
    {
     "data": {
      "application/vnd.jupyter.widget-view+json": {
       "model_id": "05df64d60bdf4e439b6d0fa4f94a4dcd",
       "version_major": 2,
       "version_minor": 0
      },
      "text/plain": [
       "  0%|          | 0/16 [00:00<?, ?it/s]"
      ]
     },
     "metadata": {},
     "output_type": "display_data"
    },
    {
     "name": "stdout",
     "output_type": "stream",
     "text": [
      "2 train 0.4216 test 0.6521\n"
     ]
    }
   ],
   "source": [
    "train_losses = []\n",
    "val_losses = []\n",
    "early_stopper = EarlyStopper(patience=1)\n",
    "all_losses=[(0,0)]\n",
    "for ep in trange(epochs):\n",
    "    l1=train_cycle(gpt_model, gpt_tokenizer, train_df.sample(frac=1), optimizer, scheduler, dx=batch_size)\n",
    "    torch.cuda.empty_cache()\n",
    "    with torch.no_grad():\n",
    "        l2=val_cycle(gpt_model, gpt_tokenizer, test_df.sample(frac=1))\n",
    "    print(ep+1,'train',round(np.mean(l1),4),'test',round(np.mean(l2),4))\n",
    "    all_losses.append((np.mean(l1),np.mean(l2)))\n",
    "    train_losses.append(np.mean(l1))\n",
    "    val_losses.append(np.mean(l2))\n",
    "    if early_stopper.early_stop(np.mean(l2)):             \n",
    "        break"
   ]
  },
  {
   "cell_type": "markdown",
   "id": "0f29b594-5e7e-4684-b611-334dd0888c9f",
   "metadata": {},
   "source": [
    "### Рисунок лосса"
   ]
  },
  {
   "cell_type": "code",
   "execution_count": 29,
   "id": "06243fb3-b327-425f-82c9-f28c31fe71ab",
   "metadata": {},
   "outputs": [],
   "source": [
    "def draw_result(lst_iter, train_loss, val_loss, title):\n",
    "    plt.plot(train_loss, '-b', label='train loss')\n",
    "    plt.plot(val_loss, '-r', label='val loss')\n",
    "\n",
    "    plt.xlabel('n epoch')\n",
    "    plt.ylabel('loss')\n",
    "    plt.legend(loc='upper left')\n",
    "    plt.title(title)\n",
    "\n",
    "    plt.show()"
   ]
  },
  {
   "cell_type": "code",
   "execution_count": 30,
   "id": "a1824f3c-b20f-4994-8e0e-abcdb2ae4c75",
   "metadata": {},
   "outputs": [],
   "source": [
    "draw_train = [np.mean(x) for x in train_losses]\n",
    "draw_test = [np.mean(x) for x in val_losses]"
   ]
  },
  {
   "cell_type": "code",
   "execution_count": 31,
   "id": "f50ea360-7ff0-49f8-a841-d68150d11e75",
   "metadata": {},
   "outputs": [
    {
     "data": {
      "image/png": "[encoded data removed]",
      "text/plain": [
       "<Figure size 432x288 with 1 Axes>"
      ]
     },
     "metadata": {
      "needs_background": "light"
     },
     "output_type": "display_data"
    }
   ],
   "source": [
    "draw_result(epochs, draw_train, draw_test, 'Training prefix detector')"
   ]
  },
  {
   "cell_type": "markdown",
   "id": "52b5c30c-2d00-4f3a-9972-f49d0711c3ca",
   "metadata": {},
   "source": [
    "### Получим предсказания для тестовой части"
   ]
  },
  {
   "cell_type": "code",
   "execution_count": 23,
   "id": "59eeacf2-95c1-4cb3-b566-ad1ddf38ae73",
   "metadata": {},
   "outputs": [],
   "source": [
    "test_df['check_test'] = test_df['paraphrase'] + '\\n'"
   ]
  },
  {
   "cell_type": "code",
   "execution_count": 26,
   "id": "0e17897f-da68-4d9d-8c86-51106f8bb04b",
   "metadata": {},
   "outputs": [],
   "source": [
    "def get_preds(df, dx=16):\n",
    "    paraphrases = []\n",
    "    for pos in trange(0, len(df), dx):\n",
    "        texts = df['check_test'].values[pos:pos+dx].tolist()\n",
    "        toks = gpt_tokenizer(texts, padding=True, return_tensors='pt').to(device)\n",
    "        with torch.no_grad():\n",
    "            gen_toks = gpt_model.generate(toks['input_ids'], max_length=100)\n",
    "            generated = [gpt_tokenizer.decode(x, skip_special_tokens=True).split('\\n')[0] \n",
    "                         for x in gen_toks]\n",
    "        paraphrases.extend(generated)\n",
    "    return paraphrases"
   ]
  },
  {
   "cell_type": "code",
   "execution_count": 27,
   "id": "7553d938-6fc0-4ab8-a83c-229148ec31a2",
   "metadata": {},
   "outputs": [
    {
     "data": {
      "application/vnd.jupyter.widget-view+json": {
       "model_id": "3ace4a811dbb4509a441c0a32e320f0e",
       "version_major": 2,
       "version_minor": 0
      },
      "text/plain": [
       "  0%|          | 0/5 [00:00<?, ?it/s]"
      ]
     },
     "metadata": {},
     "output_type": "display_data"
    },
    {
     "name": "stderr",
     "output_type": "stream",
     "text": [
      "The attention mask and the pad token id were not set. As a consequence, you may observe unexpected behavior. Please pass your input's `attention_mask` to obtain reliable results.\n",
      "Setting `pad_token_id` to `eos_token_id`:50256 for open-end generation.\n",
      "The attention mask and the pad token id were not set. As a consequence, you may observe unexpected behavior. Please pass your input's `attention_mask` to obtain reliable results.\n",
      "Setting `pad_token_id` to `eos_token_id`:50256 for open-end generation.\n",
      "The attention mask and the pad token id were not set. As a consequence, you may observe unexpected behavior. Please pass your input's `attention_mask` to obtain reliable results.\n",
      "Setting `pad_token_id` to `eos_token_id`:50256 for open-end generation.\n",
      "The attention mask and the pad token id were not set. As a consequence, you may observe unexpected behavior. Please pass your input's `attention_mask` to obtain reliable results.\n",
      "Setting `pad_token_id` to `eos_token_id`:50256 for open-end generation.\n",
      "The attention mask and the pad token id were not set. As a consequence, you may observe unexpected behavior. Please pass your input's `attention_mask` to obtain reliable results.\n",
      "Setting `pad_token_id` to `eos_token_id`:50256 for open-end generation.\n"
     ]
    }
   ],
   "source": [
    "paraphrases = get_preds(test_df)"
   ]
  },
  {
   "cell_type": "code",
   "execution_count": 40,
   "id": "5fefa4d9-039b-4376-a46b-9246e5ce71be",
   "metadata": {},
   "outputs": [],
   "source": [
    "pred_df = test_df.copy()\n",
    "pred_df['preds'] = paraphrases\n",
    "pred_df.drop(['full', 'check_test'], axis=1, inplace=True)"
   ]
  },
  {
   "cell_type": "code",
   "execution_count": 41,
   "id": "c393ffb8-0727-4a52-a6d5-b9723f8ded09",
   "metadata": {},
   "outputs": [
    {
     "data": {
      "text/html": [
       "<div>\n",
       "<style scoped>\n",
       "    .dataframe tbody tr th:only-of-type {\n",
       "        vertical-align: middle;\n",
       "    }\n",
       "\n",
       "    .dataframe tbody tr th {\n",
       "        vertical-align: top;\n",
       "    }\n",
       "\n",
       "    .dataframe thead th {\n",
       "        text-align: right;\n",
       "    }\n",
       "</style>\n",
       "<table border=\"1\" class=\"dataframe\">\n",
       "  <thead>\n",
       "    <tr style=\"text-align: right;\">\n",
       "      <th></th>\n",
       "      <th>word</th>\n",
       "      <th>form</th>\n",
       "      <th>sentence</th>\n",
       "      <th>paraphrase</th>\n",
       "      <th>preds</th>\n",
       "    </tr>\n",
       "  </thead>\n",
       "  <tbody>\n",
       "    <tr>\n",
       "      <th>0</th>\n",
       "      <td>скринить</td>\n",
       "      <td>скринит</td>\n",
       "      <td>Эта дура скринит переписки и постит в инстаграм.</td>\n",
       "      <td>Эта дура фотографирует переписки и выставляет ...</td>\n",
       "      <td>Эта дура фотографирует переписки и выставляет ...</td>\n",
       "    </tr>\n",
       "    <tr>\n",
       "      <th>1</th>\n",
       "      <td>вайб</td>\n",
       "      <td>вайб</td>\n",
       "      <td>Не могу это объяснить, но у четверга и 16:00 о...</td>\n",
       "      <td>Не могу это объяснить, но у четверга и 16:00 о...</td>\n",
       "      <td>Не могу это объяснить, но у четверга и 16:00 о...</td>\n",
       "    </tr>\n",
       "    <tr>\n",
       "      <th>2</th>\n",
       "      <td>вайб</td>\n",
       "      <td>вайб</td>\n",
       "      <td>\"Вчера выпал пушистый снег и в воздухе царил н...</td>\n",
       "      <td>\"Вчера выпал пушистый снег и в воздухе царило ...</td>\n",
       "      <td>\"Вчера выпал пушистый снег и в воздухе царило ...</td>\n",
       "    </tr>\n",
       "    <tr>\n",
       "      <th>3</th>\n",
       "      <td>чек-ап</td>\n",
       "      <td>чекап</td>\n",
       "      <td>Программа чекап в ИНВИТРО создана специально д...</td>\n",
       "      <td>Программа комплексного медицинского обследован...</td>\n",
       "      <td>Программа комплексного медицинского обследован...</td>\n",
       "    </tr>\n",
       "    <tr>\n",
       "      <th>4</th>\n",
       "      <td>чек-ап</td>\n",
       "      <td>Чек-Ап</td>\n",
       "      <td>В ЛДЦ \"Кутузовский\" в Москве вы можете пройти ...</td>\n",
       "      <td>В ЛДЦ \"Кутузовский\" в Москве вы можете пройти ...</td>\n",
       "      <td>В ЛДЦ \"Кутузовский\" в Москве вы можете пройти ...</td>\n",
       "    </tr>\n",
       "    <tr>\n",
       "      <th>5</th>\n",
       "      <td>чек-ап</td>\n",
       "      <td>чек-ап</td>\n",
       "      <td>Женский и мужской чек-ап, гинекологический чек...</td>\n",
       "      <td>Комплексное медицинское обследование женщин и ...</td>\n",
       "      <td>Комплексное медицинское обследование женщин и ...</td>\n",
       "    </tr>\n",
       "    <tr>\n",
       "      <th>6</th>\n",
       "      <td>окей</td>\n",
       "      <td>Окей</td>\n",
       "      <td>Угашение происходит потому, что мозг делает вы...</td>\n",
       "      <td>Угашение происходит потому, что мозг делает вы...</td>\n",
       "      <td>Угашение происходит потому, что мозг делает вы...</td>\n",
       "    </tr>\n",
       "    <tr>\n",
       "      <th>7</th>\n",
       "      <td>окей</td>\n",
       "      <td>окей</td>\n",
       "      <td>Приговаривая \"окей\", он вприпрыжку побегал по ...</td>\n",
       "      <td>Приговаривая \"ладно\", он вприпрыжку побегал по...</td>\n",
       "      <td>Приговаривая \"ладно\", он вприпрыжку побегал по...</td>\n",
       "    </tr>\n",
       "    <tr>\n",
       "      <th>8</th>\n",
       "      <td>окей</td>\n",
       "      <td>окей</td>\n",
       "      <td>Ладно, окей, пацаны его больше не тронут, а ва...</td>\n",
       "      <td>Ладно, договорились, пацаны его больше не трон...</td>\n",
       "      <td>Ладно, договорились, пацаны его больше не трон...</td>\n",
       "    </tr>\n",
       "    <tr>\n",
       "      <th>9</th>\n",
       "      <td>окей</td>\n",
       "      <td>Окей</td>\n",
       "      <td>Окей, согласился Геннадий, не будем про отпеча...</td>\n",
       "      <td>Хорошо, согласился Геннадий, не будем про отпе...</td>\n",
       "      <td>Хорошо, согласился Геннадий, не будем про отпе...</td>\n",
       "    </tr>\n",
       "  </tbody>\n",
       "</table>\n",
       "</div>"
      ],
      "text/plain": [
       "       word     form                                           sentence  \\\n",
       "0  скринить  скринит   Эта дура скринит переписки и постит в инстаграм.   \n",
       "1      вайб     вайб  Не могу это объяснить, но у четверга и 16:00 о...   \n",
       "2      вайб     вайб  \"Вчера выпал пушистый снег и в воздухе царил н...   \n",
       "3    чек-ап    чекап  Программа чекап в ИНВИТРО создана специально д...   \n",
       "4    чек-ап   Чек-Ап  В ЛДЦ \"Кутузовский\" в Москве вы можете пройти ...   \n",
       "5    чек-ап   чек-ап  Женский и мужской чек-ап, гинекологический чек...   \n",
       "6      окей     Окей  Угашение происходит потому, что мозг делает вы...   \n",
       "7      окей     окей  Приговаривая \"окей\", он вприпрыжку побегал по ...   \n",
       "8      окей     окей  Ладно, окей, пацаны его больше не тронут, а ва...   \n",
       "9      окей     Окей  Окей, согласился Геннадий, не будем про отпеча...   \n",
       "\n",
       "                                          paraphrase  \\\n",
       "0  Эта дура фотографирует переписки и выставляет ...   \n",
       "1  Не могу это объяснить, но у четверга и 16:00 о...   \n",
       "2  \"Вчера выпал пушистый снег и в воздухе царило ...   \n",
       "3  Программа комплексного медицинского обследован...   \n",
       "4  В ЛДЦ \"Кутузовский\" в Москве вы можете пройти ...   \n",
       "5  Комплексное медицинское обследование женщин и ...   \n",
       "6  Угашение происходит потому, что мозг делает вы...   \n",
       "7  Приговаривая \"ладно\", он вприпрыжку побегал по...   \n",
       "8  Ладно, договорились, пацаны его больше не трон...   \n",
       "9  Хорошо, согласился Геннадий, не будем про отпе...   \n",
       "\n",
       "                                               preds  \n",
       "0  Эта дура фотографирует переписки и выставляет ...  \n",
       "1  Не могу это объяснить, но у четверга и 16:00 о...  \n",
       "2  \"Вчера выпал пушистый снег и в воздухе царило ...  \n",
       "3  Программа комплексного медицинского обследован...  \n",
       "4  В ЛДЦ \"Кутузовский\" в Москве вы можете пройти ...  \n",
       "5  Комплексное медицинское обследование женщин и ...  \n",
       "6  Угашение происходит потому, что мозг делает вы...  \n",
       "7  Приговаривая \"ладно\", он вприпрыжку побегал по...  \n",
       "8  Ладно, договорились, пацаны его больше не трон...  \n",
       "9  Хорошо, согласился Геннадий, не будем про отпе...  "
      ]
     },
     "execution_count": 41,
     "metadata": {},
     "output_type": "execute_result"
    }
   ],
   "source": [
    "pred_df.head(10)"
   ]
  },
  {
   "cell_type": "code",
   "execution_count": null,
   "id": "f5e5fcc0-b85c-44e3-8458-58dbd9c9cd17",
   "metadata": {},
   "outputs": [],
   "source": [
    "print(pred_df.iloc[1]['sentence'], prepred_df.iloc[1]['paraphrase'], pred_df.iloc[1]['preds'])"
   ]
  },
  {
   "cell_type": "markdown",
   "id": "a716e3e3-ac79-4bcc-8738-cae5d4ccc727",
   "metadata": {},
   "source": [
    "### Сохраним веса и таблицу с предсказаниями"
   ]
  },
  {
   "cell_type": "code",
   "execution_count": 35,
   "id": "a2584e76-1e5b-41a5-a2f5-bb42d284b61e",
   "metadata": {},
   "outputs": [],
   "source": [
    "torch.save(lora.lora_state_dict(gpt_model), os.path.join(out_dir, 'gpt_lora.pth'))"
   ]
  },
  {
   "cell_type": "code",
   "execution_count": 36,
   "id": "48e21e26-347b-4522-93f4-0f9f419bcefe",
   "metadata": {},
   "outputs": [],
   "source": [
    "pred_df = test_df.copy()\n",
    "pred_df['preds'] = paraphrases\n",
    "pred_df.to_csv(os.path.join(out_dir, 'gpt_pred_lora.csv'), index=False)"
   ]
  },
  {
   "cell_type": "code",
   "execution_count": null,
   "id": "92a13b50-ce74-4d85-8f20-fdc7a2b01327",
   "metadata": {
    "id": "92a13b50-ce74-4d85-8f20-fdc7a2b01327"
   },
   "outputs": [],
   "source": []
  },
  {
   "cell_type": "code",
   "execution_count": null,
   "id": "fec92b9c-2a17-4eb2-9d9d-45e936913499",
   "metadata": {},
   "outputs": [],
   "source": []
  },
  {
   "cell_type": "code",
   "execution_count": null,
   "id": "89279e2f-85f4-4944-8c32-693568e54b7d",
   "metadata": {},
   "outputs": [],
   "source": []
  },
  {
   "cell_type": "code",
   "execution_count": null,
   "id": "6912c275-1e7a-4010-9dbd-f4eb602ebe06",
   "metadata": {},
   "outputs": [],
   "source": []
  },
  {
   "cell_type": "code",
   "execution_count": null,
   "id": "e45714b1-cf01-4b33-a9bb-9e42ac84315d",
   "metadata": {},
   "outputs": [],
   "source": []
  },
  {
   "cell_type": "code",
   "execution_count": null,
   "id": "11118ea6-ea71-4c0b-b4df-daaba0c32ae9",
   "metadata": {},
   "outputs": [],
   "source": []
  }
 ],
 "metadata": {
  "colab": {
   "provenance": []
  },
  "gpuClass": "standard",
  "kernelspec": {
   "display_name": "Python 3 (ipykernel)",
   "language": "python",
   "name": "python3"
  },
  "language_info": {
   "codemirror_mode": {
    "name": "ipython",
    "version": 3
   },
   "file_extension": ".py",
   "mimetype": "text/x-python",
   "name": "python",
   "nbconvert_exporter": "python",
   "pygments_lexer": "ipython3",
   "version": "3.7.12"
  },
  "widgets": {
   "application/vnd.jupyter.widget-state+json": {
    "070211f6a0c744b490da008f7beb2eff": {
     "model_module": "@jupyter-widgets/controls",
     "model_module_version": "1.5.0",
     "model_name": "FloatProgressModel",
     "state": {
      "_dom_classes": [],
      "_model_module": "@jupyter-widgets/controls",
      "_model_module_version": "1.5.0",
      "_model_name": "FloatProgressModel",
      "_view_count": null,
      "_view_module": "@jupyter-widgets/controls",
      "_view_module_version": "1.5.0",
      "_view_name": "ProgressView",
      "bar_style": "success",
      "description": "",
      "description_tooltip": null,
      "layout": "IPY_MODEL_8508cb29d07c496a81d9ea2e0308f850",
      "max": 3141928084,
      "min": 0,
      "orientation": "horizontal",
      "style": "IPY_MODEL_102ccd2c4f4f424087be0d6717039d54",
      "value": 3141928084
     }
    },
    "08a13da3267141dcb29364df7943e595": {
     "model_module": "@jupyter-widgets/controls",
     "model_module_version": "1.5.0",
     "model_name": "DescriptionStyleModel",
     "state": {
      "_model_module": "@jupyter-widgets/controls",
      "_model_module_version": "1.5.0",
      "_model_name": "DescriptionStyleModel",
      "_view_count": null,
      "_view_module": "@jupyter-widgets/base",
      "_view_module_version": "1.2.0",
      "_view_name": "StyleView",
      "description_width": ""
     }
    },
    "102ccd2c4f4f424087be0d6717039d54": {
     "model_module": "@jupyter-widgets/controls",
     "model_module_version": "1.5.0",
     "model_name": "ProgressStyleModel",
     "state": {
      "_model_module": "@jupyter-widgets/controls",
      "_model_module_version": "1.5.0",
      "_model_name": "ProgressStyleModel",
      "_view_count": null,
      "_view_module": "@jupyter-widgets/base",
      "_view_module_version": "1.2.0",
      "_view_name": "StyleView",
      "bar_color": null,
      "description_width": ""
     }
    },
    "14a52df608694f6ba17c0c6502860532": {
     "model_module": "@jupyter-widgets/base",
     "model_module_version": "1.2.0",
     "model_name": "LayoutModel",
     "state": {
      "_model_module": "@jupyter-widgets/base",
      "_model_module_version": "1.2.0",
      "_model_name": "LayoutModel",
      "_view_count": null,
      "_view_module": "@jupyter-widgets/base",
      "_view_module_version": "1.2.0",
      "_view_name": "LayoutView",
      "align_content": null,
      "align_items": null,
      "align_self": null,
      "border": null,
      "bottom": null,
      "display": null,
      "flex": null,
      "flex_flow": null,
      "grid_area": null,
      "grid_auto_columns": null,
      "grid_auto_flow": null,
      "grid_auto_rows": null,
      "grid_column": null,
      "grid_gap": null,
      "grid_row": null,
      "grid_template_areas": null,
      "grid_template_columns": null,
      "grid_template_rows": null,
      "height": null,
      "justify_content": null,
      "justify_items": null,
      "left": null,
      "margin": null,
      "max_height": null,
      "max_width": null,
      "min_height": null,
      "min_width": null,
      "object_fit": null,
      "object_position": null,
      "order": null,
      "overflow": null,
      "overflow_x": null,
      "overflow_y": null,
      "padding": null,
      "right": null,
      "top": null,
      "visibility": null,
      "width": null
     }
    },
    "1760f99805ba4d53915ed313e86f29e2": {
     "model_module": "@jupyter-widgets/controls",
     "model_module_version": "1.5.0",
     "model_name": "DescriptionStyleModel",
     "state": {
      "_model_module": "@jupyter-widgets/controls",
      "_model_module_version": "1.5.0",
      "_model_name": "DescriptionStyleModel",
      "_view_count": null,
      "_view_module": "@jupyter-widgets/base",
      "_view_module_version": "1.2.0",
      "_view_name": "StyleView",
      "description_width": ""
     }
    },
    "1a0539d164934982992697667402888b": {
     "model_module": "@jupyter-widgets/controls",
     "model_module_version": "1.5.0",
     "model_name": "FloatProgressModel",
     "state": {
      "_dom_classes": [],
      "_model_module": "@jupyter-widgets/controls",
      "_model_module_version": "1.5.0",
      "_model_name": "FloatProgressModel",
      "_view_count": null,
      "_view_module": "@jupyter-widgets/controls",
      "_view_module_version": "1.5.0",
      "_view_name": "ProgressView",
      "bar_style": "success",
      "description": "",
      "description_tooltip": null,
      "layout": "IPY_MODEL_4ee6a0f4aa3f44498138c744f68b43d2",
      "max": 609,
      "min": 0,
      "orientation": "horizontal",
      "style": "IPY_MODEL_74ce9073cd9a4cd2bf8c42851f24261d",
      "value": 609
     }
    },
    "1d25b4e518514dcb91f2630dd0ad181b": {
     "model_module": "@jupyter-widgets/controls",
     "model_module_version": "1.5.0",
     "model_name": "DescriptionStyleModel",
     "state": {
      "_model_module": "@jupyter-widgets/controls",
      "_model_module_version": "1.5.0",
      "_model_name": "DescriptionStyleModel",
      "_view_count": null,
      "_view_module": "@jupyter-widgets/base",
      "_view_module_version": "1.2.0",
      "_view_name": "StyleView",
      "description_width": ""
     }
    },
    "1e6ddb008983411a9805b76ebfb5a98d": {
     "model_module": "@jupyter-widgets/base",
     "model_module_version": "1.2.0",
     "model_name": "LayoutModel",
     "state": {
      "_model_module": "@jupyter-widgets/base",
      "_model_module_version": "1.2.0",
      "_model_name": "LayoutModel",
      "_view_count": null,
      "_view_module": "@jupyter-widgets/base",
      "_view_module_version": "1.2.0",
      "_view_name": "LayoutView",
      "align_content": null,
      "align_items": null,
      "align_self": null,
      "border": null,
      "bottom": null,
      "display": null,
      "flex": null,
      "flex_flow": null,
      "grid_area": null,
      "grid_auto_columns": null,
      "grid_auto_flow": null,
      "grid_auto_rows": null,
      "grid_column": null,
      "grid_gap": null,
      "grid_row": null,
      "grid_template_areas": null,
      "grid_template_columns": null,
      "grid_template_rows": null,
      "height": null,
      "justify_content": null,
      "justify_items": null,
      "left": null,
      "margin": null,
      "max_height": null,
      "max_width": null,
      "min_height": null,
      "min_width": null,
      "object_fit": null,
      "object_position": null,
      "order": null,
      "overflow": null,
      "overflow_x": null,
      "overflow_y": null,
      "padding": null,
      "right": null,
      "top": null,
      "visibility": null,
      "width": null
     }
    },
    "1ead13d9c0a947569b61c19ef9d82e4e": {
     "model_module": "@jupyter-widgets/controls",
     "model_module_version": "1.5.0",
     "model_name": "HBoxModel",
     "state": {
      "_dom_classes": [],
      "_model_module": "@jupyter-widgets/controls",
      "_model_module_version": "1.5.0",
      "_model_name": "HBoxModel",
      "_view_count": null,
      "_view_module": "@jupyter-widgets/controls",
      "_view_module_version": "1.5.0",
      "_view_name": "HBoxView",
      "box_style": "",
      "children": [
       "IPY_MODEL_8967533baa9d4eae8e57c38c37f44820",
       "IPY_MODEL_7410eca3e7ce45fdbc811038d5f7db83",
       "IPY_MODEL_925f0b5c835341dc90d85a24d8ad97a0"
      ],
      "layout": "IPY_MODEL_6a97f5fa422b425491c56cf7896cd5b6"
     }
    },
    "22263381aefe4bf3a5cecc41aebdcfc1": {
     "model_module": "@jupyter-widgets/controls",
     "model_module_version": "1.5.0",
     "model_name": "DescriptionStyleModel",
     "state": {
      "_model_module": "@jupyter-widgets/controls",
      "_model_module_version": "1.5.0",
      "_model_name": "DescriptionStyleModel",
      "_view_count": null,
      "_view_module": "@jupyter-widgets/base",
      "_view_module_version": "1.2.0",
      "_view_name": "StyleView",
      "description_width": ""
     }
    },
    "304865f4da544e5683478e101a7c9ab9": {
     "model_module": "@jupyter-widgets/controls",
     "model_module_version": "1.5.0",
     "model_name": "HTMLModel",
     "state": {
      "_dom_classes": [],
      "_model_module": "@jupyter-widgets/controls",
      "_model_module_version": "1.5.0",
      "_model_name": "HTMLModel",
      "_view_count": null,
      "_view_module": "@jupyter-widgets/controls",
      "_view_module_version": "1.5.0",
      "_view_name": "HTMLView",
      "description": "",
      "description_tooltip": null,
      "layout": "IPY_MODEL_6a1a3a610fc44c289cd17163716aa720",
      "placeholder": "​",
      "style": "IPY_MODEL_1d25b4e518514dcb91f2630dd0ad181b",
      "value": "Downloading (…)olve/main/vocab.json: 100%"
     }
    },
    "31c2c21c0cb0415c98e49082ed03fb5b": {
     "model_module": "@jupyter-widgets/base",
     "model_module_version": "1.2.0",
     "model_name": "LayoutModel",
     "state": {
      "_model_module": "@jupyter-widgets/base",
      "_model_module_version": "1.2.0",
      "_model_name": "LayoutModel",
      "_view_count": null,
      "_view_module": "@jupyter-widgets/base",
      "_view_module_version": "1.2.0",
      "_view_name": "LayoutView",
      "align_content": null,
      "align_items": null,
      "align_self": null,
      "border": null,
      "bottom": null,
      "display": null,
      "flex": null,
      "flex_flow": null,
      "grid_area": null,
      "grid_auto_columns": null,
      "grid_auto_flow": null,
      "grid_auto_rows": null,
      "grid_column": null,
      "grid_gap": null,
      "grid_row": null,
      "grid_template_areas": null,
      "grid_template_columns": null,
      "grid_template_rows": null,
      "height": null,
      "justify_content": null,
      "justify_items": null,
      "left": null,
      "margin": null,
      "max_height": null,
      "max_width": null,
      "min_height": null,
      "min_width": null,
      "object_fit": null,
      "object_position": null,
      "order": null,
      "overflow": null,
      "overflow_x": null,
      "overflow_y": null,
      "padding": null,
      "right": null,
      "top": null,
      "visibility": null,
      "width": null
     }
    },
    "37e07a47685f464c83b94f37b6884f10": {
     "model_module": "@jupyter-widgets/controls",
     "model_module_version": "1.5.0",
     "model_name": "DescriptionStyleModel",
     "state": {
      "_model_module": "@jupyter-widgets/controls",
      "_model_module_version": "1.5.0",
      "_model_name": "DescriptionStyleModel",
      "_view_count": null,
      "_view_module": "@jupyter-widgets/base",
      "_view_module_version": "1.2.0",
      "_view_name": "StyleView",
      "description_width": ""
     }
    },
    "477ec55b48cc4feb8def81bb862aef0b": {
     "model_module": "@jupyter-widgets/controls",
     "model_module_version": "1.5.0",
     "model_name": "HTMLModel",
     "state": {
      "_dom_classes": [],
      "_model_module": "@jupyter-widgets/controls",
      "_model_module_version": "1.5.0",
      "_model_name": "HTMLModel",
      "_view_count": null,
      "_view_module": "@jupyter-widgets/controls",
      "_view_module_version": "1.5.0",
      "_view_name": "HTMLView",
      "description": "",
      "description_tooltip": null,
      "layout": "IPY_MODEL_7b1475e7a9f24002add16561da313326",
      "placeholder": "​",
      "style": "IPY_MODEL_f8cdad2cf44540e5ac5957c15f4e0d9d",
      "value": "Downloading pytorch_model.bin: 100%"
     }
    },
    "4c552faec76c43b1ab506a215cd780fc": {
     "model_module": "@jupyter-widgets/controls",
     "model_module_version": "1.5.0",
     "model_name": "HTMLModel",
     "state": {
      "_dom_classes": [],
      "_model_module": "@jupyter-widgets/controls",
      "_model_module_version": "1.5.0",
      "_model_name": "HTMLModel",
      "_view_count": null,
      "_view_module": "@jupyter-widgets/controls",
      "_view_module_version": "1.5.0",
      "_view_name": "HTMLView",
      "description": "",
      "description_tooltip": null,
      "layout": "IPY_MODEL_5b3e5afa1076453e93fb3502c98ecf48",
      "placeholder": "​",
      "style": "IPY_MODEL_08a13da3267141dcb29364df7943e595",
      "value": " 609/609 [00:00&lt;00:00, 19.3kB/s]"
     }
    },
    "4ee6a0f4aa3f44498138c744f68b43d2": {
     "model_module": "@jupyter-widgets/base",
     "model_module_version": "1.2.0",
     "model_name": "LayoutModel",
     "state": {
      "_model_module": "@jupyter-widgets/base",
      "_model_module_version": "1.2.0",
      "_model_name": "LayoutModel",
      "_view_count": null,
      "_view_module": "@jupyter-widgets/base",
      "_view_module_version": "1.2.0",
      "_view_name": "LayoutView",
      "align_content": null,
      "align_items": null,
      "align_self": null,
      "border": null,
      "bottom": null,
      "display": null,
      "flex": null,
      "flex_flow": null,
      "grid_area": null,
      "grid_auto_columns": null,
      "grid_auto_flow": null,
      "grid_auto_rows": null,
      "grid_column": null,
      "grid_gap": null,
      "grid_row": null,
      "grid_template_areas": null,
      "grid_template_columns": null,
      "grid_template_rows": null,
      "height": null,
      "justify_content": null,
      "justify_items": null,
      "left": null,
      "margin": null,
      "max_height": null,
      "max_width": null,
      "min_height": null,
      "min_width": null,
      "object_fit": null,
      "object_position": null,
      "order": null,
      "overflow": null,
      "overflow_x": null,
      "overflow_y": null,
      "padding": null,
      "right": null,
      "top": null,
      "visibility": null,
      "width": null
     }
    },
    "502ca33c9065426984f217b702c7a847": {
     "model_module": "@jupyter-widgets/base",
     "model_module_version": "1.2.0",
     "model_name": "LayoutModel",
     "state": {
      "_model_module": "@jupyter-widgets/base",
      "_model_module_version": "1.2.0",
      "_model_name": "LayoutModel",
      "_view_count": null,
      "_view_module": "@jupyter-widgets/base",
      "_view_module_version": "1.2.0",
      "_view_name": "LayoutView",
      "align_content": null,
      "align_items": null,
      "align_self": null,
      "border": null,
      "bottom": null,
      "display": null,
      "flex": null,
      "flex_flow": null,
      "grid_area": null,
      "grid_auto_columns": null,
      "grid_auto_flow": null,
      "grid_auto_rows": null,
      "grid_column": null,
      "grid_gap": null,
      "grid_row": null,
      "grid_template_areas": null,
      "grid_template_columns": null,
      "grid_template_rows": null,
      "height": null,
      "justify_content": null,
      "justify_items": null,
      "left": null,
      "margin": null,
      "max_height": null,
      "max_width": null,
      "min_height": null,
      "min_width": null,
      "object_fit": null,
      "object_position": null,
      "order": null,
      "overflow": null,
      "overflow_x": null,
      "overflow_y": null,
      "padding": null,
      "right": null,
      "top": null,
      "visibility": null,
      "width": null
     }
    },
    "510c28a237b04c37b81f2280f4e0a4b6": {
     "model_module": "@jupyter-widgets/controls",
     "model_module_version": "1.5.0",
     "model_name": "ProgressStyleModel",
     "state": {
      "_model_module": "@jupyter-widgets/controls",
      "_model_module_version": "1.5.0",
      "_model_name": "ProgressStyleModel",
      "_view_count": null,
      "_view_module": "@jupyter-widgets/base",
      "_view_module_version": "1.2.0",
      "_view_name": "StyleView",
      "bar_color": null,
      "description_width": ""
     }
    },
    "5a4d7f691ba64bbba3720f70a1b60db1": {
     "model_module": "@jupyter-widgets/controls",
     "model_module_version": "1.5.0",
     "model_name": "HBoxModel",
     "state": {
      "_dom_classes": [],
      "_model_module": "@jupyter-widgets/controls",
      "_model_module_version": "1.5.0",
      "_model_name": "HBoxModel",
      "_view_count": null,
      "_view_module": "@jupyter-widgets/controls",
      "_view_module_version": "1.5.0",
      "_view_name": "HBoxView",
      "box_style": "",
      "children": [
       "IPY_MODEL_c2af48cb6a6142e89d0816d2635c47f2",
       "IPY_MODEL_1a0539d164934982992697667402888b",
       "IPY_MODEL_4c552faec76c43b1ab506a215cd780fc"
      ],
      "layout": "IPY_MODEL_7c3c96177536489ba86b43f5581f3f1d"
     }
    },
    "5b3e5afa1076453e93fb3502c98ecf48": {
     "model_module": "@jupyter-widgets/base",
     "model_module_version": "1.2.0",
     "model_name": "LayoutModel",
     "state": {
      "_model_module": "@jupyter-widgets/base",
      "_model_module_version": "1.2.0",
      "_model_name": "LayoutModel",
      "_view_count": null,
      "_view_module": "@jupyter-widgets/base",
      "_view_module_version": "1.2.0",
      "_view_name": "LayoutView",
      "align_content": null,
      "align_items": null,
      "align_self": null,
      "border": null,
      "bottom": null,
      "display": null,
      "flex": null,
      "flex_flow": null,
      "grid_area": null,
      "grid_auto_columns": null,
      "grid_auto_flow": null,
      "grid_auto_rows": null,
      "grid_column": null,
      "grid_gap": null,
      "grid_row": null,
      "grid_template_areas": null,
      "grid_template_columns": null,
      "grid_template_rows": null,
      "height": null,
      "justify_content": null,
      "justify_items": null,
      "left": null,
      "margin": null,
      "max_height": null,
      "max_width": null,
      "min_height": null,
      "min_width": null,
      "object_fit": null,
      "object_position": null,
      "order": null,
      "overflow": null,
      "overflow_x": null,
      "overflow_y": null,
      "padding": null,
      "right": null,
      "top": null,
      "visibility": null,
      "width": null
     }
    },
    "618c6fc3d1004b31a5e24651ed77099b": {
     "model_module": "@jupyter-widgets/base",
     "model_module_version": "1.2.0",
     "model_name": "LayoutModel",
     "state": {
      "_model_module": "@jupyter-widgets/base",
      "_model_module_version": "1.2.0",
      "_model_name": "LayoutModel",
      "_view_count": null,
      "_view_module": "@jupyter-widgets/base",
      "_view_module_version": "1.2.0",
      "_view_name": "LayoutView",
      "align_content": null,
      "align_items": null,
      "align_self": null,
      "border": null,
      "bottom": null,
      "display": null,
      "flex": null,
      "flex_flow": null,
      "grid_area": null,
      "grid_auto_columns": null,
      "grid_auto_flow": null,
      "grid_auto_rows": null,
      "grid_column": null,
      "grid_gap": null,
      "grid_row": null,
      "grid_template_areas": null,
      "grid_template_columns": null,
      "grid_template_rows": null,
      "height": null,
      "justify_content": null,
      "justify_items": null,
      "left": null,
      "margin": null,
      "max_height": null,
      "max_width": null,
      "min_height": null,
      "min_width": null,
      "object_fit": null,
      "object_position": null,
      "order": null,
      "overflow": null,
      "overflow_x": null,
      "overflow_y": null,
      "padding": null,
      "right": null,
      "top": null,
      "visibility": null,
      "width": null
     }
    },
    "6a1a3a610fc44c289cd17163716aa720": {
     "model_module": "@jupyter-widgets/base",
     "model_module_version": "1.2.0",
     "model_name": "LayoutModel",
     "state": {
      "_model_module": "@jupyter-widgets/base",
      "_model_module_version": "1.2.0",
      "_model_name": "LayoutModel",
      "_view_count": null,
      "_view_module": "@jupyter-widgets/base",
      "_view_module_version": "1.2.0",
      "_view_name": "LayoutView",
      "align_content": null,
      "align_items": null,
      "align_self": null,
      "border": null,
      "bottom": null,
      "display": null,
      "flex": null,
      "flex_flow": null,
      "grid_area": null,
      "grid_auto_columns": null,
      "grid_auto_flow": null,
      "grid_auto_rows": null,
      "grid_column": null,
      "grid_gap": null,
      "grid_row": null,
      "grid_template_areas": null,
      "grid_template_columns": null,
      "grid_template_rows": null,
      "height": null,
      "justify_content": null,
      "justify_items": null,
      "left": null,
      "margin": null,
      "max_height": null,
      "max_width": null,
      "min_height": null,
      "min_width": null,
      "object_fit": null,
      "object_position": null,
      "order": null,
      "overflow": null,
      "overflow_x": null,
      "overflow_y": null,
      "padding": null,
      "right": null,
      "top": null,
      "visibility": null,
      "width": null
     }
    },
    "6a97f5fa422b425491c56cf7896cd5b6": {
     "model_module": "@jupyter-widgets/base",
     "model_module_version": "1.2.0",
     "model_name": "LayoutModel",
     "state": {
      "_model_module": "@jupyter-widgets/base",
      "_model_module_version": "1.2.0",
      "_model_name": "LayoutModel",
      "_view_count": null,
      "_view_module": "@jupyter-widgets/base",
      "_view_module_version": "1.2.0",
      "_view_name": "LayoutView",
      "align_content": null,
      "align_items": null,
      "align_self": null,
      "border": null,
      "bottom": null,
      "display": null,
      "flex": null,
      "flex_flow": null,
      "grid_area": null,
      "grid_auto_columns": null,
      "grid_auto_flow": null,
      "grid_auto_rows": null,
      "grid_column": null,
      "grid_gap": null,
      "grid_row": null,
      "grid_template_areas": null,
      "grid_template_columns": null,
      "grid_template_rows": null,
      "height": null,
      "justify_content": null,
      "justify_items": null,
      "left": null,
      "margin": null,
      "max_height": null,
      "max_width": null,
      "min_height": null,
      "min_width": null,
      "object_fit": null,
      "object_position": null,
      "order": null,
      "overflow": null,
      "overflow_x": null,
      "overflow_y": null,
      "padding": null,
      "right": null,
      "top": null,
      "visibility": null,
      "width": null
     }
    },
    "7410eca3e7ce45fdbc811038d5f7db83": {
     "model_module": "@jupyter-widgets/controls",
     "model_module_version": "1.5.0",
     "model_name": "FloatProgressModel",
     "state": {
      "_dom_classes": [],
      "_model_module": "@jupyter-widgets/controls",
      "_model_module_version": "1.5.0",
      "_model_name": "FloatProgressModel",
      "_view_count": null,
      "_view_module": "@jupyter-widgets/controls",
      "_view_module_version": "1.5.0",
      "_view_name": "ProgressView",
      "bar_style": "success",
      "description": "",
      "description_tooltip": null,
      "layout": "IPY_MODEL_14a52df608694f6ba17c0c6502860532",
      "max": 1270925,
      "min": 0,
      "orientation": "horizontal",
      "style": "IPY_MODEL_510c28a237b04c37b81f2280f4e0a4b6",
      "value": 1270925
     }
    },
    "74ce9073cd9a4cd2bf8c42851f24261d": {
     "model_module": "@jupyter-widgets/controls",
     "model_module_version": "1.5.0",
     "model_name": "ProgressStyleModel",
     "state": {
      "_model_module": "@jupyter-widgets/controls",
      "_model_module_version": "1.5.0",
      "_model_name": "ProgressStyleModel",
      "_view_count": null,
      "_view_module": "@jupyter-widgets/base",
      "_view_module_version": "1.2.0",
      "_view_name": "StyleView",
      "bar_color": null,
      "description_width": ""
     }
    },
    "7b1475e7a9f24002add16561da313326": {
     "model_module": "@jupyter-widgets/base",
     "model_module_version": "1.2.0",
     "model_name": "LayoutModel",
     "state": {
      "_model_module": "@jupyter-widgets/base",
      "_model_module_version": "1.2.0",
      "_model_name": "LayoutModel",
      "_view_count": null,
      "_view_module": "@jupyter-widgets/base",
      "_view_module_version": "1.2.0",
      "_view_name": "LayoutView",
      "align_content": null,
      "align_items": null,
      "align_self": null,
      "border": null,
      "bottom": null,
      "display": null,
      "flex": null,
      "flex_flow": null,
      "grid_area": null,
      "grid_auto_columns": null,
      "grid_auto_flow": null,
      "grid_auto_rows": null,
      "grid_column": null,
      "grid_gap": null,
      "grid_row": null,
      "grid_template_areas": null,
      "grid_template_columns": null,
      "grid_template_rows": null,
      "height": null,
      "justify_content": null,
      "justify_items": null,
      "left": null,
      "margin": null,
      "max_height": null,
      "max_width": null,
      "min_height": null,
      "min_width": null,
      "object_fit": null,
      "object_position": null,
      "order": null,
      "overflow": null,
      "overflow_x": null,
      "overflow_y": null,
      "padding": null,
      "right": null,
      "top": null,
      "visibility": null,
      "width": null
     }
    },
    "7c3c96177536489ba86b43f5581f3f1d": {
     "model_module": "@jupyter-widgets/base",
     "model_module_version": "1.2.0",
     "model_name": "LayoutModel",
     "state": {
      "_model_module": "@jupyter-widgets/base",
      "_model_module_version": "1.2.0",
      "_model_name": "LayoutModel",
      "_view_count": null,
      "_view_module": "@jupyter-widgets/base",
      "_view_module_version": "1.2.0",
      "_view_name": "LayoutView",
      "align_content": null,
      "align_items": null,
      "align_self": null,
      "border": null,
      "bottom": null,
      "display": null,
      "flex": null,
      "flex_flow": null,
      "grid_area": null,
      "grid_auto_columns": null,
      "grid_auto_flow": null,
      "grid_auto_rows": null,
      "grid_column": null,
      "grid_gap": null,
      "grid_row": null,
      "grid_template_areas": null,
      "grid_template_columns": null,
      "grid_template_rows": null,
      "height": null,
      "justify_content": null,
      "justify_items": null,
      "left": null,
      "margin": null,
      "max_height": null,
      "max_width": null,
      "min_height": null,
      "min_width": null,
      "object_fit": null,
      "object_position": null,
      "order": null,
      "overflow": null,
      "overflow_x": null,
      "overflow_y": null,
      "padding": null,
      "right": null,
      "top": null,
      "visibility": null,
      "width": null
     }
    },
    "7ed79d088c894e6586d90a6ce252d5a1": {
     "model_module": "@jupyter-widgets/base",
     "model_module_version": "1.2.0",
     "model_name": "LayoutModel",
     "state": {
      "_model_module": "@jupyter-widgets/base",
      "_model_module_version": "1.2.0",
      "_model_name": "LayoutModel",
      "_view_count": null,
      "_view_module": "@jupyter-widgets/base",
      "_view_module_version": "1.2.0",
      "_view_name": "LayoutView",
      "align_content": null,
      "align_items": null,
      "align_self": null,
      "border": null,
      "bottom": null,
      "display": null,
      "flex": null,
      "flex_flow": null,
      "grid_area": null,
      "grid_auto_columns": null,
      "grid_auto_flow": null,
      "grid_auto_rows": null,
      "grid_column": null,
      "grid_gap": null,
      "grid_row": null,
      "grid_template_areas": null,
      "grid_template_columns": null,
      "grid_template_rows": null,
      "height": null,
      "justify_content": null,
      "justify_items": null,
      "left": null,
      "margin": null,
      "max_height": null,
      "max_width": null,
      "min_height": null,
      "min_width": null,
      "object_fit": null,
      "object_position": null,
      "order": null,
      "overflow": null,
      "overflow_x": null,
      "overflow_y": null,
      "padding": null,
      "right": null,
      "top": null,
      "visibility": null,
      "width": null
     }
    },
    "7eecf193a1d9475b91436530a639eb49": {
     "model_module": "@jupyter-widgets/controls",
     "model_module_version": "1.5.0",
     "model_name": "DescriptionStyleModel",
     "state": {
      "_model_module": "@jupyter-widgets/controls",
      "_model_module_version": "1.5.0",
      "_model_name": "DescriptionStyleModel",
      "_view_count": null,
      "_view_module": "@jupyter-widgets/base",
      "_view_module_version": "1.2.0",
      "_view_name": "StyleView",
      "description_width": ""
     }
    },
    "8508cb29d07c496a81d9ea2e0308f850": {
     "model_module": "@jupyter-widgets/base",
     "model_module_version": "1.2.0",
     "model_name": "LayoutModel",
     "state": {
      "_model_module": "@jupyter-widgets/base",
      "_model_module_version": "1.2.0",
      "_model_name": "LayoutModel",
      "_view_count": null,
      "_view_module": "@jupyter-widgets/base",
      "_view_module_version": "1.2.0",
      "_view_name": "LayoutView",
      "align_content": null,
      "align_items": null,
      "align_self": null,
      "border": null,
      "bottom": null,
      "display": null,
      "flex": null,
      "flex_flow": null,
      "grid_area": null,
      "grid_auto_columns": null,
      "grid_auto_flow": null,
      "grid_auto_rows": null,
      "grid_column": null,
      "grid_gap": null,
      "grid_row": null,
      "grid_template_areas": null,
      "grid_template_columns": null,
      "grid_template_rows": null,
      "height": null,
      "justify_content": null,
      "justify_items": null,
      "left": null,
      "margin": null,
      "max_height": null,
      "max_width": null,
      "min_height": null,
      "min_width": null,
      "object_fit": null,
      "object_position": null,
      "order": null,
      "overflow": null,
      "overflow_x": null,
      "overflow_y": null,
      "padding": null,
      "right": null,
      "top": null,
      "visibility": null,
      "width": null
     }
    },
    "8967533baa9d4eae8e57c38c37f44820": {
     "model_module": "@jupyter-widgets/controls",
     "model_module_version": "1.5.0",
     "model_name": "HTMLModel",
     "state": {
      "_dom_classes": [],
      "_model_module": "@jupyter-widgets/controls",
      "_model_module_version": "1.5.0",
      "_model_name": "HTMLModel",
      "_view_count": null,
      "_view_module": "@jupyter-widgets/controls",
      "_view_module_version": "1.5.0",
      "_view_name": "HTMLView",
      "description": "",
      "description_tooltip": null,
      "layout": "IPY_MODEL_618c6fc3d1004b31a5e24651ed77099b",
      "placeholder": "​",
      "style": "IPY_MODEL_22263381aefe4bf3a5cecc41aebdcfc1",
      "value": "Downloading (…)olve/main/merges.txt: 100%"
     }
    },
    "8a3c99d6581d4a92be6c0e3534f4bf4e": {
     "model_module": "@jupyter-widgets/base",
     "model_module_version": "1.2.0",
     "model_name": "LayoutModel",
     "state": {
      "_model_module": "@jupyter-widgets/base",
      "_model_module_version": "1.2.0",
      "_model_name": "LayoutModel",
      "_view_count": null,
      "_view_module": "@jupyter-widgets/base",
      "_view_module_version": "1.2.0",
      "_view_name": "LayoutView",
      "align_content": null,
      "align_items": null,
      "align_self": null,
      "border": null,
      "bottom": null,
      "display": null,
      "flex": null,
      "flex_flow": null,
      "grid_area": null,
      "grid_auto_columns": null,
      "grid_auto_flow": null,
      "grid_auto_rows": null,
      "grid_column": null,
      "grid_gap": null,
      "grid_row": null,
      "grid_template_areas": null,
      "grid_template_columns": null,
      "grid_template_rows": null,
      "height": null,
      "justify_content": null,
      "justify_items": null,
      "left": null,
      "margin": null,
      "max_height": null,
      "max_width": null,
      "min_height": null,
      "min_width": null,
      "object_fit": null,
      "object_position": null,
      "order": null,
      "overflow": null,
      "overflow_x": null,
      "overflow_y": null,
      "padding": null,
      "right": null,
      "top": null,
      "visibility": null,
      "width": null
     }
    },
    "8e6eb92b4c0a42899e02b84589bdde28": {
     "model_module": "@jupyter-widgets/controls",
     "model_module_version": "1.5.0",
     "model_name": "DescriptionStyleModel",
     "state": {
      "_model_module": "@jupyter-widgets/controls",
      "_model_module_version": "1.5.0",
      "_model_name": "DescriptionStyleModel",
      "_view_count": null,
      "_view_module": "@jupyter-widgets/base",
      "_view_module_version": "1.2.0",
      "_view_name": "StyleView",
      "description_width": ""
     }
    },
    "925f0b5c835341dc90d85a24d8ad97a0": {
     "model_module": "@jupyter-widgets/controls",
     "model_module_version": "1.5.0",
     "model_name": "HTMLModel",
     "state": {
      "_dom_classes": [],
      "_model_module": "@jupyter-widgets/controls",
      "_model_module_version": "1.5.0",
      "_model_name": "HTMLModel",
      "_view_count": null,
      "_view_module": "@jupyter-widgets/controls",
      "_view_module_version": "1.5.0",
      "_view_name": "HTMLView",
      "description": "",
      "description_tooltip": null,
      "layout": "IPY_MODEL_a8142e0e43c845198b32f329356ef2e5",
      "placeholder": "​",
      "style": "IPY_MODEL_37e07a47685f464c83b94f37b6884f10",
      "value": " 1.27M/1.27M [00:00&lt;00:00, 16.8MB/s]"
     }
    },
    "93cd5d291a24445ca74726a4796d1931": {
     "model_module": "@jupyter-widgets/controls",
     "model_module_version": "1.5.0",
     "model_name": "HTMLModel",
     "state": {
      "_dom_classes": [],
      "_model_module": "@jupyter-widgets/controls",
      "_model_module_version": "1.5.0",
      "_model_name": "HTMLModel",
      "_view_count": null,
      "_view_module": "@jupyter-widgets/controls",
      "_view_module_version": "1.5.0",
      "_view_name": "HTMLView",
      "description": "",
      "description_tooltip": null,
      "layout": "IPY_MODEL_502ca33c9065426984f217b702c7a847",
      "placeholder": "​",
      "style": "IPY_MODEL_8e6eb92b4c0a42899e02b84589bdde28",
      "value": " 1.71M/1.71M [00:00&lt;00:00, 7.26MB/s]"
     }
    },
    "9d08ed8a018a49e5990c4e07b45c4f0d": {
     "model_module": "@jupyter-widgets/base",
     "model_module_version": "1.2.0",
     "model_name": "LayoutModel",
     "state": {
      "_model_module": "@jupyter-widgets/base",
      "_model_module_version": "1.2.0",
      "_model_name": "LayoutModel",
      "_view_count": null,
      "_view_module": "@jupyter-widgets/base",
      "_view_module_version": "1.2.0",
      "_view_name": "LayoutView",
      "align_content": null,
      "align_items": null,
      "align_self": null,
      "border": null,
      "bottom": null,
      "display": null,
      "flex": null,
      "flex_flow": null,
      "grid_area": null,
      "grid_auto_columns": null,
      "grid_auto_flow": null,
      "grid_auto_rows": null,
      "grid_column": null,
      "grid_gap": null,
      "grid_row": null,
      "grid_template_areas": null,
      "grid_template_columns": null,
      "grid_template_rows": null,
      "height": null,
      "justify_content": null,
      "justify_items": null,
      "left": null,
      "margin": null,
      "max_height": null,
      "max_width": null,
      "min_height": null,
      "min_width": null,
      "object_fit": null,
      "object_position": null,
      "order": null,
      "overflow": null,
      "overflow_x": null,
      "overflow_y": null,
      "padding": null,
      "right": null,
      "top": null,
      "visibility": null,
      "width": null
     }
    },
    "a8142e0e43c845198b32f329356ef2e5": {
     "model_module": "@jupyter-widgets/base",
     "model_module_version": "1.2.0",
     "model_name": "LayoutModel",
     "state": {
      "_model_module": "@jupyter-widgets/base",
      "_model_module_version": "1.2.0",
      "_model_name": "LayoutModel",
      "_view_count": null,
      "_view_module": "@jupyter-widgets/base",
      "_view_module_version": "1.2.0",
      "_view_name": "LayoutView",
      "align_content": null,
      "align_items": null,
      "align_self": null,
      "border": null,
      "bottom": null,
      "display": null,
      "flex": null,
      "flex_flow": null,
      "grid_area": null,
      "grid_auto_columns": null,
      "grid_auto_flow": null,
      "grid_auto_rows": null,
      "grid_column": null,
      "grid_gap": null,
      "grid_row": null,
      "grid_template_areas": null,
      "grid_template_columns": null,
      "grid_template_rows": null,
      "height": null,
      "justify_content": null,
      "justify_items": null,
      "left": null,
      "margin": null,
      "max_height": null,
      "max_width": null,
      "min_height": null,
      "min_width": null,
      "object_fit": null,
      "object_position": null,
      "order": null,
      "overflow": null,
      "overflow_x": null,
      "overflow_y": null,
      "padding": null,
      "right": null,
      "top": null,
      "visibility": null,
      "width": null
     }
    },
    "b41a25fd7d854338aca293b05caab1f3": {
     "model_module": "@jupyter-widgets/controls",
     "model_module_version": "1.5.0",
     "model_name": "ProgressStyleModel",
     "state": {
      "_model_module": "@jupyter-widgets/controls",
      "_model_module_version": "1.5.0",
      "_model_name": "ProgressStyleModel",
      "_view_count": null,
      "_view_module": "@jupyter-widgets/base",
      "_view_module_version": "1.2.0",
      "_view_name": "StyleView",
      "bar_color": null,
      "description_width": ""
     }
    },
    "b7a049dde5884df39f4e504a56b57b54": {
     "model_module": "@jupyter-widgets/controls",
     "model_module_version": "1.5.0",
     "model_name": "HTMLModel",
     "state": {
      "_dom_classes": [],
      "_model_module": "@jupyter-widgets/controls",
      "_model_module_version": "1.5.0",
      "_model_name": "HTMLModel",
      "_view_count": null,
      "_view_module": "@jupyter-widgets/controls",
      "_view_module_version": "1.5.0",
      "_view_name": "HTMLView",
      "description": "",
      "description_tooltip": null,
      "layout": "IPY_MODEL_8a3c99d6581d4a92be6c0e3534f4bf4e",
      "placeholder": "​",
      "style": "IPY_MODEL_7eecf193a1d9475b91436530a639eb49",
      "value": " 3.14G/3.14G [00:41&lt;00:00, 80.1MB/s]"
     }
    },
    "c2af48cb6a6142e89d0816d2635c47f2": {
     "model_module": "@jupyter-widgets/controls",
     "model_module_version": "1.5.0",
     "model_name": "HTMLModel",
     "state": {
      "_dom_classes": [],
      "_model_module": "@jupyter-widgets/controls",
      "_model_module_version": "1.5.0",
      "_model_name": "HTMLModel",
      "_view_count": null,
      "_view_module": "@jupyter-widgets/controls",
      "_view_module_version": "1.5.0",
      "_view_name": "HTMLView",
      "description": "",
      "description_tooltip": null,
      "layout": "IPY_MODEL_31c2c21c0cb0415c98e49082ed03fb5b",
      "placeholder": "​",
      "style": "IPY_MODEL_1760f99805ba4d53915ed313e86f29e2",
      "value": "Downloading (…)lve/main/config.json: 100%"
     }
    },
    "d760a0bb692c46d7bc60a9022b08e75e": {
     "model_module": "@jupyter-widgets/controls",
     "model_module_version": "1.5.0",
     "model_name": "FloatProgressModel",
     "state": {
      "_dom_classes": [],
      "_model_module": "@jupyter-widgets/controls",
      "_model_module_version": "1.5.0",
      "_model_name": "FloatProgressModel",
      "_view_count": null,
      "_view_module": "@jupyter-widgets/controls",
      "_view_module_version": "1.5.0",
      "_view_name": "ProgressView",
      "bar_style": "success",
      "description": "",
      "description_tooltip": null,
      "layout": "IPY_MODEL_9d08ed8a018a49e5990c4e07b45c4f0d",
      "max": 1713123,
      "min": 0,
      "orientation": "horizontal",
      "style": "IPY_MODEL_b41a25fd7d854338aca293b05caab1f3",
      "value": 1713123
     }
    },
    "f0b2808b4c0a4b13a3a1b8169e60b2ba": {
     "model_module": "@jupyter-widgets/controls",
     "model_module_version": "1.5.0",
     "model_name": "HBoxModel",
     "state": {
      "_dom_classes": [],
      "_model_module": "@jupyter-widgets/controls",
      "_model_module_version": "1.5.0",
      "_model_name": "HBoxModel",
      "_view_count": null,
      "_view_module": "@jupyter-widgets/controls",
      "_view_module_version": "1.5.0",
      "_view_name": "HBoxView",
      "box_style": "",
      "children": [
       "IPY_MODEL_477ec55b48cc4feb8def81bb862aef0b",
       "IPY_MODEL_070211f6a0c744b490da008f7beb2eff",
       "IPY_MODEL_b7a049dde5884df39f4e504a56b57b54"
      ],
      "layout": "IPY_MODEL_1e6ddb008983411a9805b76ebfb5a98d"
     }
    },
    "f8cdad2cf44540e5ac5957c15f4e0d9d": {
     "model_module": "@jupyter-widgets/controls",
     "model_module_version": "1.5.0",
     "model_name": "DescriptionStyleModel",
     "state": {
      "_model_module": "@jupyter-widgets/controls",
      "_model_module_version": "1.5.0",
      "_model_name": "DescriptionStyleModel",
      "_view_count": null,
      "_view_module": "@jupyter-widgets/base",
      "_view_module_version": "1.2.0",
      "_view_name": "StyleView",
      "description_width": ""
     }
    },
    "fc6d5586e86e49e494ac2332a38d1d21": {
     "model_module": "@jupyter-widgets/controls",
     "model_module_version": "1.5.0",
     "model_name": "HBoxModel",
     "state": {
      "_dom_classes": [],
      "_model_module": "@jupyter-widgets/controls",
      "_model_module_version": "1.5.0",
      "_model_name": "HBoxModel",
      "_view_count": null,
      "_view_module": "@jupyter-widgets/controls",
      "_view_module_version": "1.5.0",
      "_view_name": "HBoxView",
      "box_style": "",
      "children": [
       "IPY_MODEL_304865f4da544e5683478e101a7c9ab9",
       "IPY_MODEL_d760a0bb692c46d7bc60a9022b08e75e",
       "IPY_MODEL_93cd5d291a24445ca74726a4796d1931"
      ],
      "layout": "IPY_MODEL_7ed79d088c894e6586d90a6ce252d5a1"
     }
    }
   }
  }
 },
 "nbformat": 4,
 "nbformat_minor": 5
}
